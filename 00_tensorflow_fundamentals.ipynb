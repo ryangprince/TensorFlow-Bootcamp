{
  "nbformat": 4,
  "nbformat_minor": 0,
  "metadata": {
    "colab": {
      "provenance": [],
      "toc_visible": true,
      "authorship_tag": "ABX9TyM1vA9+Gtf17awFuR3GXPE6",
      "include_colab_link": true
    },
    "kernelspec": {
      "name": "python3",
      "display_name": "Python 3"
    },
    "language_info": {
      "name": "python"
    }
  },
  "cells": [
    {
      "cell_type": "markdown",
      "metadata": {
        "id": "view-in-github",
        "colab_type": "text"
      },
      "source": [
        "<a href=\"https://colab.research.google.com/github/ryangprince/TensorFlow-Bootcamp/blob/main/00_tensorflow_fundamentals.ipynb\" target=\"_parent\"><img src=\"https://colab.research.google.com/assets/colab-badge.svg\" alt=\"Open In Colab\"/></a>"
      ]
    },
    {
      "cell_type": "markdown",
      "source": [
        "What are we going to do?\n",
        "\n",
        "More specifically, we're going to cover:\n",
        "* Introduction to tensors.\n",
        "* Getting information from tensors.\n",
        "* Manipulating tensors.\n",
        "* Tensors & Numpy\n",
        "* Using @tf.function (a way to speed up your regular python functions)\n",
        "* Using GPUs with TensorFlow (or TPUs)\n",
        "* Exercises to try for yourself!"
      ],
      "metadata": {
        "id": "CJGU3LHFfTkE"
      }
    },
    {
      "cell_type": "markdown",
      "source": [
        "## Introduction to Tensors"
      ],
      "metadata": {
        "id": "B-6qO58bf4kE"
      }
    },
    {
      "cell_type": "code",
      "execution_count": null,
      "metadata": {
        "colab": {
          "base_uri": "https://localhost:8080/"
        },
        "id": "J6cGl_efdjZL",
        "outputId": "54965612-5572-4d69-db9c-337503777981"
      },
      "outputs": [
        {
          "output_type": "stream",
          "name": "stdout",
          "text": [
            "2.17.1\n"
          ]
        }
      ],
      "source": [
        "# Import TensorFlow\n",
        "import tensorflow as tf\n",
        "print(tf.__version__)"
      ]
    },
    {
      "cell_type": "code",
      "source": [
        "# Create tensors with tf.constant()\n",
        "scalar = tf.constant(7)\n",
        "scalar"
      ],
      "metadata": {
        "colab": {
          "base_uri": "https://localhost:8080/"
        },
        "id": "sfxEso4ZnRRD",
        "outputId": "cdf4e896-c795-47f4-ef4e-ae6f6894e959"
      },
      "execution_count": null,
      "outputs": [
        {
          "output_type": "execute_result",
          "data": {
            "text/plain": [
              "<tf.Tensor: shape=(), dtype=int32, numpy=7>"
            ]
          },
          "metadata": {},
          "execution_count": 2
        }
      ]
    },
    {
      "cell_type": "code",
      "source": [
        "# Check the number of dimensions of a tensor (ndim stands for number of dimensions)\n",
        "scalar.ndim"
      ],
      "metadata": {
        "colab": {
          "base_uri": "https://localhost:8080/"
        },
        "id": "sBrMuTKwnqQW",
        "outputId": "69891789-81be-4b13-b0f6-0b507bb05deb"
      },
      "execution_count": null,
      "outputs": [
        {
          "output_type": "execute_result",
          "data": {
            "text/plain": [
              "0"
            ]
          },
          "metadata": {},
          "execution_count": 3
        }
      ]
    },
    {
      "cell_type": "code",
      "source": [
        "# Create a vector\n",
        "vector = tf.constant([10, 10])\n",
        "vector"
      ],
      "metadata": {
        "colab": {
          "base_uri": "https://localhost:8080/"
        },
        "id": "HGNObW591zJE",
        "outputId": "09789b41-a4c6-46bf-92c8-4a6e847ad410"
      },
      "execution_count": null,
      "outputs": [
        {
          "output_type": "execute_result",
          "data": {
            "text/plain": [
              "<tf.Tensor: shape=(2,), dtype=int32, numpy=array([10, 10], dtype=int32)>"
            ]
          },
          "metadata": {},
          "execution_count": 4
        }
      ]
    },
    {
      "cell_type": "code",
      "source": [
        "# Check the dimensions of our vector\n",
        "vector.ndim"
      ],
      "metadata": {
        "colab": {
          "base_uri": "https://localhost:8080/"
        },
        "id": "hSFjuyke2BCu",
        "outputId": "af8c3158-dc53-4c5a-8904-221cd829cd91"
      },
      "execution_count": null,
      "outputs": [
        {
          "output_type": "execute_result",
          "data": {
            "text/plain": [
              "1"
            ]
          },
          "metadata": {},
          "execution_count": 5
        }
      ]
    },
    {
      "cell_type": "code",
      "source": [
        "# Create a matrix (a matrix has more than one dimension)\n",
        "matrix = tf.constant([[10, 7],\n",
        "                      [7, 10]])\n",
        "matrix"
      ],
      "metadata": {
        "colab": {
          "base_uri": "https://localhost:8080/"
        },
        "id": "_nmOaRH_2Tz-",
        "outputId": "542fca9c-478e-450a-ec16-4eaaba032b58"
      },
      "execution_count": null,
      "outputs": [
        {
          "output_type": "execute_result",
          "data": {
            "text/plain": [
              "<tf.Tensor: shape=(2, 2), dtype=int32, numpy=\n",
              "array([[10,  7],\n",
              "       [ 7, 10]], dtype=int32)>"
            ]
          },
          "metadata": {},
          "execution_count": 6
        }
      ]
    },
    {
      "cell_type": "code",
      "source": [
        "matrix.ndim"
      ],
      "metadata": {
        "colab": {
          "base_uri": "https://localhost:8080/"
        },
        "id": "qrVMjPAX2lqW",
        "outputId": "b8dd8fa3-cf2e-49b5-f505-9448db890cd1"
      },
      "execution_count": null,
      "outputs": [
        {
          "output_type": "execute_result",
          "data": {
            "text/plain": [
              "2"
            ]
          },
          "metadata": {},
          "execution_count": 7
        }
      ]
    },
    {
      "cell_type": "code",
      "source": [
        "# Create another matrix\n",
        "another_matrix = tf.constant([[10., 7.],\n",
        "                              [3., 2.],\n",
        "                              [8., 9.]], dtype=tf.float16) # specify the data type with dtype parameter\n",
        "another_matrix"
      ],
      "metadata": {
        "colab": {
          "base_uri": "https://localhost:8080/"
        },
        "id": "h1Vdin3-3Cga",
        "outputId": "dca32062-0a97-4b21-d5aa-62ec8e71b701"
      },
      "execution_count": null,
      "outputs": [
        {
          "output_type": "execute_result",
          "data": {
            "text/plain": [
              "<tf.Tensor: shape=(3, 2), dtype=float16, numpy=\n",
              "array([[10.,  7.],\n",
              "       [ 3.,  2.],\n",
              "       [ 8.,  9.]], dtype=float16)>"
            ]
          },
          "metadata": {},
          "execution_count": 8
        }
      ]
    },
    {
      "cell_type": "code",
      "source": [
        "# What's the number of dimensions of another_matrix?\n",
        "another_matrix.ndim"
      ],
      "metadata": {
        "colab": {
          "base_uri": "https://localhost:8080/"
        },
        "id": "RzpN434v4RNS",
        "outputId": "d3a627dc-c374-4e9a-b59e-9cac252f2165"
      },
      "execution_count": null,
      "outputs": [
        {
          "output_type": "execute_result",
          "data": {
            "text/plain": [
              "2"
            ]
          },
          "metadata": {},
          "execution_count": 9
        }
      ]
    },
    {
      "cell_type": "code",
      "source": [
        "# Let's create a tensor\n",
        "tensor = tf.constant([[[1, 2, 3],\n",
        "                       [4, 5, 6]],\n",
        "                      [[7, 8, 9],\n",
        "                       [10, 11, 12]],\n",
        "                      [[13, 14, 15],\n",
        "                       [16, 17, 18]]])\n",
        "tensor"
      ],
      "metadata": {
        "colab": {
          "base_uri": "https://localhost:8080/"
        },
        "id": "x2jNlMFE46nQ",
        "outputId": "15ea87ce-eeea-4425-c80c-f33cb5b27234"
      },
      "execution_count": null,
      "outputs": [
        {
          "output_type": "execute_result",
          "data": {
            "text/plain": [
              "<tf.Tensor: shape=(3, 2, 3), dtype=int32, numpy=\n",
              "array([[[ 1,  2,  3],\n",
              "        [ 4,  5,  6]],\n",
              "\n",
              "       [[ 7,  8,  9],\n",
              "        [10, 11, 12]],\n",
              "\n",
              "       [[13, 14, 15],\n",
              "        [16, 17, 18]]], dtype=int32)>"
            ]
          },
          "metadata": {},
          "execution_count": 10
        }
      ]
    },
    {
      "cell_type": "code",
      "source": [
        "tensor.ndim"
      ],
      "metadata": {
        "colab": {
          "base_uri": "https://localhost:8080/"
        },
        "id": "9wD8Xtl452hd",
        "outputId": "7c4715c5-8ee4-4022-ce93-2cbef1b553d8"
      },
      "execution_count": null,
      "outputs": [
        {
          "output_type": "execute_result",
          "data": {
            "text/plain": [
              "3"
            ]
          },
          "metadata": {},
          "execution_count": 11
        }
      ]
    },
    {
      "cell_type": "markdown",
      "source": [
        "What we've created so far:\n",
        "\n",
        "* Scalar: a single number\n",
        "* Vector: a number with direction (e.g. wind speed and direction)\n",
        "* Matrix: a 2-dimensional array of numbers\n",
        "* Tensor: an n-dimensional array of numbers (where n can be any number, a 0-dimensional tensor is a scalar, a 1-dimensional tensor is a vector)"
      ],
      "metadata": {
        "id": "ZZlcZ00L77Qi"
      }
    },
    {
      "cell_type": "markdown",
      "source": [
        "### Creating tensors with `tf.Variable`"
      ],
      "metadata": {
        "id": "eK-kBxsgOHbj"
      }
    },
    {
      "cell_type": "code",
      "source": [
        "# Create the same tensor with tf.Variable() as above\n",
        "changeable_tensor = tf.Variable([10, 7])\n",
        "unchangeable_tensor = tf.constant([10, 7])\n",
        "changeable_tensor, unchangeable_tensor"
      ],
      "metadata": {
        "id": "Ge6LtpVf56sa",
        "colab": {
          "base_uri": "https://localhost:8080/"
        },
        "outputId": "f1444b2d-24d8-44dc-c60b-a821ad849810"
      },
      "execution_count": null,
      "outputs": [
        {
          "output_type": "execute_result",
          "data": {
            "text/plain": [
              "(<tf.Variable 'Variable:0' shape=(2,) dtype=int32, numpy=array([10,  7], dtype=int32)>,\n",
              " <tf.Tensor: shape=(2,), dtype=int32, numpy=array([10,  7], dtype=int32)>)"
            ]
          },
          "metadata": {},
          "execution_count": 12
        }
      ]
    },
    {
      "cell_type": "code",
      "source": [
        "# Let's try to change one of the elements in our changeable tensor\n",
        "changeable_tensor[0] = 7\n",
        "changeable_tensor"
      ],
      "metadata": {
        "id": "KPGoptJe6huH",
        "colab": {
          "base_uri": "https://localhost:8080/",
          "height": 176
        },
        "outputId": "198d71e4-c700-4814-d479-12d6f753a8b1"
      },
      "execution_count": null,
      "outputs": [
        {
          "output_type": "error",
          "ename": "TypeError",
          "evalue": "'ResourceVariable' object does not support item assignment",
          "traceback": [
            "\u001b[0;31m---------------------------------------------------------------------------\u001b[0m",
            "\u001b[0;31mTypeError\u001b[0m                                 Traceback (most recent call last)",
            "\u001b[0;32m<ipython-input-13-9972a815a90d>\u001b[0m in \u001b[0;36m<cell line: 0>\u001b[0;34m()\u001b[0m\n\u001b[1;32m      1\u001b[0m \u001b[0;31m# Let's try to change one of the elements in our changeable tensor\u001b[0m\u001b[0;34m\u001b[0m\u001b[0;34m\u001b[0m\u001b[0m\n\u001b[0;32m----> 2\u001b[0;31m \u001b[0mchangeable_tensor\u001b[0m\u001b[0;34m[\u001b[0m\u001b[0;36m0\u001b[0m\u001b[0;34m]\u001b[0m \u001b[0;34m=\u001b[0m \u001b[0;36m7\u001b[0m\u001b[0;34m\u001b[0m\u001b[0;34m\u001b[0m\u001b[0m\n\u001b[0m\u001b[1;32m      3\u001b[0m \u001b[0mchangeable_tensor\u001b[0m\u001b[0;34m\u001b[0m\u001b[0;34m\u001b[0m\u001b[0m\n",
            "\u001b[0;31mTypeError\u001b[0m: 'ResourceVariable' object does not support item assignment"
          ]
        }
      ]
    },
    {
      "cell_type": "code",
      "source": [
        "# How about we try .assign()\n",
        "changeable_tensor[0].assign(7)\n",
        "changeable_tensor"
      ],
      "metadata": {
        "id": "zsM7-OcTOEC5",
        "colab": {
          "base_uri": "https://localhost:8080/"
        },
        "outputId": "7f75d911-3492-4c09-854b-9b2e97fb9619"
      },
      "execution_count": null,
      "outputs": [
        {
          "output_type": "execute_result",
          "data": {
            "text/plain": [
              "<tf.Variable 'Variable:0' shape=(2,) dtype=int32, numpy=array([7, 7], dtype=int32)>"
            ]
          },
          "metadata": {},
          "execution_count": 14
        }
      ]
    },
    {
      "cell_type": "code",
      "source": [
        "# Let's try change our unchangeable tensor\n",
        "unchangeable_tensor[0].assign(7)\n",
        "unchangeable_tensor"
      ],
      "metadata": {
        "id": "pzy2h2TOOD-t",
        "colab": {
          "base_uri": "https://localhost:8080/",
          "height": 297
        },
        "outputId": "6f609727-f291-4b3a-d359-09e94560135b"
      },
      "execution_count": null,
      "outputs": [
        {
          "output_type": "error",
          "ename": "AttributeError",
          "evalue": "'tensorflow.python.framework.ops.EagerTensor' object has no attribute 'assign'",
          "traceback": [
            "\u001b[0;31m---------------------------------------------------------------------------\u001b[0m",
            "\u001b[0;31mAttributeError\u001b[0m                            Traceback (most recent call last)",
            "\u001b[0;32m<ipython-input-15-e5c33979885b>\u001b[0m in \u001b[0;36m<cell line: 0>\u001b[0;34m()\u001b[0m\n\u001b[1;32m      1\u001b[0m \u001b[0;31m# Let's try change our unchangeable tensor\u001b[0m\u001b[0;34m\u001b[0m\u001b[0;34m\u001b[0m\u001b[0m\n\u001b[0;32m----> 2\u001b[0;31m \u001b[0munchangeable_tensor\u001b[0m\u001b[0;34m[\u001b[0m\u001b[0;36m0\u001b[0m\u001b[0;34m]\u001b[0m\u001b[0;34m.\u001b[0m\u001b[0massign\u001b[0m\u001b[0;34m(\u001b[0m\u001b[0;36m7\u001b[0m\u001b[0;34m)\u001b[0m\u001b[0;34m\u001b[0m\u001b[0;34m\u001b[0m\u001b[0m\n\u001b[0m\u001b[1;32m      3\u001b[0m \u001b[0munchangeable_tensor\u001b[0m\u001b[0;34m\u001b[0m\u001b[0;34m\u001b[0m\u001b[0m\n",
            "\u001b[0;32m/usr/local/lib/python3.11/dist-packages/tensorflow/python/framework/tensor.py\u001b[0m in \u001b[0;36m__getattr__\u001b[0;34m(self, name)\u001b[0m\n\u001b[1;32m    258\u001b[0m         \u001b[0mtf\u001b[0m\u001b[0;34m.\u001b[0m\u001b[0mexperimental\u001b[0m\u001b[0;34m.\u001b[0m\u001b[0mnumpy\u001b[0m\u001b[0;34m.\u001b[0m\u001b[0mexperimental_enable_numpy_behavior\u001b[0m\u001b[0;34m(\u001b[0m\u001b[0;34m)\u001b[0m\u001b[0;34m\u001b[0m\u001b[0;34m\u001b[0m\u001b[0m\n\u001b[1;32m    259\u001b[0m       \"\"\")\n\u001b[0;32m--> 260\u001b[0;31m     \u001b[0mself\u001b[0m\u001b[0;34m.\u001b[0m\u001b[0m__getattribute__\u001b[0m\u001b[0;34m(\u001b[0m\u001b[0mname\u001b[0m\u001b[0;34m)\u001b[0m\u001b[0;34m\u001b[0m\u001b[0;34m\u001b[0m\u001b[0m\n\u001b[0m\u001b[1;32m    261\u001b[0m \u001b[0;34m\u001b[0m\u001b[0m\n\u001b[1;32m    262\u001b[0m   \u001b[0;34m@\u001b[0m\u001b[0mproperty\u001b[0m\u001b[0;34m\u001b[0m\u001b[0;34m\u001b[0m\u001b[0m\n",
            "\u001b[0;31mAttributeError\u001b[0m: 'tensorflow.python.framework.ops.EagerTensor' object has no attribute 'assign'"
          ]
        }
      ]
    },
    {
      "cell_type": "markdown",
      "source": [
        "🔑 **Note**: Rarely in practice will you need to decide whether to use `tf.constant` or `tf.Variable` to create tensors, as TensorFlow does this for you. However, if in doubt, use tf.constant and change it later if needed."
      ],
      "metadata": {
        "id": "5ED0G4saQmEb"
      }
    },
    {
      "cell_type": "markdown",
      "source": [
        "### Creating random tensors\n",
        "\n",
        "Random tensors are tensors of some arbitrary size which contains random numbers."
      ],
      "metadata": {
        "id": "2uG12nRnQRb1"
      }
    },
    {
      "cell_type": "code",
      "source": [
        "# Create two random (but the same) tensors\n",
        "random_1 = tf.random.Generator.from_seed(7) # set seed for reproducibility\n",
        "random_1 = random_1.normal(shape=(3, 2))\n",
        "\n",
        "random_2 = tf.random.Generator.from_seed(7)\n",
        "random_2 = random_2.normal(shape=(3, 2))\n",
        "\n",
        "# Are they equal?\n",
        "random_1, random_2, random_1 == random_2"
      ],
      "metadata": {
        "colab": {
          "base_uri": "https://localhost:8080/"
        },
        "id": "PDqO1SEnOD7l",
        "outputId": "3b450e73-8297-4b18-aef6-5fcf43000605"
      },
      "execution_count": null,
      "outputs": [
        {
          "output_type": "execute_result",
          "data": {
            "text/plain": [
              "(<tf.Tensor: shape=(3, 2), dtype=float32, numpy=\n",
              " array([[-1.3240396 ,  0.28785667],\n",
              "        [-0.8757901 , -0.08857018],\n",
              "        [ 0.69211644,  0.84215707]], dtype=float32)>,\n",
              " <tf.Tensor: shape=(3, 2), dtype=float32, numpy=\n",
              " array([[-1.3240396 ,  0.28785667],\n",
              "        [-0.8757901 , -0.08857018],\n",
              "        [ 0.69211644,  0.84215707]], dtype=float32)>,\n",
              " <tf.Tensor: shape=(3, 2), dtype=bool, numpy=\n",
              " array([[ True,  True],\n",
              "        [ True,  True],\n",
              "        [ True,  True]])>)"
            ]
          },
          "metadata": {},
          "execution_count": 33
        }
      ]
    },
    {
      "cell_type": "markdown",
      "source": [
        "### Shuffle the order of elements in a tensor"
      ],
      "metadata": {
        "id": "ubSfKZEOUczA"
      }
    },
    {
      "cell_type": "code",
      "source": [
        "# Shuffle a tensor (valuable for when you want to shuffle your data so the inheret order doesn't effect learning)\n",
        "not_shuffled = tf.constant([[10, 7],\n",
        "                            [3, 4],\n",
        "                            [2, 5]])\n",
        "\n",
        "# Shuffle our non-shuffled tensor\n",
        "tf.random.shuffle(not_shuffled)"
      ],
      "metadata": {
        "colab": {
          "base_uri": "https://localhost:8080/"
        },
        "id": "hBoU9aO-OD4g",
        "outputId": "4c1b17a9-2635-4b82-92b6-8258a8b0a281"
      },
      "execution_count": null,
      "outputs": [
        {
          "output_type": "execute_result",
          "data": {
            "text/plain": [
              "<tf.Tensor: shape=(3, 2), dtype=int32, numpy=\n",
              "array([[10,  7],\n",
              "       [ 3,  4],\n",
              "       [ 2,  5]], dtype=int32)>"
            ]
          },
          "metadata": {},
          "execution_count": 34
        }
      ]
    },
    {
      "cell_type": "code",
      "source": [
        "# Shuffle our non-shuffled tensor\n",
        "tf.random.set_seed(42)\n",
        "tf.random.shuffle(not_shuffled, seed=42)"
      ],
      "metadata": {
        "colab": {
          "base_uri": "https://localhost:8080/"
        },
        "id": "P_yFffeMV5__",
        "outputId": "f9995b41-8bf7-434e-81bd-dc5f958603e3"
      },
      "execution_count": null,
      "outputs": [
        {
          "output_type": "execute_result",
          "data": {
            "text/plain": [
              "<tf.Tensor: shape=(3, 2), dtype=int32, numpy=\n",
              "array([[10,  7],\n",
              "       [ 3,  4],\n",
              "       [ 2,  5]], dtype=int32)>"
            ]
          },
          "metadata": {},
          "execution_count": 35
        }
      ]
    },
    {
      "cell_type": "code",
      "source": [
        "not_shuffled"
      ],
      "metadata": {
        "colab": {
          "base_uri": "https://localhost:8080/"
        },
        "id": "LbwgIf8XUdKC",
        "outputId": "c18f72f3-91f1-4b4a-9067-18ca578aa5e3"
      },
      "execution_count": null,
      "outputs": [
        {
          "output_type": "execute_result",
          "data": {
            "text/plain": [
              "<tf.Tensor: shape=(3, 2), dtype=int32, numpy=\n",
              "array([[10,  7],\n",
              "       [ 3,  4],\n",
              "       [ 2,  5]], dtype=int32)>"
            ]
          },
          "metadata": {},
          "execution_count": 36
        }
      ]
    },
    {
      "cell_type": "markdown",
      "source": [
        "🛠 **Exercise:** Read through TensorFlow documentation on random seed generation: https://www.tensorflow.org/api_docs/python/tf/random/set_seed and practice writing 5 random tensors and shuffling them.\n",
        "\n",
        "It looks like if we want our shuffled tensors to be in the same order, we've got to use the global level random seed as well as the operation level random seed:\n",
        "\n",
        "> Rule 4: \"If both the global and the operation seed are set: Both seeds are used in conjunction to determine the random sequence.\""
      ],
      "metadata": {
        "id": "HY_3MqU7W9FW"
      }
    },
    {
      "cell_type": "code",
      "source": [
        "tf.random.set_seed(42)\n",
        "not_shuffled_2 = tf.constant([[10, 7, 6],\n",
        "                            [3, 4, 10],\n",
        "                            [2, 5, 40]])\n",
        "\n",
        "tf.random.shuffle(not_shuffled_2, seed=42)"
      ],
      "metadata": {
        "colab": {
          "base_uri": "https://localhost:8080/"
        },
        "id": "Yu8ILyIIUeS7",
        "outputId": "603c474d-b704-4b71-88d9-2dd946c62a86"
      },
      "execution_count": null,
      "outputs": [
        {
          "output_type": "execute_result",
          "data": {
            "text/plain": [
              "<tf.Tensor: shape=(3, 3), dtype=int32, numpy=\n",
              "array([[10,  7,  6],\n",
              "       [ 3,  4, 10],\n",
              "       [ 2,  5, 40]], dtype=int32)>"
            ]
          },
          "metadata": {},
          "execution_count": 37
        }
      ]
    },
    {
      "cell_type": "code",
      "source": [
        "tf.random.set_seed(42)\n",
        "not_shuffled_3 = tf.Variable([[1, 2, 3],\n",
        "                              [4, 5, 6],\n",
        "                              [7, 8, 9]])\n",
        "\n",
        "tf.random.shuffle(not_shuffled_3, seed=42)"
      ],
      "metadata": {
        "colab": {
          "base_uri": "https://localhost:8080/"
        },
        "id": "JCB9IVPxUeQQ",
        "outputId": "a877224b-cb74-434a-9453-67d53748765d"
      },
      "execution_count": null,
      "outputs": [
        {
          "output_type": "execute_result",
          "data": {
            "text/plain": [
              "<tf.Tensor: shape=(3, 3), dtype=int32, numpy=\n",
              "array([[1, 2, 3],\n",
              "       [4, 5, 6],\n",
              "       [7, 8, 9]], dtype=int32)>"
            ]
          },
          "metadata": {},
          "execution_count": 38
        }
      ]
    },
    {
      "cell_type": "code",
      "source": [
        "tf.random.set_seed(50)\n",
        "not_shuffled_4 = tf.constant([[[1, 2, 3],\n",
        "                               [4, 5, 6],\n",
        "                               [7, 8, 9]],\n",
        "                              [[10, 11, 12],\n",
        "                               [13, 14, 15],\n",
        "                               [16, 17, 18]],\n",
        "                              [[19, 20, 21],\n",
        "                               [22, 23, 24],\n",
        "                               [25, 26, 27]]])\n",
        "tf.random.shuffle(not_shuffled_4, seed=50)"
      ],
      "metadata": {
        "colab": {
          "base_uri": "https://localhost:8080/"
        },
        "id": "IdEngwvFUeNx",
        "outputId": "53d06065-5b8e-45b9-c6b0-a43db553f588"
      },
      "execution_count": null,
      "outputs": [
        {
          "output_type": "execute_result",
          "data": {
            "text/plain": [
              "<tf.Tensor: shape=(3, 3, 3), dtype=int32, numpy=\n",
              "array([[[19, 20, 21],\n",
              "        [22, 23, 24],\n",
              "        [25, 26, 27]],\n",
              "\n",
              "       [[10, 11, 12],\n",
              "        [13, 14, 15],\n",
              "        [16, 17, 18]],\n",
              "\n",
              "       [[ 1,  2,  3],\n",
              "        [ 4,  5,  6],\n",
              "        [ 7,  8,  9]]], dtype=int32)>"
            ]
          },
          "metadata": {},
          "execution_count": 39
        }
      ]
    },
    {
      "cell_type": "markdown",
      "source": [
        "### Other ways to make tensors"
      ],
      "metadata": {
        "id": "CBMCqcqvboEG"
      }
    },
    {
      "cell_type": "code",
      "source": [
        "# Create a tensor of all ones\n",
        "tf.ones([10, 7])"
      ],
      "metadata": {
        "colab": {
          "base_uri": "https://localhost:8080/"
        },
        "id": "4PkD-7u7UeLE",
        "outputId": "02990f16-4544-47bb-a725-6be34e0b9871"
      },
      "execution_count": null,
      "outputs": [
        {
          "output_type": "execute_result",
          "data": {
            "text/plain": [
              "<tf.Tensor: shape=(10, 7), dtype=float32, numpy=\n",
              "array([[1., 1., 1., 1., 1., 1., 1.],\n",
              "       [1., 1., 1., 1., 1., 1., 1.],\n",
              "       [1., 1., 1., 1., 1., 1., 1.],\n",
              "       [1., 1., 1., 1., 1., 1., 1.],\n",
              "       [1., 1., 1., 1., 1., 1., 1.],\n",
              "       [1., 1., 1., 1., 1., 1., 1.],\n",
              "       [1., 1., 1., 1., 1., 1., 1.],\n",
              "       [1., 1., 1., 1., 1., 1., 1.],\n",
              "       [1., 1., 1., 1., 1., 1., 1.],\n",
              "       [1., 1., 1., 1., 1., 1., 1.]], dtype=float32)>"
            ]
          },
          "metadata": {},
          "execution_count": 40
        }
      ]
    },
    {
      "cell_type": "code",
      "source": [
        "# Create a tensor of all zeroes\n",
        "tf.zeros(shape=(3, 4))"
      ],
      "metadata": {
        "colab": {
          "base_uri": "https://localhost:8080/"
        },
        "id": "nnLjxG8LUeIa",
        "outputId": "66c5e68d-0424-43e0-86c1-242c6fe6140a"
      },
      "execution_count": null,
      "outputs": [
        {
          "output_type": "execute_result",
          "data": {
            "text/plain": [
              "<tf.Tensor: shape=(3, 4), dtype=float32, numpy=\n",
              "array([[0., 0., 0., 0.],\n",
              "       [0., 0., 0., 0.],\n",
              "       [0., 0., 0., 0.]], dtype=float32)>"
            ]
          },
          "metadata": {},
          "execution_count": 41
        }
      ]
    },
    {
      "cell_type": "markdown",
      "source": [
        "### Turn NumPy arrays into tensors\n",
        "\n",
        "The main difference between NumPy arrays and TensorFlow tensors is that tensors can be run on a GPU (much faster for numerical computering)."
      ],
      "metadata": {
        "id": "3VU7QU5_c0wa"
      }
    },
    {
      "cell_type": "code",
      "source": [
        "# You can also turn Numpy arrays into tensors\n",
        "import numpy as np\n",
        "numpy_A = np.arange(1, 25, dtype=np.int32) # create a NumPy array between 1 and 25\n",
        "numpy_A\n",
        "\n",
        "# X = tf.constant(some_matrix) # capital for matrix\n",
        "# y = tf.constant(vector) # lower case for vector"
      ],
      "metadata": {
        "colab": {
          "base_uri": "https://localhost:8080/"
        },
        "id": "EGsu30wlUeFF",
        "outputId": "2f2d1c1c-005a-4972-dc5a-137cbea22033"
      },
      "execution_count": null,
      "outputs": [
        {
          "output_type": "execute_result",
          "data": {
            "text/plain": [
              "array([ 1,  2,  3,  4,  5,  6,  7,  8,  9, 10, 11, 12, 13, 14, 15, 16, 17,\n",
              "       18, 19, 20, 21, 22, 23, 24], dtype=int32)"
            ]
          },
          "metadata": {},
          "execution_count": 42
        }
      ]
    },
    {
      "cell_type": "code",
      "source": [
        "# Convert NumPy array to a tensor and change the shape of the tensor\n",
        "A = tf.constant(numpy_A, shape=(3, 8))\n",
        "B = tf.constant(numpy_A)\n",
        "A, B"
      ],
      "metadata": {
        "colab": {
          "base_uri": "https://localhost:8080/"
        },
        "id": "51vxi_uCUeB8",
        "outputId": "656fcb11-049f-4a0f-9c30-8485617b2e66"
      },
      "execution_count": null,
      "outputs": [
        {
          "output_type": "execute_result",
          "data": {
            "text/plain": [
              "(<tf.Tensor: shape=(3, 8), dtype=int32, numpy=\n",
              " array([[ 1,  2,  3,  4,  5,  6,  7,  8],\n",
              "        [ 9, 10, 11, 12, 13, 14, 15, 16],\n",
              "        [17, 18, 19, 20, 21, 22, 23, 24]], dtype=int32)>,\n",
              " <tf.Tensor: shape=(24,), dtype=int32, numpy=\n",
              " array([ 1,  2,  3,  4,  5,  6,  7,  8,  9, 10, 11, 12, 13, 14, 15, 16, 17,\n",
              "        18, 19, 20, 21, 22, 23, 24], dtype=int32)>)"
            ]
          },
          "metadata": {},
          "execution_count": 43
        }
      ]
    },
    {
      "cell_type": "markdown",
      "source": [
        "🛠 **Exercise:** Create 5 NumPy arrays, convert them to vectors and then reshape them."
      ],
      "metadata": {
        "id": "yTEFRzymfCMF"
      }
    },
    {
      "cell_type": "code",
      "source": [
        "numpy_1 = np.arange(1, 31, dtype=np.int32)\n",
        "tensor_1 = tf.constant(numpy_1, shape=(5, 2, 3))\n",
        "numpy_1, tensor_1"
      ],
      "metadata": {
        "colab": {
          "base_uri": "https://localhost:8080/"
        },
        "id": "ZTLmslCMe5Qd",
        "outputId": "605056a2-47e2-4d98-8917-33fdc5971899"
      },
      "execution_count": null,
      "outputs": [
        {
          "output_type": "execute_result",
          "data": {
            "text/plain": [
              "(array([ 1,  2,  3,  4,  5,  6,  7,  8,  9, 10, 11, 12, 13, 14, 15, 16, 17,\n",
              "        18, 19, 20, 21, 22, 23, 24, 25, 26, 27, 28, 29, 30], dtype=int32),\n",
              " <tf.Tensor: shape=(5, 2, 3), dtype=int32, numpy=\n",
              " array([[[ 1,  2,  3],\n",
              "         [ 4,  5,  6]],\n",
              " \n",
              "        [[ 7,  8,  9],\n",
              "         [10, 11, 12]],\n",
              " \n",
              "        [[13, 14, 15],\n",
              "         [16, 17, 18]],\n",
              " \n",
              "        [[19, 20, 21],\n",
              "         [22, 23, 24]],\n",
              " \n",
              "        [[25, 26, 27],\n",
              "         [28, 29, 30]]], dtype=int32)>)"
            ]
          },
          "metadata": {},
          "execution_count": 44
        }
      ]
    },
    {
      "cell_type": "code",
      "source": [
        "numpy_2 = np.arange(11, 101, dtype=np.int32)\n",
        "tensor_2 = tf.constant(numpy_2, shape=(10, 9))\n",
        "numpy_2, tensor_2"
      ],
      "metadata": {
        "colab": {
          "base_uri": "https://localhost:8080/"
        },
        "id": "Q198vi0Ke5NI",
        "outputId": "5b92f0b6-6ede-4cdd-9558-ed1c19ca5936"
      },
      "execution_count": null,
      "outputs": [
        {
          "output_type": "execute_result",
          "data": {
            "text/plain": [
              "(array([ 11,  12,  13,  14,  15,  16,  17,  18,  19,  20,  21,  22,  23,\n",
              "         24,  25,  26,  27,  28,  29,  30,  31,  32,  33,  34,  35,  36,\n",
              "         37,  38,  39,  40,  41,  42,  43,  44,  45,  46,  47,  48,  49,\n",
              "         50,  51,  52,  53,  54,  55,  56,  57,  58,  59,  60,  61,  62,\n",
              "         63,  64,  65,  66,  67,  68,  69,  70,  71,  72,  73,  74,  75,\n",
              "         76,  77,  78,  79,  80,  81,  82,  83,  84,  85,  86,  87,  88,\n",
              "         89,  90,  91,  92,  93,  94,  95,  96,  97,  98,  99, 100],\n",
              "       dtype=int32),\n",
              " <tf.Tensor: shape=(10, 9), dtype=int32, numpy=\n",
              " array([[ 11,  12,  13,  14,  15,  16,  17,  18,  19],\n",
              "        [ 20,  21,  22,  23,  24,  25,  26,  27,  28],\n",
              "        [ 29,  30,  31,  32,  33,  34,  35,  36,  37],\n",
              "        [ 38,  39,  40,  41,  42,  43,  44,  45,  46],\n",
              "        [ 47,  48,  49,  50,  51,  52,  53,  54,  55],\n",
              "        [ 56,  57,  58,  59,  60,  61,  62,  63,  64],\n",
              "        [ 65,  66,  67,  68,  69,  70,  71,  72,  73],\n",
              "        [ 74,  75,  76,  77,  78,  79,  80,  81,  82],\n",
              "        [ 83,  84,  85,  86,  87,  88,  89,  90,  91],\n",
              "        [ 92,  93,  94,  95,  96,  97,  98,  99, 100]], dtype=int32)>)"
            ]
          },
          "metadata": {},
          "execution_count": 45
        }
      ]
    },
    {
      "cell_type": "code",
      "source": [
        "numpy_3 = np.arange(1, 19, dtype=np.int32)\n",
        "tensor_3 = tf.constant(numpy_3, shape=(3, 2, 3))\n",
        "numpy_3, tensor_3"
      ],
      "metadata": {
        "colab": {
          "base_uri": "https://localhost:8080/"
        },
        "id": "tbPKwBsKe5J-",
        "outputId": "50e0e745-2401-44a4-9f58-513dc6c6d876"
      },
      "execution_count": null,
      "outputs": [
        {
          "output_type": "execute_result",
          "data": {
            "text/plain": [
              "(array([ 1,  2,  3,  4,  5,  6,  7,  8,  9, 10, 11, 12, 13, 14, 15, 16, 17,\n",
              "        18], dtype=int32),\n",
              " <tf.Tensor: shape=(3, 2, 3), dtype=int32, numpy=\n",
              " array([[[ 1,  2,  3],\n",
              "         [ 4,  5,  6]],\n",
              " \n",
              "        [[ 7,  8,  9],\n",
              "         [10, 11, 12]],\n",
              " \n",
              "        [[13, 14, 15],\n",
              "         [16, 17, 18]]], dtype=int32)>)"
            ]
          },
          "metadata": {},
          "execution_count": 46
        }
      ]
    },
    {
      "cell_type": "code",
      "source": [
        "numpy_4 = np.arange(1, 17, dtype=np.int32)\n",
        "tensor_4 = tf.constant(numpy_4, shape=(2, 2, 2, 2))\n",
        "numpy_4, tensor_4"
      ],
      "metadata": {
        "colab": {
          "base_uri": "https://localhost:8080/"
        },
        "id": "cNBk-J0ye5BL",
        "outputId": "5097273d-b280-498b-871c-4a41a23c60bb"
      },
      "execution_count": null,
      "outputs": [
        {
          "output_type": "execute_result",
          "data": {
            "text/plain": [
              "(array([ 1,  2,  3,  4,  5,  6,  7,  8,  9, 10, 11, 12, 13, 14, 15, 16],\n",
              "       dtype=int32),\n",
              " <tf.Tensor: shape=(2, 2, 2, 2), dtype=int32, numpy=\n",
              " array([[[[ 1,  2],\n",
              "          [ 3,  4]],\n",
              " \n",
              "         [[ 5,  6],\n",
              "          [ 7,  8]]],\n",
              " \n",
              " \n",
              "        [[[ 9, 10],\n",
              "          [11, 12]],\n",
              " \n",
              "         [[13, 14],\n",
              "          [15, 16]]]], dtype=int32)>)"
            ]
          },
          "metadata": {},
          "execution_count": 47
        }
      ]
    },
    {
      "cell_type": "code",
      "source": [
        "# Try with tf.Variable\n",
        "numpy_5 = np.arange(1, 26, dtype=np.int32)\n",
        "# tensor_5 = tf.Variable(numpy_5, shape=(1, 5)) # cannot use built in shape=() function to change shape of tensor created using tf.Variable\n",
        "tensor_5 = tf.constant(numpy_5, shape=(5, 5))\n",
        "numpy_5, tensor_5"
      ],
      "metadata": {
        "colab": {
          "base_uri": "https://localhost:8080/"
        },
        "id": "cnGBm78ke49U",
        "outputId": "99861f20-9dda-4e27-c9c7-790f31c76c12"
      },
      "execution_count": null,
      "outputs": [
        {
          "output_type": "execute_result",
          "data": {
            "text/plain": [
              "(array([ 1,  2,  3,  4,  5,  6,  7,  8,  9, 10, 11, 12, 13, 14, 15, 16, 17,\n",
              "        18, 19, 20, 21, 22, 23, 24, 25], dtype=int32),\n",
              " <tf.Tensor: shape=(5, 5), dtype=int32, numpy=\n",
              " array([[ 1,  2,  3,  4,  5],\n",
              "        [ 6,  7,  8,  9, 10],\n",
              "        [11, 12, 13, 14, 15],\n",
              "        [16, 17, 18, 19, 20],\n",
              "        [21, 22, 23, 24, 25]], dtype=int32)>)"
            ]
          },
          "metadata": {},
          "execution_count": 48
        }
      ]
    },
    {
      "cell_type": "code",
      "source": [
        "# Try to create a tensor using tf.Variable AND change its shape use tf.reshape\n",
        "numpy_6 = np.arange(1, 26, dtype=np.int32)\n",
        "tensor_6 = tf.Variable(numpy_6)\n",
        "tensor_6 = tf.reshape(tensor_6, [1,5])\n",
        "numpy_6, tensor_6\n",
        "\n",
        "# appears to still have issues"
      ],
      "metadata": {
        "colab": {
          "base_uri": "https://localhost:8080/",
          "height": 373
        },
        "id": "CvvR7j9liU7d",
        "outputId": "3f0f6408-329d-487e-e708-426cbeec2999"
      },
      "execution_count": null,
      "outputs": [
        {
          "output_type": "error",
          "ename": "InvalidArgumentError",
          "evalue": "{{function_node __wrapped__Reshape_device_/job:localhost/replica:0/task:0/device:CPU:0}} Input to reshape is a tensor with 25 values, but the requested shape has 5 [Op:Reshape]",
          "traceback": [
            "\u001b[0;31m---------------------------------------------------------------------------\u001b[0m",
            "\u001b[0;31mInvalidArgumentError\u001b[0m                      Traceback (most recent call last)",
            "\u001b[0;32m<ipython-input-49-4e137e9959ad>\u001b[0m in \u001b[0;36m<cell line: 0>\u001b[0;34m()\u001b[0m\n\u001b[1;32m      2\u001b[0m \u001b[0mnumpy_6\u001b[0m \u001b[0;34m=\u001b[0m \u001b[0mnp\u001b[0m\u001b[0;34m.\u001b[0m\u001b[0marange\u001b[0m\u001b[0;34m(\u001b[0m\u001b[0;36m1\u001b[0m\u001b[0;34m,\u001b[0m \u001b[0;36m26\u001b[0m\u001b[0;34m,\u001b[0m \u001b[0mdtype\u001b[0m\u001b[0;34m=\u001b[0m\u001b[0mnp\u001b[0m\u001b[0;34m.\u001b[0m\u001b[0mint32\u001b[0m\u001b[0;34m)\u001b[0m\u001b[0;34m\u001b[0m\u001b[0;34m\u001b[0m\u001b[0m\n\u001b[1;32m      3\u001b[0m \u001b[0mtensor_6\u001b[0m \u001b[0;34m=\u001b[0m \u001b[0mtf\u001b[0m\u001b[0;34m.\u001b[0m\u001b[0mVariable\u001b[0m\u001b[0;34m(\u001b[0m\u001b[0mnumpy_6\u001b[0m\u001b[0;34m)\u001b[0m\u001b[0;34m\u001b[0m\u001b[0;34m\u001b[0m\u001b[0m\n\u001b[0;32m----> 4\u001b[0;31m \u001b[0mtensor_6\u001b[0m \u001b[0;34m=\u001b[0m \u001b[0mtf\u001b[0m\u001b[0;34m.\u001b[0m\u001b[0mreshape\u001b[0m\u001b[0;34m(\u001b[0m\u001b[0mtensor_6\u001b[0m\u001b[0;34m,\u001b[0m \u001b[0;34m[\u001b[0m\u001b[0;36m1\u001b[0m\u001b[0;34m,\u001b[0m\u001b[0;36m5\u001b[0m\u001b[0;34m]\u001b[0m\u001b[0;34m)\u001b[0m\u001b[0;34m\u001b[0m\u001b[0;34m\u001b[0m\u001b[0m\n\u001b[0m\u001b[1;32m      5\u001b[0m \u001b[0mnumpy_6\u001b[0m\u001b[0;34m,\u001b[0m \u001b[0mtensor_6\u001b[0m\u001b[0;34m\u001b[0m\u001b[0;34m\u001b[0m\u001b[0m\n\u001b[1;32m      6\u001b[0m \u001b[0;34m\u001b[0m\u001b[0m\n",
            "\u001b[0;32m/usr/local/lib/python3.11/dist-packages/tensorflow/python/ops/weak_tensor_ops.py\u001b[0m in \u001b[0;36mwrapper\u001b[0;34m(*args, **kwargs)\u001b[0m\n\u001b[1;32m     86\u001b[0m   \u001b[0;32mdef\u001b[0m \u001b[0mwrapper\u001b[0m\u001b[0;34m(\u001b[0m\u001b[0;34m*\u001b[0m\u001b[0margs\u001b[0m\u001b[0;34m,\u001b[0m \u001b[0;34m**\u001b[0m\u001b[0mkwargs\u001b[0m\u001b[0;34m)\u001b[0m\u001b[0;34m:\u001b[0m\u001b[0;34m\u001b[0m\u001b[0;34m\u001b[0m\u001b[0m\n\u001b[1;32m     87\u001b[0m     \u001b[0;32mif\u001b[0m \u001b[0;32mnot\u001b[0m \u001b[0mops\u001b[0m\u001b[0;34m.\u001b[0m\u001b[0mis_auto_dtype_conversion_enabled\u001b[0m\u001b[0;34m(\u001b[0m\u001b[0;34m)\u001b[0m\u001b[0;34m:\u001b[0m\u001b[0;34m\u001b[0m\u001b[0;34m\u001b[0m\u001b[0m\n\u001b[0;32m---> 88\u001b[0;31m       \u001b[0;32mreturn\u001b[0m \u001b[0mop\u001b[0m\u001b[0;34m(\u001b[0m\u001b[0;34m*\u001b[0m\u001b[0margs\u001b[0m\u001b[0;34m,\u001b[0m \u001b[0;34m**\u001b[0m\u001b[0mkwargs\u001b[0m\u001b[0;34m)\u001b[0m\u001b[0;34m\u001b[0m\u001b[0;34m\u001b[0m\u001b[0m\n\u001b[0m\u001b[1;32m     89\u001b[0m     \u001b[0mbound_arguments\u001b[0m \u001b[0;34m=\u001b[0m \u001b[0msignature\u001b[0m\u001b[0;34m.\u001b[0m\u001b[0mbind\u001b[0m\u001b[0;34m(\u001b[0m\u001b[0;34m*\u001b[0m\u001b[0margs\u001b[0m\u001b[0;34m,\u001b[0m \u001b[0;34m**\u001b[0m\u001b[0mkwargs\u001b[0m\u001b[0;34m)\u001b[0m\u001b[0;34m\u001b[0m\u001b[0;34m\u001b[0m\u001b[0m\n\u001b[1;32m     90\u001b[0m     \u001b[0mbound_arguments\u001b[0m\u001b[0;34m.\u001b[0m\u001b[0mapply_defaults\u001b[0m\u001b[0;34m(\u001b[0m\u001b[0;34m)\u001b[0m\u001b[0;34m\u001b[0m\u001b[0;34m\u001b[0m\u001b[0m\n",
            "\u001b[0;32m/usr/local/lib/python3.11/dist-packages/tensorflow/python/util/traceback_utils.py\u001b[0m in \u001b[0;36merror_handler\u001b[0;34m(*args, **kwargs)\u001b[0m\n\u001b[1;32m    151\u001b[0m     \u001b[0;32mexcept\u001b[0m \u001b[0mException\u001b[0m \u001b[0;32mas\u001b[0m \u001b[0me\u001b[0m\u001b[0;34m:\u001b[0m\u001b[0;34m\u001b[0m\u001b[0;34m\u001b[0m\u001b[0m\n\u001b[1;32m    152\u001b[0m       \u001b[0mfiltered_tb\u001b[0m \u001b[0;34m=\u001b[0m \u001b[0m_process_traceback_frames\u001b[0m\u001b[0;34m(\u001b[0m\u001b[0me\u001b[0m\u001b[0;34m.\u001b[0m\u001b[0m__traceback__\u001b[0m\u001b[0;34m)\u001b[0m\u001b[0;34m\u001b[0m\u001b[0;34m\u001b[0m\u001b[0m\n\u001b[0;32m--> 153\u001b[0;31m       \u001b[0;32mraise\u001b[0m \u001b[0me\u001b[0m\u001b[0;34m.\u001b[0m\u001b[0mwith_traceback\u001b[0m\u001b[0;34m(\u001b[0m\u001b[0mfiltered_tb\u001b[0m\u001b[0;34m)\u001b[0m \u001b[0;32mfrom\u001b[0m \u001b[0;32mNone\u001b[0m\u001b[0;34m\u001b[0m\u001b[0;34m\u001b[0m\u001b[0m\n\u001b[0m\u001b[1;32m    154\u001b[0m     \u001b[0;32mfinally\u001b[0m\u001b[0;34m:\u001b[0m\u001b[0;34m\u001b[0m\u001b[0;34m\u001b[0m\u001b[0m\n\u001b[1;32m    155\u001b[0m       \u001b[0;32mdel\u001b[0m \u001b[0mfiltered_tb\u001b[0m\u001b[0;34m\u001b[0m\u001b[0;34m\u001b[0m\u001b[0m\n",
            "\u001b[0;32m/usr/local/lib/python3.11/dist-packages/tensorflow/python/eager/execute.py\u001b[0m in \u001b[0;36mquick_execute\u001b[0;34m(op_name, num_outputs, inputs, attrs, ctx, name)\u001b[0m\n\u001b[1;32m     57\u001b[0m       \u001b[0me\u001b[0m\u001b[0;34m.\u001b[0m\u001b[0mmessage\u001b[0m \u001b[0;34m+=\u001b[0m \u001b[0;34m\" name: \"\u001b[0m \u001b[0;34m+\u001b[0m \u001b[0mname\u001b[0m\u001b[0;34m\u001b[0m\u001b[0;34m\u001b[0m\u001b[0m\n\u001b[1;32m     58\u001b[0m     \u001b[0;32mraise\u001b[0m \u001b[0mcore\u001b[0m\u001b[0;34m.\u001b[0m\u001b[0m_status_to_exception\u001b[0m\u001b[0;34m(\u001b[0m\u001b[0me\u001b[0m\u001b[0;34m)\u001b[0m \u001b[0;32mfrom\u001b[0m \u001b[0;32mNone\u001b[0m\u001b[0;34m\u001b[0m\u001b[0;34m\u001b[0m\u001b[0m\n\u001b[0;32m---> 59\u001b[0;31m   \u001b[0;32mexcept\u001b[0m \u001b[0mTypeError\u001b[0m \u001b[0;32mas\u001b[0m \u001b[0me\u001b[0m\u001b[0;34m:\u001b[0m\u001b[0;34m\u001b[0m\u001b[0;34m\u001b[0m\u001b[0m\n\u001b[0m\u001b[1;32m     60\u001b[0m     \u001b[0mkeras_symbolic_tensors\u001b[0m \u001b[0;34m=\u001b[0m \u001b[0;34m[\u001b[0m\u001b[0mx\u001b[0m \u001b[0;32mfor\u001b[0m \u001b[0mx\u001b[0m \u001b[0;32min\u001b[0m \u001b[0minputs\u001b[0m \u001b[0;32mif\u001b[0m \u001b[0m_is_keras_symbolic_tensor\u001b[0m\u001b[0;34m(\u001b[0m\u001b[0mx\u001b[0m\u001b[0;34m)\u001b[0m\u001b[0;34m]\u001b[0m\u001b[0;34m\u001b[0m\u001b[0;34m\u001b[0m\u001b[0m\n\u001b[1;32m     61\u001b[0m     \u001b[0;32mif\u001b[0m \u001b[0mkeras_symbolic_tensors\u001b[0m\u001b[0;34m:\u001b[0m\u001b[0;34m\u001b[0m\u001b[0;34m\u001b[0m\u001b[0m\n",
            "\u001b[0;31mInvalidArgumentError\u001b[0m: {{function_node __wrapped__Reshape_device_/job:localhost/replica:0/task:0/device:CPU:0}} Input to reshape is a tensor with 25 values, but the requested shape has 5 [Op:Reshape]"
          ]
        }
      ]
    },
    {
      "cell_type": "markdown",
      "source": [
        "### Getting information from tensors\n",
        "\n",
        "When dealing with tensors you probably want to be aware of the following attributes.\n",
        "* Shape: the length (number of elements) of each of the dimensions of a tensor.\n",
        "> tensor.shape\n",
        "* Rank: the number of tesnor dimensions. A scalar has rank 0, a vector has rank 1, a tensor has rank n.\n",
        "> tensor.ndim\n",
        "* Axis: a particular dimension of a tensor.\n",
        "> tensor[0], tensor[:, 1]\n",
        "* Size: the total number of items in the tensor.\n",
        "> tf.size(tensor)"
      ],
      "metadata": {
        "id": "SHFiAoQ5eywV"
      }
    },
    {
      "cell_type": "code",
      "source": [
        "# Create a rank 4 tensor (4 dimensions)\n",
        "rank_4_tensor = tf.zeros(shape=[2, 3, 4, 5])\n",
        "rank_4_tensor"
      ],
      "metadata": {
        "id": "DW56qMWJUd-M",
        "colab": {
          "base_uri": "https://localhost:8080/"
        },
        "outputId": "490dfd44-e863-4904-c7d4-8eb3b91e9248"
      },
      "execution_count": null,
      "outputs": [
        {
          "output_type": "execute_result",
          "data": {
            "text/plain": [
              "<tf.Tensor: shape=(2, 3, 4, 5), dtype=float32, numpy=\n",
              "array([[[[0., 0., 0., 0., 0.],\n",
              "         [0., 0., 0., 0., 0.],\n",
              "         [0., 0., 0., 0., 0.],\n",
              "         [0., 0., 0., 0., 0.]],\n",
              "\n",
              "        [[0., 0., 0., 0., 0.],\n",
              "         [0., 0., 0., 0., 0.],\n",
              "         [0., 0., 0., 0., 0.],\n",
              "         [0., 0., 0., 0., 0.]],\n",
              "\n",
              "        [[0., 0., 0., 0., 0.],\n",
              "         [0., 0., 0., 0., 0.],\n",
              "         [0., 0., 0., 0., 0.],\n",
              "         [0., 0., 0., 0., 0.]]],\n",
              "\n",
              "\n",
              "       [[[0., 0., 0., 0., 0.],\n",
              "         [0., 0., 0., 0., 0.],\n",
              "         [0., 0., 0., 0., 0.],\n",
              "         [0., 0., 0., 0., 0.]],\n",
              "\n",
              "        [[0., 0., 0., 0., 0.],\n",
              "         [0., 0., 0., 0., 0.],\n",
              "         [0., 0., 0., 0., 0.],\n",
              "         [0., 0., 0., 0., 0.]],\n",
              "\n",
              "        [[0., 0., 0., 0., 0.],\n",
              "         [0., 0., 0., 0., 0.],\n",
              "         [0., 0., 0., 0., 0.],\n",
              "         [0., 0., 0., 0., 0.]]]], dtype=float32)>"
            ]
          },
          "metadata": {},
          "execution_count": 50
        }
      ]
    },
    {
      "cell_type": "code",
      "source": [
        "rank_4_tensor[0]"
      ],
      "metadata": {
        "id": "OvCTQAruUd4E",
        "colab": {
          "base_uri": "https://localhost:8080/"
        },
        "outputId": "75551fda-56a8-48c5-9adf-492111a36293"
      },
      "execution_count": null,
      "outputs": [
        {
          "output_type": "execute_result",
          "data": {
            "text/plain": [
              "<tf.Tensor: shape=(3, 4, 5), dtype=float32, numpy=\n",
              "array([[[0., 0., 0., 0., 0.],\n",
              "        [0., 0., 0., 0., 0.],\n",
              "        [0., 0., 0., 0., 0.],\n",
              "        [0., 0., 0., 0., 0.]],\n",
              "\n",
              "       [[0., 0., 0., 0., 0.],\n",
              "        [0., 0., 0., 0., 0.],\n",
              "        [0., 0., 0., 0., 0.],\n",
              "        [0., 0., 0., 0., 0.]],\n",
              "\n",
              "       [[0., 0., 0., 0., 0.],\n",
              "        [0., 0., 0., 0., 0.],\n",
              "        [0., 0., 0., 0., 0.],\n",
              "        [0., 0., 0., 0., 0.]]], dtype=float32)>"
            ]
          },
          "metadata": {},
          "execution_count": 51
        }
      ]
    },
    {
      "cell_type": "code",
      "source": [
        "rank_4_tensor.shape, rank_4_tensor.ndim, tf.size(rank_4_tensor)"
      ],
      "metadata": {
        "id": "McN9JV4sbnjx",
        "colab": {
          "base_uri": "https://localhost:8080/"
        },
        "outputId": "d6073b4f-ad3b-4519-f9b8-5282736d2ce8"
      },
      "execution_count": null,
      "outputs": [
        {
          "output_type": "execute_result",
          "data": {
            "text/plain": [
              "(TensorShape([2, 3, 4, 5]), 4, <tf.Tensor: shape=(), dtype=int32, numpy=120>)"
            ]
          },
          "metadata": {},
          "execution_count": 52
        }
      ]
    },
    {
      "cell_type": "code",
      "source": [
        "# Get various attributes of our tensor\n",
        "print('Datatype of every element:', rank_4_tensor.dtype)\n",
        "print('Number of dimensions (rank):', rank_4_tensor.ndim)\n",
        "print('Shape of tensor:', rank_4_tensor.shape)\n",
        "print('Elements along the 0 axis:', rank_4_tensor.shape[0])\n",
        "print('Elements along the last axis:', rank_4_tensor.shape[-1])\n",
        "print('Total number of elements in our tensor:', tf.size(rank_4_tensor).numpy()) # .numpy() returns the numberical value only"
      ],
      "metadata": {
        "id": "fxG2ecy9bngp",
        "colab": {
          "base_uri": "https://localhost:8080/"
        },
        "outputId": "a5ebe4e1-07e4-4390-a21c-5ff6d2a6fcca"
      },
      "execution_count": null,
      "outputs": [
        {
          "output_type": "stream",
          "name": "stdout",
          "text": [
            "Datatype of every element: <dtype: 'float32'>\n",
            "Number of dimensions (rank): 4\n",
            "Shape of tensor: (2, 3, 4, 5)\n",
            "Elements along the 0 axis: 2\n",
            "Elements along the last axis: 5\n",
            "Total number of elements in our tensor: 120\n"
          ]
        }
      ]
    },
    {
      "cell_type": "markdown",
      "source": [
        "### Indexing tensors\n",
        "\n",
        "Tensors can be indexed just like Python lists."
      ],
      "metadata": {
        "id": "JOyNHfHVRA6w"
      }
    },
    {
      "cell_type": "code",
      "source": [
        "# Get the first 2 elements of each dimension\n",
        "rank_4_tensor[:2, :2, :2, :2]"
      ],
      "metadata": {
        "id": "xWaXDUclbndk",
        "colab": {
          "base_uri": "https://localhost:8080/"
        },
        "outputId": "7be228e6-14bc-459d-d7dc-f9a889d2deac"
      },
      "execution_count": null,
      "outputs": [
        {
          "output_type": "execute_result",
          "data": {
            "text/plain": [
              "<tf.Tensor: shape=(2, 2, 2, 2), dtype=float32, numpy=\n",
              "array([[[[0., 0.],\n",
              "         [0., 0.]],\n",
              "\n",
              "        [[0., 0.],\n",
              "         [0., 0.]]],\n",
              "\n",
              "\n",
              "       [[[0., 0.],\n",
              "         [0., 0.]],\n",
              "\n",
              "        [[0., 0.],\n",
              "         [0., 0.]]]], dtype=float32)>"
            ]
          },
          "metadata": {},
          "execution_count": 54
        }
      ]
    },
    {
      "cell_type": "code",
      "source": [
        "rank_4_tensor.shape"
      ],
      "metadata": {
        "colab": {
          "base_uri": "https://localhost:8080/"
        },
        "id": "CUG3lnidTAGB",
        "outputId": "b2f9232c-49c0-47ff-b0f4-3eff8210cb36"
      },
      "execution_count": null,
      "outputs": [
        {
          "output_type": "execute_result",
          "data": {
            "text/plain": [
              "TensorShape([2, 3, 4, 5])"
            ]
          },
          "metadata": {},
          "execution_count": 55
        }
      ]
    },
    {
      "cell_type": "code",
      "source": [
        "# Get the first element from each dimension from each index except for the final one\n",
        "rank_4_tensor[:1, :1, :1, :]"
      ],
      "metadata": {
        "id": "15zl5oG0bnZe",
        "colab": {
          "base_uri": "https://localhost:8080/"
        },
        "outputId": "6f1f5057-b07a-4706-a133-43e81a15c856"
      },
      "execution_count": null,
      "outputs": [
        {
          "output_type": "execute_result",
          "data": {
            "text/plain": [
              "<tf.Tensor: shape=(1, 1, 1, 5), dtype=float32, numpy=array([[[[0., 0., 0., 0., 0.]]]], dtype=float32)>"
            ]
          },
          "metadata": {},
          "execution_count": 56
        }
      ]
    },
    {
      "cell_type": "code",
      "source": [
        "# Create a rank 2 tensor(2 dimensions)\n",
        "rank_2_tensor = tf.constant([[10, 7],\n",
        "                             [3, 4]])\n",
        "rank_2_tensor.shape, rank_2_tensor.ndim"
      ],
      "metadata": {
        "id": "DYUYtHj2Udb-",
        "colab": {
          "base_uri": "https://localhost:8080/"
        },
        "outputId": "27cdc2d0-940b-4732-f924-40128d189a05"
      },
      "execution_count": null,
      "outputs": [
        {
          "output_type": "execute_result",
          "data": {
            "text/plain": [
              "(TensorShape([2, 2]), 2)"
            ]
          },
          "metadata": {},
          "execution_count": 57
        }
      ]
    },
    {
      "cell_type": "code",
      "source": [
        "rank_2_tensor"
      ],
      "metadata": {
        "colab": {
          "base_uri": "https://localhost:8080/"
        },
        "id": "mJuMh5MuUMXf",
        "outputId": "b56bd057-e8a4-42df-88c2-901b30240a44"
      },
      "execution_count": null,
      "outputs": [
        {
          "output_type": "execute_result",
          "data": {
            "text/plain": [
              "<tf.Tensor: shape=(2, 2), dtype=int32, numpy=\n",
              "array([[10,  7],\n",
              "       [ 3,  4]], dtype=int32)>"
            ]
          },
          "metadata": {},
          "execution_count": 58
        }
      ]
    },
    {
      "cell_type": "code",
      "source": [
        "# Get the last itme of each of our rank 2 tensor\n",
        "rank_2_tensor[:, -1]"
      ],
      "metadata": {
        "colab": {
          "base_uri": "https://localhost:8080/"
        },
        "id": "nqZGuiGzPmQ4",
        "outputId": "4c90d6d4-6423-4f8b-e1c9-861e1bd64cdb"
      },
      "execution_count": null,
      "outputs": [
        {
          "output_type": "execute_result",
          "data": {
            "text/plain": [
              "<tf.Tensor: shape=(2,), dtype=int32, numpy=array([7, 4], dtype=int32)>"
            ]
          },
          "metadata": {},
          "execution_count": 59
        }
      ]
    },
    {
      "cell_type": "code",
      "source": [
        "# Add in extra dimension to our rank 2 tensor\n",
        "rank_3_tensor = rank_2_tensor[..., tf.newaxis]\n",
        "rank_3_tensor"
      ],
      "metadata": {
        "colab": {
          "base_uri": "https://localhost:8080/"
        },
        "id": "WMo5rhvzPmOT",
        "outputId": "3db3501c-6a61-4300-ae22-c612efc5612d"
      },
      "execution_count": null,
      "outputs": [
        {
          "output_type": "execute_result",
          "data": {
            "text/plain": [
              "<tf.Tensor: shape=(2, 2, 1), dtype=int32, numpy=\n",
              "array([[[10],\n",
              "        [ 7]],\n",
              "\n",
              "       [[ 3],\n",
              "        [ 4]]], dtype=int32)>"
            ]
          },
          "metadata": {},
          "execution_count": 60
        }
      ]
    },
    {
      "cell_type": "code",
      "source": [
        "# Alternative to tf.newaxis\n",
        "tf.expand_dims(rank_2_tensor, axis=-1) # \"-1\" means expand the final axis"
      ],
      "metadata": {
        "colab": {
          "base_uri": "https://localhost:8080/"
        },
        "id": "puUb12E6PmLU",
        "outputId": "484cb816-520f-4ddf-b342-fc901397d9d5"
      },
      "execution_count": null,
      "outputs": [
        {
          "output_type": "execute_result",
          "data": {
            "text/plain": [
              "<tf.Tensor: shape=(2, 2, 1), dtype=int32, numpy=\n",
              "array([[[10],\n",
              "        [ 7]],\n",
              "\n",
              "       [[ 3],\n",
              "        [ 4]]], dtype=int32)>"
            ]
          },
          "metadata": {},
          "execution_count": 61
        }
      ]
    },
    {
      "cell_type": "code",
      "source": [
        "# Expand the zero axis\n",
        "tf.expand_dims(rank_2_tensor, axis=0) # expand the 0-axis"
      ],
      "metadata": {
        "colab": {
          "base_uri": "https://localhost:8080/"
        },
        "id": "5uxnhTylVTgL",
        "outputId": "b4dbf78a-62cd-4d96-eaec-369ba851227b"
      },
      "execution_count": null,
      "outputs": [
        {
          "output_type": "execute_result",
          "data": {
            "text/plain": [
              "<tf.Tensor: shape=(1, 2, 2), dtype=int32, numpy=\n",
              "array([[[10,  7],\n",
              "        [ 3,  4]]], dtype=int32)>"
            ]
          },
          "metadata": {},
          "execution_count": 62
        }
      ]
    },
    {
      "cell_type": "markdown",
      "source": [
        "### Manipulating tensors (tensor operations)\n",
        "\n",
        "**Basic operations**\n",
        "\n",
        "`+`, `-`, `*`, `/`"
      ],
      "metadata": {
        "id": "RxoDpyoBWKNN"
      }
    },
    {
      "cell_type": "code",
      "source": [
        "# You can add values to a tensor using the addition operator\n",
        "tensor = tf.constant([[10, 7], [3, 4]])\n",
        "tensor + 10"
      ],
      "metadata": {
        "colab": {
          "base_uri": "https://localhost:8080/"
        },
        "id": "b_qrM8U3VTcr",
        "outputId": "7e81119c-343d-475e-dc15-c7f17f08d21f"
      },
      "execution_count": null,
      "outputs": [
        {
          "output_type": "execute_result",
          "data": {
            "text/plain": [
              "<tf.Tensor: shape=(2, 2), dtype=int32, numpy=\n",
              "array([[20, 17],\n",
              "       [13, 14]], dtype=int32)>"
            ]
          },
          "metadata": {},
          "execution_count": 63
        }
      ]
    },
    {
      "cell_type": "code",
      "source": [
        "# Original tensor is unchanged\n",
        "tensor"
      ],
      "metadata": {
        "colab": {
          "base_uri": "https://localhost:8080/"
        },
        "id": "AJD2fMugVTZv",
        "outputId": "b0fec27a-efcf-4d33-bbc5-68ff9cbdb1be"
      },
      "execution_count": null,
      "outputs": [
        {
          "output_type": "execute_result",
          "data": {
            "text/plain": [
              "<tf.Tensor: shape=(2, 2), dtype=int32, numpy=\n",
              "array([[10,  7],\n",
              "       [ 3,  4]], dtype=int32)>"
            ]
          },
          "metadata": {},
          "execution_count": 64
        }
      ]
    },
    {
      "cell_type": "code",
      "source": [
        "# Multiplication also works\n",
        "tensor * 10"
      ],
      "metadata": {
        "colab": {
          "base_uri": "https://localhost:8080/"
        },
        "id": "3j-LFb9KVTWq",
        "outputId": "a51ec38c-c991-4e6c-a46f-d0f47285177f"
      },
      "execution_count": null,
      "outputs": [
        {
          "output_type": "execute_result",
          "data": {
            "text/plain": [
              "<tf.Tensor: shape=(2, 2), dtype=int32, numpy=\n",
              "array([[100,  70],\n",
              "       [ 30,  40]], dtype=int32)>"
            ]
          },
          "metadata": {},
          "execution_count": 65
        }
      ]
    },
    {
      "cell_type": "code",
      "source": [
        "# Subtraction if you want\n",
        "tensor - 10"
      ],
      "metadata": {
        "colab": {
          "base_uri": "https://localhost:8080/"
        },
        "id": "-yWbTy5sVTUY",
        "outputId": "18c66be1-bab1-4ea4-c539-7989024be1f7"
      },
      "execution_count": null,
      "outputs": [
        {
          "output_type": "execute_result",
          "data": {
            "text/plain": [
              "<tf.Tensor: shape=(2, 2), dtype=int32, numpy=\n",
              "array([[ 0, -3],\n",
              "       [-7, -6]], dtype=int32)>"
            ]
          },
          "metadata": {},
          "execution_count": 66
        }
      ]
    },
    {
      "cell_type": "code",
      "source": [
        "# We can use the tensorflow built-in function too\n",
        "tf.multiply(tensor, 10)"
      ],
      "metadata": {
        "colab": {
          "base_uri": "https://localhost:8080/"
        },
        "id": "A5ohaC84WJcN",
        "outputId": "830a3776-c33e-4496-ea89-ba803fcf68e3"
      },
      "execution_count": null,
      "outputs": [
        {
          "output_type": "execute_result",
          "data": {
            "text/plain": [
              "<tf.Tensor: shape=(2, 2), dtype=int32, numpy=\n",
              "array([[100,  70],\n",
              "       [ 30,  40]], dtype=int32)>"
            ]
          },
          "metadata": {},
          "execution_count": 67
        }
      ]
    },
    {
      "cell_type": "code",
      "source": [
        "# Use tensorflow built-in function for addition\n",
        "tf.add(tensor, 10)"
      ],
      "metadata": {
        "colab": {
          "base_uri": "https://localhost:8080/"
        },
        "id": "03IQo7arWJYs",
        "outputId": "4a5c8bf5-150a-449b-d0ce-9f219fdffbbf"
      },
      "execution_count": null,
      "outputs": [
        {
          "output_type": "execute_result",
          "data": {
            "text/plain": [
              "<tf.Tensor: shape=(2, 2), dtype=int32, numpy=\n",
              "array([[20, 17],\n",
              "       [13, 14]], dtype=int32)>"
            ]
          },
          "metadata": {},
          "execution_count": 68
        }
      ]
    },
    {
      "cell_type": "markdown",
      "source": [
        "**Matrix multiplication**\n",
        "\n",
        "In machine learning, matrix multiplication is one of the most common tensor operations.\n",
        "\n",
        "There are two rules our tensors (or matrices) need to fulfill if we're going to atrix multiply them:\n",
        "\n",
        "1. The inner dimensions must match\n",
        "* The \"inner dimensions\" refer to the number of columns in the first matrix and the number of rows in the second matrix, which must be equal for the multiplication to be defined.\n",
        "> tensorX.shape=(3, `3`) * tensorY.shape=(`3`, 2) = tensor.shape(3, 2)\n",
        "2. The resulting matrix has the shape of the outer dimensions\n",
        "* The \"outer dimensions\" are the number of rows in the first matrix and the number of columns in the second matrix, which will be the dimensions of the resulting product matrix.\n",
        "> tensorX.shape=(`2`, 3) * tensorY.shape=(3, `2`) = tensor.shape(3, 2)"
      ],
      "metadata": {
        "id": "_fRzOg6ZXyCj"
      }
    },
    {
      "cell_type": "markdown",
      "source": [
        "📖 **Resource:** Info and example of matrix multiplication: https://www.mathsisfun.com/algebra/matrix-multiplying.html"
      ],
      "metadata": {
        "id": "hgXmD324engq"
      }
    },
    {
      "cell_type": "code",
      "source": [
        "# Matrix multiplication in tensorflow\n",
        "print(tensor)\n",
        "tf.matmul(tensor, tensor)"
      ],
      "metadata": {
        "colab": {
          "base_uri": "https://localhost:8080/"
        },
        "id": "rfiK8r20WJVS",
        "outputId": "999c1a66-5abf-461e-8ac4-949fe1cc66b5"
      },
      "execution_count": null,
      "outputs": [
        {
          "output_type": "stream",
          "name": "stdout",
          "text": [
            "tf.Tensor(\n",
            "[[10  7]\n",
            " [ 3  4]], shape=(2, 2), dtype=int32)\n"
          ]
        },
        {
          "output_type": "execute_result",
          "data": {
            "text/plain": [
              "<tf.Tensor: shape=(2, 2), dtype=int32, numpy=\n",
              "array([[121,  98],\n",
              "       [ 42,  37]], dtype=int32)>"
            ]
          },
          "metadata": {},
          "execution_count": 69
        }
      ]
    },
    {
      "cell_type": "code",
      "source": [
        "# Replicate matrix multiplication from http://matrixmultiplication.xyz/\n",
        "left_tensor = tf.constant([[1, 2, 7],\n",
        "                           [7, 2, 1],\n",
        "                           [3, 3, 3]])\n",
        "\n",
        "right_tensor = tf.constant([[2, 5],\n",
        "                            [6, 7],\n",
        "                            [1, 8]])\n",
        "\n",
        "print(f'left_tensor shape: {left_tensor.shape}, right_tensor shape: {right_tensor.shape}')\n",
        "tf.matmul(left_tensor, right_tensor)"
      ],
      "metadata": {
        "colab": {
          "base_uri": "https://localhost:8080/"
        },
        "id": "ApSlCLtrcJBs",
        "outputId": "54b50d45-48d1-47b0-9f4e-be8c05258a4f"
      },
      "execution_count": null,
      "outputs": [
        {
          "output_type": "stream",
          "name": "stdout",
          "text": [
            "left_tensor shape: (3, 3), right_tensor shape: (3, 2)\n"
          ]
        },
        {
          "output_type": "execute_result",
          "data": {
            "text/plain": [
              "<tf.Tensor: shape=(3, 2), dtype=int32, numpy=\n",
              "array([[21, 75],\n",
              "       [27, 57],\n",
              "       [27, 60]], dtype=int32)>"
            ]
          },
          "metadata": {},
          "execution_count": 70
        }
      ]
    },
    {
      "cell_type": "code",
      "source": [
        "# Matrix multiplication with python operator \"@\"\n",
        "tensor @ tensor"
      ],
      "metadata": {
        "colab": {
          "base_uri": "https://localhost:8080/"
        },
        "id": "NBDrHVQwWJRJ",
        "outputId": "668e170d-6b62-4683-83e7-77e3f0ed86ef"
      },
      "execution_count": null,
      "outputs": [
        {
          "output_type": "execute_result",
          "data": {
            "text/plain": [
              "<tf.Tensor: shape=(2, 2), dtype=int32, numpy=\n",
              "array([[121,  98],\n",
              "       [ 42,  37]], dtype=int32)>"
            ]
          },
          "metadata": {},
          "execution_count": 71
        }
      ]
    },
    {
      "cell_type": "code",
      "source": [
        "# Create a tensor of (3, 2)\n",
        "X = tf.constant([[1, 2],\n",
        "                 [3, 4],\n",
        "                 [5, 6]])\n",
        "# Create another (3, 2) tensor\n",
        "Y = tf.constant([[7, 8],\n",
        "                 [9, 10],\n",
        "                 [11, 12]])\n",
        "\n",
        "X, Y"
      ],
      "metadata": {
        "colab": {
          "base_uri": "https://localhost:8080/"
        },
        "id": "-eXHLxXhX5B2",
        "outputId": "7deb87ab-48bf-4759-9dc7-783bd881c7b2"
      },
      "execution_count": null,
      "outputs": [
        {
          "output_type": "execute_result",
          "data": {
            "text/plain": [
              "(<tf.Tensor: shape=(3, 2), dtype=int32, numpy=\n",
              " array([[1, 2],\n",
              "        [3, 4],\n",
              "        [5, 6]], dtype=int32)>,\n",
              " <tf.Tensor: shape=(3, 2), dtype=int32, numpy=\n",
              " array([[ 7,  8],\n",
              "        [ 9, 10],\n",
              "        [11, 12]], dtype=int32)>)"
            ]
          },
          "metadata": {},
          "execution_count": 72
        }
      ]
    },
    {
      "cell_type": "code",
      "source": [
        "# Let's change the shape of Y\n",
        "tf.reshape(Y, shape=(2, 3))"
      ],
      "metadata": {
        "colab": {
          "base_uri": "https://localhost:8080/"
        },
        "id": "3iYXNgUTix6w",
        "outputId": "20ef8099-e578-4f2c-baa7-c9abee2c00cc"
      },
      "execution_count": null,
      "outputs": [
        {
          "output_type": "execute_result",
          "data": {
            "text/plain": [
              "<tf.Tensor: shape=(2, 3), dtype=int32, numpy=\n",
              "array([[ 7,  8,  9],\n",
              "       [10, 11, 12]], dtype=int32)>"
            ]
          },
          "metadata": {},
          "execution_count": 73
        }
      ]
    },
    {
      "cell_type": "code",
      "source": [
        "# Try to matrix multiply X by reshaped Y\n",
        "X @ tf.reshape(Y, shape=(2, 3))"
      ],
      "metadata": {
        "colab": {
          "base_uri": "https://localhost:8080/"
        },
        "id": "EWYBqujnX4_W",
        "outputId": "e0ba81a3-2fa7-450a-dc2a-933aee6fabd0"
      },
      "execution_count": null,
      "outputs": [
        {
          "output_type": "execute_result",
          "data": {
            "text/plain": [
              "<tf.Tensor: shape=(3, 3), dtype=int32, numpy=\n",
              "array([[ 27,  30,  33],\n",
              "       [ 61,  68,  75],\n",
              "       [ 95, 106, 117]], dtype=int32)>"
            ]
          },
          "metadata": {},
          "execution_count": 74
        }
      ]
    },
    {
      "cell_type": "code",
      "source": [
        "tf.matmul(X, tf.reshape(Y, shape=(2, 3)))"
      ],
      "metadata": {
        "colab": {
          "base_uri": "https://localhost:8080/"
        },
        "id": "k0e_bGTgX46K",
        "outputId": "40ad4a19-ed12-45ec-97aa-7fd55a5bc8cd"
      },
      "execution_count": null,
      "outputs": [
        {
          "output_type": "execute_result",
          "data": {
            "text/plain": [
              "<tf.Tensor: shape=(3, 3), dtype=int32, numpy=\n",
              "array([[ 27,  30,  33],\n",
              "       [ 61,  68,  75],\n",
              "       [ 95, 106, 117]], dtype=int32)>"
            ]
          },
          "metadata": {},
          "execution_count": 75
        }
      ]
    },
    {
      "cell_type": "code",
      "source": [
        "# Try reshaping X instead of Y\n",
        "tf.matmul(tf.reshape(X, shape=(2, 3)), Y)"
      ],
      "metadata": {
        "colab": {
          "base_uri": "https://localhost:8080/"
        },
        "id": "YkZoF3VSX43m",
        "outputId": "df43c509-e163-4a83-a4e1-951e8fd71dba"
      },
      "execution_count": null,
      "outputs": [
        {
          "output_type": "execute_result",
          "data": {
            "text/plain": [
              "<tf.Tensor: shape=(2, 2), dtype=int32, numpy=\n",
              "array([[ 58,  64],\n",
              "       [139, 154]], dtype=int32)>"
            ]
          },
          "metadata": {},
          "execution_count": 76
        }
      ]
    },
    {
      "cell_type": "code",
      "source": [
        "# Can do the same with transpose\n",
        "X, tf.transpose(X), tf.reshape(X, shape=(2, 3))\n",
        "\n",
        "# Transpose flips the axis, while reshape shuffles the tensor around into the shape that you want"
      ],
      "metadata": {
        "colab": {
          "base_uri": "https://localhost:8080/"
        },
        "id": "lpPjTMuwX41J",
        "outputId": "bbde3160-29c8-4420-96b2-5372d946eab7"
      },
      "execution_count": null,
      "outputs": [
        {
          "output_type": "execute_result",
          "data": {
            "text/plain": [
              "(<tf.Tensor: shape=(3, 2), dtype=int32, numpy=\n",
              " array([[1, 2],\n",
              "        [3, 4],\n",
              "        [5, 6]], dtype=int32)>,\n",
              " <tf.Tensor: shape=(2, 3), dtype=int32, numpy=\n",
              " array([[1, 3, 5],\n",
              "        [2, 4, 6]], dtype=int32)>,\n",
              " <tf.Tensor: shape=(2, 3), dtype=int32, numpy=\n",
              " array([[1, 2, 3],\n",
              "        [4, 5, 6]], dtype=int32)>)"
            ]
          },
          "metadata": {},
          "execution_count": 77
        }
      ]
    },
    {
      "cell_type": "markdown",
      "source": [
        "**The dot product**\n",
        "\n",
        "Matrix multiplication is also referred to as the dot product.\n",
        "\n",
        "You can perform matrix multiplication using:\n",
        "* `tf.matmul()`\n",
        "* `tf.tensordot()`"
      ],
      "metadata": {
        "id": "PzpAWh3WlIf-"
      }
    },
    {
      "cell_type": "code",
      "source": [
        "X, Y"
      ],
      "metadata": {
        "colab": {
          "base_uri": "https://localhost:8080/"
        },
        "id": "61orPeMSlvKE",
        "outputId": "073e5885-04df-4be0-b7e6-821e669af3b0"
      },
      "execution_count": null,
      "outputs": [
        {
          "output_type": "execute_result",
          "data": {
            "text/plain": [
              "(<tf.Tensor: shape=(3, 2), dtype=int32, numpy=\n",
              " array([[1, 2],\n",
              "        [3, 4],\n",
              "        [5, 6]], dtype=int32)>,\n",
              " <tf.Tensor: shape=(3, 2), dtype=int32, numpy=\n",
              " array([[ 7,  8],\n",
              "        [ 9, 10],\n",
              "        [11, 12]], dtype=int32)>)"
            ]
          },
          "metadata": {},
          "execution_count": 78
        }
      ]
    },
    {
      "cell_type": "code",
      "source": [
        "# Perform the dot product on X and Y (requires X or Y to be transposed)\n",
        "tf.tensordot(tf.transpose(X), Y, axes=1)"
      ],
      "metadata": {
        "colab": {
          "base_uri": "https://localhost:8080/"
        },
        "id": "LWwB_knXX4yO",
        "outputId": "489730c3-44c0-44fa-c877-9c9a522382eb"
      },
      "execution_count": null,
      "outputs": [
        {
          "output_type": "execute_result",
          "data": {
            "text/plain": [
              "<tf.Tensor: shape=(2, 2), dtype=int32, numpy=\n",
              "array([[ 89,  98],\n",
              "       [116, 128]], dtype=int32)>"
            ]
          },
          "metadata": {},
          "execution_count": 79
        }
      ]
    },
    {
      "cell_type": "code",
      "source": [
        "tf.transpose(X)"
      ],
      "metadata": {
        "colab": {
          "base_uri": "https://localhost:8080/"
        },
        "id": "B7fKXEXCX4vY",
        "outputId": "8dde91c8-a2af-4b1f-9842-f59e3676b926"
      },
      "execution_count": null,
      "outputs": [
        {
          "output_type": "execute_result",
          "data": {
            "text/plain": [
              "<tf.Tensor: shape=(2, 3), dtype=int32, numpy=\n",
              "array([[1, 3, 5],\n",
              "       [2, 4, 6]], dtype=int32)>"
            ]
          },
          "metadata": {},
          "execution_count": 80
        }
      ]
    },
    {
      "cell_type": "code",
      "source": [
        "tf.reshape(X, shape=(2, 3))"
      ],
      "metadata": {
        "colab": {
          "base_uri": "https://localhost:8080/"
        },
        "id": "zDkR123jX4ns",
        "outputId": "b6626a0e-d61f-40e7-fbed-863176b3719f"
      },
      "execution_count": null,
      "outputs": [
        {
          "output_type": "execute_result",
          "data": {
            "text/plain": [
              "<tf.Tensor: shape=(2, 3), dtype=int32, numpy=\n",
              "array([[1, 2, 3],\n",
              "       [4, 5, 6]], dtype=int32)>"
            ]
          },
          "metadata": {},
          "execution_count": 81
        }
      ]
    },
    {
      "cell_type": "code",
      "source": [
        "# Perform matrix multiplication between X and Y (transposed)\n",
        "tf.matmul(X, tf.transpose(Y))"
      ],
      "metadata": {
        "colab": {
          "base_uri": "https://localhost:8080/"
        },
        "id": "HQQcfv4slHI3",
        "outputId": "14c123d7-aa24-46e5-a304-355dd156a15a"
      },
      "execution_count": null,
      "outputs": [
        {
          "output_type": "execute_result",
          "data": {
            "text/plain": [
              "<tf.Tensor: shape=(3, 3), dtype=int32, numpy=\n",
              "array([[ 23,  29,  35],\n",
              "       [ 53,  67,  81],\n",
              "       [ 83, 105, 127]], dtype=int32)>"
            ]
          },
          "metadata": {},
          "execution_count": 82
        }
      ]
    },
    {
      "cell_type": "code",
      "source": [
        "# Perform matrix multiplication between X and Y (reshaped)\n",
        "tf.matmul(X, tf.reshape(Y, shape=(2, 3)))"
      ],
      "metadata": {
        "colab": {
          "base_uri": "https://localhost:8080/"
        },
        "id": "f5S2gtOJlHGR",
        "outputId": "bfcba519-0ce0-4967-ef68-f73781e3aadc"
      },
      "execution_count": null,
      "outputs": [
        {
          "output_type": "execute_result",
          "data": {
            "text/plain": [
              "<tf.Tensor: shape=(3, 3), dtype=int32, numpy=\n",
              "array([[ 27,  30,  33],\n",
              "       [ 61,  68,  75],\n",
              "       [ 95, 106, 117]], dtype=int32)>"
            ]
          },
          "metadata": {},
          "execution_count": 83
        }
      ]
    },
    {
      "cell_type": "code",
      "source": [
        "# Check the values of Y, reshape Y and transposed Y\n",
        "print('Normal Y:')\n",
        "print(Y, '\\n')\n",
        "\n",
        "print('Y reshaped to (2, 3):')\n",
        "print(tf.reshape(Y, (2, 3)), '\\n')\n",
        "\n",
        "print('Y transposed:')\n",
        "print(tf.transpose(Y))"
      ],
      "metadata": {
        "colab": {
          "base_uri": "https://localhost:8080/"
        },
        "id": "DjUcbqd6lHDW",
        "outputId": "3a5841b9-4250-4aee-f510-8640f2ac929a"
      },
      "execution_count": null,
      "outputs": [
        {
          "output_type": "stream",
          "name": "stdout",
          "text": [
            "Normal Y:\n",
            "tf.Tensor(\n",
            "[[ 7  8]\n",
            " [ 9 10]\n",
            " [11 12]], shape=(3, 2), dtype=int32) \n",
            "\n",
            "Y reshaped to (2, 3):\n",
            "tf.Tensor(\n",
            "[[ 7  8  9]\n",
            " [10 11 12]], shape=(2, 3), dtype=int32) \n",
            "\n",
            "Y transposed:\n",
            "tf.Tensor(\n",
            "[[ 7  9 11]\n",
            " [ 8 10 12]], shape=(2, 3), dtype=int32)\n"
          ]
        }
      ]
    },
    {
      "cell_type": "markdown",
      "source": [
        "Generally, when performing multiplication on two tensors and one of the axes doesn't line up, you will tranpose (rather than reshape) one of the tensors to get satisfy the matrix multiplication rules."
      ],
      "metadata": {
        "id": "rWREbDcsoJqt"
      }
    },
    {
      "cell_type": "markdown",
      "source": [
        "### Changing the datatype of a tensor"
      ],
      "metadata": {
        "id": "bmnST9RkvzUU"
      }
    },
    {
      "cell_type": "code",
      "source": [
        "tf.__version__"
      ],
      "metadata": {
        "colab": {
          "base_uri": "https://localhost:8080/",
          "height": 35
        },
        "id": "tQd9bb0cwZnW",
        "outputId": "fb558353-8ba1-453b-8f04-ed5ee2ded906"
      },
      "execution_count": null,
      "outputs": [
        {
          "output_type": "execute_result",
          "data": {
            "text/plain": [
              "'2.17.1'"
            ],
            "application/vnd.google.colaboratory.intrinsic+json": {
              "type": "string"
            }
          },
          "metadata": {},
          "execution_count": 85
        }
      ]
    },
    {
      "cell_type": "code",
      "source": [
        "# Create a new tensor with default datatype (float32)\n",
        "B = tf.constant([1.7, 7.4])\n",
        "B, B.dtype"
      ],
      "metadata": {
        "colab": {
          "base_uri": "https://localhost:8080/"
        },
        "id": "GNiM1G2tlHAq",
        "outputId": "0d50565f-c33b-4d5e-b24e-5f276c72a7b2"
      },
      "execution_count": null,
      "outputs": [
        {
          "output_type": "execute_result",
          "data": {
            "text/plain": [
              "(<tf.Tensor: shape=(2,), dtype=float32, numpy=array([1.7, 7.4], dtype=float32)>,\n",
              " tf.float32)"
            ]
          },
          "metadata": {},
          "execution_count": 86
        }
      ]
    },
    {
      "cell_type": "code",
      "source": [
        "C = tf.constant([7, 10])\n",
        "C.dtype"
      ],
      "metadata": {
        "colab": {
          "base_uri": "https://localhost:8080/"
        },
        "id": "stE7h-tnlG9v",
        "outputId": "7a6a9445-dbf9-4130-a4f6-b4248cc15145"
      },
      "execution_count": null,
      "outputs": [
        {
          "output_type": "execute_result",
          "data": {
            "text/plain": [
              "tf.int32"
            ]
          },
          "metadata": {},
          "execution_count": 87
        }
      ]
    },
    {
      "cell_type": "code",
      "source": [
        "# Change fro float32 to float16 (reduced precision)\n",
        "D = tf.cast(B, dtype=tf.float16)\n",
        "D, D.dtype"
      ],
      "metadata": {
        "colab": {
          "base_uri": "https://localhost:8080/"
        },
        "id": "v5x-k2izvzpD",
        "outputId": "5eb9e319-1d09-40ac-abdd-ac7262624b4b"
      },
      "execution_count": null,
      "outputs": [
        {
          "output_type": "execute_result",
          "data": {
            "text/plain": [
              "(<tf.Tensor: shape=(2,), dtype=float16, numpy=array([1.7, 7.4], dtype=float16)>,\n",
              " tf.float16)"
            ]
          },
          "metadata": {},
          "execution_count": 88
        }
      ]
    },
    {
      "cell_type": "code",
      "source": [
        "# Change front int32 to float32\n",
        "E = tf.cast(C, dtype=tf.float32)\n",
        "E, E.dtype"
      ],
      "metadata": {
        "colab": {
          "base_uri": "https://localhost:8080/"
        },
        "id": "oh5Ofrh-v0GQ",
        "outputId": "9657893c-3670-4e66-af65-05e93c4c0bee"
      },
      "execution_count": null,
      "outputs": [
        {
          "output_type": "execute_result",
          "data": {
            "text/plain": [
              "(<tf.Tensor: shape=(2,), dtype=float32, numpy=array([ 7., 10.], dtype=float32)>,\n",
              " tf.float32)"
            ]
          },
          "metadata": {},
          "execution_count": 89
        }
      ]
    },
    {
      "cell_type": "code",
      "source": [
        "E_float16 = tf.cast(E, dtype=tf.float16)\n",
        "E_float16"
      ],
      "metadata": {
        "colab": {
          "base_uri": "https://localhost:8080/"
        },
        "id": "8opOM1c3v0DK",
        "outputId": "bca9038a-e224-429e-8054-118e19c071ec"
      },
      "execution_count": null,
      "outputs": [
        {
          "output_type": "execute_result",
          "data": {
            "text/plain": [
              "<tf.Tensor: shape=(2,), dtype=float16, numpy=array([ 7., 10.], dtype=float16)>"
            ]
          },
          "metadata": {},
          "execution_count": 90
        }
      ]
    },
    {
      "cell_type": "markdown",
      "source": [
        "### Aggregating tensors\n",
        "\n",
        "Aggregating tensors = condensing them from multiple values down to a smaller amount of values."
      ],
      "metadata": {
        "id": "Nh_NmuLL0W1o"
      }
    },
    {
      "cell_type": "code",
      "source": [
        "# Create a new tensor D\n",
        "D = tf.constant([-7, -10])\n",
        "D"
      ],
      "metadata": {
        "colab": {
          "base_uri": "https://localhost:8080/"
        },
        "id": "X6trA6Zz0XMZ",
        "outputId": "f50b472f-7e00-4aca-b285-338fea38ba22"
      },
      "execution_count": null,
      "outputs": [
        {
          "output_type": "execute_result",
          "data": {
            "text/plain": [
              "<tf.Tensor: shape=(2,), dtype=int32, numpy=array([ -7, -10], dtype=int32)>"
            ]
          },
          "metadata": {},
          "execution_count": 91
        }
      ]
    },
    {
      "cell_type": "code",
      "source": [
        "# Get the absolute values (take all the negative numbers in a tensor and turn them into positive numbers)\n",
        "tf.abs(D)"
      ],
      "metadata": {
        "colab": {
          "base_uri": "https://localhost:8080/"
        },
        "id": "AUyVMuy80XyX",
        "outputId": "db3483b0-02d7-4252-ee50-53d31ea1f9a4"
      },
      "execution_count": null,
      "outputs": [
        {
          "output_type": "execute_result",
          "data": {
            "text/plain": [
              "<tf.Tensor: shape=(2,), dtype=int32, numpy=array([ 7, 10], dtype=int32)>"
            ]
          },
          "metadata": {},
          "execution_count": 92
        }
      ]
    },
    {
      "cell_type": "markdown",
      "source": [
        "Let's go through the following forms of aggregation:\n",
        "* Get the minimum\n",
        "* Get the maximum\n",
        "* Get the mean of a tensor\n",
        "* Get the sum of a tensor\n",
        "\n",
        "TensorFlow uses the term \"reduce\" in its functions to indicate operations that aggregate values across one or more dimensions of a tensor, resulting in a tensor with a reduced number of dimensions."
      ],
      "metadata": {
        "id": "W30PzSt916_Y"
      }
    },
    {
      "cell_type": "code",
      "source": [
        "# Practice, find the maximum, minimum, mean, and sum of a tensor\n",
        "stats_tensor = tf.constant([[1, 2, 4],\n",
        "                            [8, 16, 3],\n",
        "                            [5, 10, 9]])\n",
        "stats_tensor"
      ],
      "metadata": {
        "colab": {
          "base_uri": "https://localhost:8080/"
        },
        "id": "i_4n80vm0Xtr",
        "outputId": "a1324ebc-e481-47d6-dafd-3a85093cc26f"
      },
      "execution_count": null,
      "outputs": [
        {
          "output_type": "execute_result",
          "data": {
            "text/plain": [
              "<tf.Tensor: shape=(3, 3), dtype=int32, numpy=\n",
              "array([[ 1,  2,  4],\n",
              "       [ 8, 16,  3],\n",
              "       [ 5, 10,  9]], dtype=int32)>"
            ]
          },
          "metadata": {},
          "execution_count": 93
        }
      ]
    },
    {
      "cell_type": "code",
      "source": [
        "# Find the maximum\n",
        "tf.reduce_max(stats_tensor) # to find max for each dimension use axis=1, default reduces all dimensions (looks at all values and picks max)"
      ],
      "metadata": {
        "colab": {
          "base_uri": "https://localhost:8080/"
        },
        "id": "LsrYxTxT0Xaz",
        "outputId": "ae27cef7-e8f7-4005-cdbe-177ddae2cb51"
      },
      "execution_count": null,
      "outputs": [
        {
          "output_type": "execute_result",
          "data": {
            "text/plain": [
              "<tf.Tensor: shape=(), dtype=int32, numpy=16>"
            ]
          },
          "metadata": {},
          "execution_count": 94
        }
      ]
    },
    {
      "cell_type": "code",
      "source": [
        "# Find the minimum\n",
        "tf.reduce_min(stats_tensor, keepdims=True) # \"keepdims=True\" shows the dimension of input_tensor in the output"
      ],
      "metadata": {
        "colab": {
          "base_uri": "https://localhost:8080/"
        },
        "id": "wQx95Bz30XQg",
        "outputId": "a144875d-3c52-44d2-f963-1cf4512a5904"
      },
      "execution_count": null,
      "outputs": [
        {
          "output_type": "execute_result",
          "data": {
            "text/plain": [
              "<tf.Tensor: shape=(1, 1), dtype=int32, numpy=array([[1]], dtype=int32)>"
            ]
          },
          "metadata": {},
          "execution_count": 95
        }
      ]
    },
    {
      "cell_type": "code",
      "source": [
        "# Find the mean\n",
        "tf.reduce_mean(stats_tensor), tf.reduce_mean(stats_tensor, axis=1, keepdims=True)"
      ],
      "metadata": {
        "colab": {
          "base_uri": "https://localhost:8080/"
        },
        "id": "NsxE9wCEv0Ad",
        "outputId": "0a133220-6268-480f-82b3-57c045ba6382"
      },
      "execution_count": null,
      "outputs": [
        {
          "output_type": "execute_result",
          "data": {
            "text/plain": [
              "(<tf.Tensor: shape=(), dtype=int32, numpy=6>,\n",
              " <tf.Tensor: shape=(3, 1), dtype=int32, numpy=\n",
              " array([[2],\n",
              "        [9],\n",
              "        [8]], dtype=int32)>)"
            ]
          },
          "metadata": {},
          "execution_count": 96
        }
      ]
    },
    {
      "cell_type": "code",
      "source": [
        "# Find the sum\n",
        "tf.reduce_sum(stats_tensor), tf.reduce_sum(stats_tensor, axis=0, keepdims=True)"
      ],
      "metadata": {
        "colab": {
          "base_uri": "https://localhost:8080/"
        },
        "id": "42FAIHYGlG6h",
        "outputId": "75d394f4-721f-4f2f-b52b-156c02b22d21"
      },
      "execution_count": null,
      "outputs": [
        {
          "output_type": "execute_result",
          "data": {
            "text/plain": [
              "(<tf.Tensor: shape=(), dtype=int32, numpy=58>,\n",
              " <tf.Tensor: shape=(1, 3), dtype=int32, numpy=array([[14, 28, 16]], dtype=int32)>)"
            ]
          },
          "metadata": {},
          "execution_count": 97
        }
      ]
    },
    {
      "cell_type": "code",
      "source": [
        "# Create a new tensor used in video for exercise\n",
        "E = tf.constant(np.random.randint(0, 100, size=50))\n",
        "E"
      ],
      "metadata": {
        "colab": {
          "base_uri": "https://localhost:8080/"
        },
        "id": "cjPG8FpU5Oah",
        "outputId": "7550f4cc-625e-419e-b6d6-0f08c0a8f95b"
      },
      "execution_count": null,
      "outputs": [
        {
          "output_type": "execute_result",
          "data": {
            "text/plain": [
              "<tf.Tensor: shape=(50,), dtype=int64, numpy=\n",
              "array([65, 19, 25, 54, 77,  3, 35, 29, 93, 32, 71,  8, 54, 27, 16, 81, 24,\n",
              "        3, 96, 59, 60, 46, 58, 57, 81, 47, 58, 91,  6, 97, 32, 24, 96, 21,\n",
              "       40,  3, 21, 46, 12, 26, 66, 56, 33, 67, 88, 94, 84, 93, 77,  1])>"
            ]
          },
          "metadata": {},
          "execution_count": 98
        }
      ]
    },
    {
      "cell_type": "markdown",
      "source": [
        "🛠 **Exercise:** With what we've just learned, find the variance and standard deviation of our `E` tensor using TensorFlow methods."
      ],
      "metadata": {
        "id": "Ypd2jVMa7Esm"
      }
    },
    {
      "cell_type": "code",
      "source": [
        "# Find the variance\n",
        "E_float32 = tf.cast(E, dtype=tf.float32)\n",
        "tf.math.reduce_variance(E_float32) # causes and error, change the datatype from int64 to float32"
      ],
      "metadata": {
        "colab": {
          "base_uri": "https://localhost:8080/"
        },
        "id": "_G3nDuV96zdK",
        "outputId": "ebbf6eed-ad71-4c8b-992d-bebb50e95fd0"
      },
      "execution_count": null,
      "outputs": [
        {
          "output_type": "execute_result",
          "data": {
            "text/plain": [
              "<tf.Tensor: shape=(), dtype=float32, numpy=882.47833>"
            ]
          },
          "metadata": {},
          "execution_count": 99
        }
      ]
    },
    {
      "cell_type": "code",
      "source": [
        "# Can also use the tensorflow_probability library\n",
        "import tensorflow_probability as tfp\n",
        "tfp.stats.variance(E)"
      ],
      "metadata": {
        "colab": {
          "base_uri": "https://localhost:8080/"
        },
        "id": "8qNZc6Xb9PoX",
        "outputId": "75232c31-7414-41b4-f04f-155ba3ab444a"
      },
      "execution_count": null,
      "outputs": [
        {
          "output_type": "execute_result",
          "data": {
            "text/plain": [
              "<tf.Tensor: shape=(), dtype=int64, numpy=882>"
            ]
          },
          "metadata": {},
          "execution_count": 100
        }
      ]
    },
    {
      "cell_type": "code",
      "source": [
        "# Find the standard deviation\n",
        "tf.math.reduce_std(E_float32)"
      ],
      "metadata": {
        "colab": {
          "base_uri": "https://localhost:8080/"
        },
        "id": "ZwnASb4A6zbf",
        "outputId": "be87f0ab-2a91-4dde-afca-051a57f59cc6"
      },
      "execution_count": null,
      "outputs": [
        {
          "output_type": "execute_result",
          "data": {
            "text/plain": [
              "<tf.Tensor: shape=(), dtype=float32, numpy=29.706537>"
            ]
          },
          "metadata": {},
          "execution_count": 101
        }
      ]
    },
    {
      "cell_type": "markdown",
      "source": [
        "So we can use two libraries, `tfp` (tensorflow_probability) or `math`. `tfp` is advantageous for probabilitic modeling and statistical analysis, while `math` is sufficient for basic mathematical computations.\n",
        "\n",
        "Choose `tfp` if you need to:\n",
        "* Model uncertainty\n",
        "* Perform Bayesian inference\n",
        "* Work with probability distributions\n",
        "* Implement advanced statistical methods\n",
        "\n",
        "Stick with TensorFlow `math` if you only need:\n",
        "* Basic mathematical operations\n",
        "* Deterministic computations\n",
        "* Standard neural network architectures without probabilistic elements"
      ],
      "metadata": {
        "id": "a3Hagjr1-GXr"
      }
    },
    {
      "cell_type": "markdown",
      "source": [
        "### Find the positional maximum and minimum\n",
        "\n",
        "The \"position maximum\" of a tensor refers to the index (or set of indices) corresponding to the element with the highest value within that tensor; essentially, it tells you where the maximum value is located within the tensor's structure, not just the maximum value itself.\n",
        "\n",
        "The \"positional minimum\" similarly returns the indice(s) of the minimum values of tensor."
      ],
      "metadata": {
        "id": "iTHfeUKy_oZ8"
      }
    },
    {
      "cell_type": "code",
      "source": [
        "# Positional maximum (exercise)\n",
        "tf.argmax(E)"
      ],
      "metadata": {
        "colab": {
          "base_uri": "https://localhost:8080/"
        },
        "id": "Yz1ARPz16zZh",
        "outputId": "d95562b5-765b-4bbc-a7f8-f6b9e36347eb"
      },
      "execution_count": null,
      "outputs": [
        {
          "output_type": "execute_result",
          "data": {
            "text/plain": [
              "<tf.Tensor: shape=(), dtype=int64, numpy=29>"
            ]
          },
          "metadata": {},
          "execution_count": 102
        }
      ]
    },
    {
      "cell_type": "code",
      "source": [
        "E[11]"
      ],
      "metadata": {
        "colab": {
          "base_uri": "https://localhost:8080/"
        },
        "id": "TzP6ew666zWs",
        "outputId": "15f67193-5616-4914-fc6c-df2ca3a7e7e6"
      },
      "execution_count": null,
      "outputs": [
        {
          "output_type": "execute_result",
          "data": {
            "text/plain": [
              "<tf.Tensor: shape=(), dtype=int64, numpy=8>"
            ]
          },
          "metadata": {},
          "execution_count": 103
        }
      ]
    },
    {
      "cell_type": "code",
      "source": [
        "# Positional minimum (exercise)\n",
        "tf.argmin(E)"
      ],
      "metadata": {
        "colab": {
          "base_uri": "https://localhost:8080/"
        },
        "id": "s3R9S5w96zTz",
        "outputId": "a9b3495c-b71f-40dc-99a2-51180d5c436e"
      },
      "execution_count": null,
      "outputs": [
        {
          "output_type": "execute_result",
          "data": {
            "text/plain": [
              "<tf.Tensor: shape=(), dtype=int64, numpy=49>"
            ]
          },
          "metadata": {},
          "execution_count": 104
        }
      ]
    },
    {
      "cell_type": "code",
      "source": [
        "E[41]"
      ],
      "metadata": {
        "colab": {
          "base_uri": "https://localhost:8080/"
        },
        "id": "6w3o93DE6zJp",
        "outputId": "c0ab59fc-54d0-457f-c323-f334deeaaf13"
      },
      "execution_count": null,
      "outputs": [
        {
          "output_type": "execute_result",
          "data": {
            "text/plain": [
              "<tf.Tensor: shape=(), dtype=int64, numpy=56>"
            ]
          },
          "metadata": {},
          "execution_count": 105
        }
      ]
    },
    {
      "cell_type": "code",
      "source": [
        "# Create a new tesnor for finding positional maximum and minimum (back to video)\n",
        "tf.random.set_seed(42)\n",
        "F = tf.random.uniform(shape=[50])\n",
        "F"
      ],
      "metadata": {
        "id": "qQtRVuMbAcGD",
        "colab": {
          "base_uri": "https://localhost:8080/"
        },
        "outputId": "7d75e667-2cb7-4bd9-a5c9-eb916859ffb5"
      },
      "execution_count": null,
      "outputs": [
        {
          "output_type": "execute_result",
          "data": {
            "text/plain": [
              "<tf.Tensor: shape=(50,), dtype=float32, numpy=\n",
              "array([0.6645621 , 0.44100678, 0.3528825 , 0.46448255, 0.03366041,\n",
              "       0.68467236, 0.74011743, 0.8724445 , 0.22632635, 0.22319686,\n",
              "       0.3103881 , 0.7223358 , 0.13318717, 0.5480639 , 0.5746088 ,\n",
              "       0.8996835 , 0.00946367, 0.5212307 , 0.6345445 , 0.1993283 ,\n",
              "       0.72942245, 0.54583454, 0.10756552, 0.6767061 , 0.6602763 ,\n",
              "       0.33695042, 0.60141766, 0.21062577, 0.8527372 , 0.44062173,\n",
              "       0.9485276 , 0.23752594, 0.81179297, 0.5263394 , 0.494308  ,\n",
              "       0.21612847, 0.8457197 , 0.8718841 , 0.3083862 , 0.6868038 ,\n",
              "       0.23764038, 0.7817228 , 0.9671384 , 0.06870162, 0.79873943,\n",
              "       0.66028714, 0.5871513 , 0.16461694, 0.7381023 , 0.32054043],\n",
              "      dtype=float32)>"
            ]
          },
          "metadata": {},
          "execution_count": 106
        }
      ]
    },
    {
      "cell_type": "code",
      "source": [
        "# Find the positional maximum\n",
        "tf.argmax(F)"
      ],
      "metadata": {
        "colab": {
          "base_uri": "https://localhost:8080/"
        },
        "id": "SmSjh2jTFQ5M",
        "outputId": "3d31ae6c-e675-4c35-b00e-f0fd75e5448c"
      },
      "execution_count": null,
      "outputs": [
        {
          "output_type": "execute_result",
          "data": {
            "text/plain": [
              "<tf.Tensor: shape=(), dtype=int64, numpy=42>"
            ]
          },
          "metadata": {},
          "execution_count": 107
        }
      ]
    },
    {
      "cell_type": "code",
      "source": [
        "# Index on our largest value position\n",
        "F[tf.argmax(F)]"
      ],
      "metadata": {
        "colab": {
          "base_uri": "https://localhost:8080/"
        },
        "id": "e1ydgzuYFQ2i",
        "outputId": "1468213d-1cf4-45f5-cc7b-066ff3ce488a"
      },
      "execution_count": null,
      "outputs": [
        {
          "output_type": "execute_result",
          "data": {
            "text/plain": [
              "<tf.Tensor: shape=(), dtype=float32, numpy=0.9671384>"
            ]
          },
          "metadata": {},
          "execution_count": 108
        }
      ]
    },
    {
      "cell_type": "code",
      "source": [
        "# Find the max value of F\n",
        "tf.reduce_max(F)"
      ],
      "metadata": {
        "colab": {
          "base_uri": "https://localhost:8080/"
        },
        "id": "wWeMc1khFQwi",
        "outputId": "2e3aec7b-6a3b-45d9-adc7-f0bffc04088f"
      },
      "execution_count": null,
      "outputs": [
        {
          "output_type": "execute_result",
          "data": {
            "text/plain": [
              "<tf.Tensor: shape=(), dtype=float32, numpy=0.9671384>"
            ]
          },
          "metadata": {},
          "execution_count": 109
        }
      ]
    },
    {
      "cell_type": "code",
      "source": [
        "# Check for equality\n",
        "F[tf.argmax(F)] == tf.reduce_max(F)"
      ],
      "metadata": {
        "colab": {
          "base_uri": "https://localhost:8080/"
        },
        "id": "0w4iYlvcFQuB",
        "outputId": "8fc508c6-6397-4b13-b8b3-72ee16b3f7f0"
      },
      "execution_count": null,
      "outputs": [
        {
          "output_type": "execute_result",
          "data": {
            "text/plain": [
              "<tf.Tensor: shape=(), dtype=bool, numpy=True>"
            ]
          },
          "metadata": {},
          "execution_count": 110
        }
      ]
    },
    {
      "cell_type": "code",
      "source": [
        "# Find the positional minimum\n",
        "tf.argmin(F)"
      ],
      "metadata": {
        "colab": {
          "base_uri": "https://localhost:8080/"
        },
        "id": "W45L5sXqGKf4",
        "outputId": "3566fbe3-5a4f-4249-a8ba-136c9f807fa3"
      },
      "execution_count": null,
      "outputs": [
        {
          "output_type": "execute_result",
          "data": {
            "text/plain": [
              "<tf.Tensor: shape=(), dtype=int64, numpy=16>"
            ]
          },
          "metadata": {},
          "execution_count": 111
        }
      ]
    },
    {
      "cell_type": "code",
      "source": [
        "# Find the minimum using the positional minimum index\n",
        "F[tf.argmin(F)]"
      ],
      "metadata": {
        "colab": {
          "base_uri": "https://localhost:8080/"
        },
        "id": "DyrYV7dJGYtd",
        "outputId": "a74f4d05-1b01-4f4e-c919-fe0a150bfa34"
      },
      "execution_count": null,
      "outputs": [
        {
          "output_type": "execute_result",
          "data": {
            "text/plain": [
              "<tf.Tensor: shape=(), dtype=float32, numpy=0.009463668>"
            ]
          },
          "metadata": {},
          "execution_count": 112
        }
      ]
    },
    {
      "cell_type": "markdown",
      "source": [
        "### Squeezing a tensor (removing all single dimensions)\n",
        "\n",
        "Removes dimensions of size one from a tensor."
      ],
      "metadata": {
        "id": "fQx_Wta2G2FH"
      }
    },
    {
      "cell_type": "code",
      "source": [
        "# Create a tensor to get started\n",
        "tf.random.set_seed(42)\n",
        "G = tf.constant(tf.random.uniform(shape=[50]), shape=(1, 1, 1, 1, 50))\n",
        "G"
      ],
      "metadata": {
        "colab": {
          "base_uri": "https://localhost:8080/"
        },
        "id": "uFhzh8OiGccy",
        "outputId": "5bafa1d4-83e3-440b-e432-a87cbb62be1c"
      },
      "execution_count": null,
      "outputs": [
        {
          "output_type": "execute_result",
          "data": {
            "text/plain": [
              "<tf.Tensor: shape=(1, 1, 1, 1, 50), dtype=float32, numpy=\n",
              "array([[[[[0.6645621 , 0.44100678, 0.3528825 , 0.46448255, 0.03366041,\n",
              "           0.68467236, 0.74011743, 0.8724445 , 0.22632635, 0.22319686,\n",
              "           0.3103881 , 0.7223358 , 0.13318717, 0.5480639 , 0.5746088 ,\n",
              "           0.8996835 , 0.00946367, 0.5212307 , 0.6345445 , 0.1993283 ,\n",
              "           0.72942245, 0.54583454, 0.10756552, 0.6767061 , 0.6602763 ,\n",
              "           0.33695042, 0.60141766, 0.21062577, 0.8527372 , 0.44062173,\n",
              "           0.9485276 , 0.23752594, 0.81179297, 0.5263394 , 0.494308  ,\n",
              "           0.21612847, 0.8457197 , 0.8718841 , 0.3083862 , 0.6868038 ,\n",
              "           0.23764038, 0.7817228 , 0.9671384 , 0.06870162, 0.79873943,\n",
              "           0.66028714, 0.5871513 , 0.16461694, 0.7381023 , 0.32054043]]]]],\n",
              "      dtype=float32)>"
            ]
          },
          "metadata": {},
          "execution_count": 113
        }
      ]
    },
    {
      "cell_type": "code",
      "source": [
        "G.shape"
      ],
      "metadata": {
        "colab": {
          "base_uri": "https://localhost:8080/"
        },
        "id": "gfLyQDzcGsrQ",
        "outputId": "5e71def3-ace6-47cd-cb9c-c8ccc16ba0a9"
      },
      "execution_count": null,
      "outputs": [
        {
          "output_type": "execute_result",
          "data": {
            "text/plain": [
              "TensorShape([1, 1, 1, 1, 50])"
            ]
          },
          "metadata": {},
          "execution_count": 114
        }
      ]
    },
    {
      "cell_type": "code",
      "source": [
        "G_squeezed = tf.squeeze(G)\n",
        "G_squeezed, G_squeezed.shape"
      ],
      "metadata": {
        "colab": {
          "base_uri": "https://localhost:8080/"
        },
        "id": "aiKhvSDHGsnV",
        "outputId": "230f0a3d-025d-4df1-84ef-2dda5c3dd478"
      },
      "execution_count": null,
      "outputs": [
        {
          "output_type": "execute_result",
          "data": {
            "text/plain": [
              "(<tf.Tensor: shape=(50,), dtype=float32, numpy=\n",
              " array([0.6645621 , 0.44100678, 0.3528825 , 0.46448255, 0.03366041,\n",
              "        0.68467236, 0.74011743, 0.8724445 , 0.22632635, 0.22319686,\n",
              "        0.3103881 , 0.7223358 , 0.13318717, 0.5480639 , 0.5746088 ,\n",
              "        0.8996835 , 0.00946367, 0.5212307 , 0.6345445 , 0.1993283 ,\n",
              "        0.72942245, 0.54583454, 0.10756552, 0.6767061 , 0.6602763 ,\n",
              "        0.33695042, 0.60141766, 0.21062577, 0.8527372 , 0.44062173,\n",
              "        0.9485276 , 0.23752594, 0.81179297, 0.5263394 , 0.494308  ,\n",
              "        0.21612847, 0.8457197 , 0.8718841 , 0.3083862 , 0.6868038 ,\n",
              "        0.23764038, 0.7817228 , 0.9671384 , 0.06870162, 0.79873943,\n",
              "        0.66028714, 0.5871513 , 0.16461694, 0.7381023 , 0.32054043],\n",
              "       dtype=float32)>,\n",
              " TensorShape([50]))"
            ]
          },
          "metadata": {},
          "execution_count": 115
        }
      ]
    },
    {
      "cell_type": "markdown",
      "source": [
        "### One-hot encoding tensors\n",
        "\n",
        "In data preprocessing for linear models, “One Hot Encoding” is a crucial technique for managing categorical data. In this method, “hot” signifies a category’s presence (encoded as one), while “cold” (or zero) signals its absence, using binary vectors for representation."
      ],
      "metadata": {
        "id": "f4Y4PpmPIE5I"
      }
    },
    {
      "cell_type": "code",
      "source": [
        "# Create a list of indices\n",
        "some_list = [0, 1, 2, 3] # could be red, green, blue, purple\n",
        "\n",
        "# One hot encode our list of indices\n",
        "tf.one_hot(some_list, depth=4)\n",
        "\n",
        "# Each row produced has the same length as the list, and has a value of 1 in the same place as the number we're looking at in the list\n",
        "# So, the first row has one at the first index ([1., 0., 0., 0.]) because 0 is the first index in the list\n",
        "# So on and so forth, the third row ([0., 0., 1., 0.]) has 1 at the third index, because we're looking at the third value in the list"
      ],
      "metadata": {
        "colab": {
          "base_uri": "https://localhost:8080/"
        },
        "id": "ZfesJSVZGsj9",
        "outputId": "beeb4ab7-0e68-48dc-a078-b776201cee2e"
      },
      "execution_count": null,
      "outputs": [
        {
          "output_type": "execute_result",
          "data": {
            "text/plain": [
              "<tf.Tensor: shape=(4, 4), dtype=float32, numpy=\n",
              "array([[1., 0., 0., 0.],\n",
              "       [0., 1., 0., 0.],\n",
              "       [0., 0., 1., 0.],\n",
              "       [0., 0., 0., 1.]], dtype=float32)>"
            ]
          },
          "metadata": {},
          "execution_count": 116
        }
      ]
    },
    {
      "cell_type": "code",
      "source": [
        "# Specify custom values for one hot encoding\n",
        "tf.one_hot(some_list, depth=4, on_value='yo I love deep learning', off_value='I also like to dance')"
      ],
      "metadata": {
        "colab": {
          "base_uri": "https://localhost:8080/"
        },
        "id": "xYFBOTL1Gsg-",
        "outputId": "c51d0f7f-7cd3-405a-97d6-b87262092835"
      },
      "execution_count": null,
      "outputs": [
        {
          "output_type": "execute_result",
          "data": {
            "text/plain": [
              "<tf.Tensor: shape=(4, 4), dtype=string, numpy=\n",
              "array([[b'yo I love deep learning', b'I also like to dance',\n",
              "        b'I also like to dance', b'I also like to dance'],\n",
              "       [b'I also like to dance', b'yo I love deep learning',\n",
              "        b'I also like to dance', b'I also like to dance'],\n",
              "       [b'I also like to dance', b'I also like to dance',\n",
              "        b'yo I love deep learning', b'I also like to dance'],\n",
              "       [b'I also like to dance', b'I also like to dance',\n",
              "        b'I also like to dance', b'yo I love deep learning']],\n",
              "      dtype=object)>"
            ]
          },
          "metadata": {},
          "execution_count": 117
        }
      ]
    },
    {
      "cell_type": "code",
      "source": [
        "# Try different on values and off values\n",
        "tf.one_hot(some_list, depth=4, on_value=100.0, off_value=50.0)"
      ],
      "metadata": {
        "colab": {
          "base_uri": "https://localhost:8080/"
        },
        "id": "3jQIyw-zGsWT",
        "outputId": "64e0b90d-c739-4ceb-e8f4-920d938a5e42"
      },
      "execution_count": null,
      "outputs": [
        {
          "output_type": "execute_result",
          "data": {
            "text/plain": [
              "<tf.Tensor: shape=(4, 4), dtype=float32, numpy=\n",
              "array([[100.,  50.,  50.,  50.],\n",
              "       [ 50., 100.,  50.,  50.],\n",
              "       [ 50.,  50., 100.,  50.],\n",
              "       [ 50.,  50.,  50., 100.]], dtype=float32)>"
            ]
          },
          "metadata": {},
          "execution_count": 118
        }
      ]
    },
    {
      "cell_type": "code",
      "source": [
        "# Index first vector (row)\n",
        "tf.one_hot(some_list, depth=4, on_value=100.0, off_value=50.0)[0]"
      ],
      "metadata": {
        "colab": {
          "base_uri": "https://localhost:8080/"
        },
        "id": "Ab5yD6PrGsP6",
        "outputId": "b1c2187c-e36f-48d8-ae43-f6fc0d33bc7e"
      },
      "execution_count": null,
      "outputs": [
        {
          "output_type": "execute_result",
          "data": {
            "text/plain": [
              "<tf.Tensor: shape=(4,), dtype=float32, numpy=array([100.,  50.,  50.,  50.], dtype=float32)>"
            ]
          },
          "metadata": {},
          "execution_count": 119
        }
      ]
    },
    {
      "cell_type": "code",
      "source": [
        "# Find position of on values\n",
        "for i in tf.one_hot(some_list, depth=4, on_value=100.0, off_value=50.0):\n",
        "  print(tf.argmax(i))"
      ],
      "metadata": {
        "colab": {
          "base_uri": "https://localhost:8080/"
        },
        "id": "WeLkVV4gGsNG",
        "outputId": "70c7c3c5-269d-4dda-aab2-20e9b67472af"
      },
      "execution_count": null,
      "outputs": [
        {
          "output_type": "stream",
          "name": "stdout",
          "text": [
            "tf.Tensor(0, shape=(), dtype=int64)\n",
            "tf.Tensor(1, shape=(), dtype=int64)\n",
            "tf.Tensor(2, shape=(), dtype=int64)\n",
            "tf.Tensor(3, shape=(), dtype=int64)\n"
          ]
        }
      ]
    },
    {
      "cell_type": "code",
      "source": [
        "# Change the depth parameter\n",
        "my_some_list = [0, 1, 2, 3, 4, 5, 6, 7]\n",
        "tf.one_hot(my_some_list, depth=16) # number of columns = depth\n",
        "\n",
        "# If depth is less than the length of the list, only the rows up to list[depth] (index) will have the on value\n",
        "# If depth is greater than the length of the list, all columns beyond the depth will only contain the off value"
      ],
      "metadata": {
        "colab": {
          "base_uri": "https://localhost:8080/"
        },
        "id": "GyGR9ycjGsKD",
        "outputId": "d782d709-3364-4f03-9787-ab686b138621"
      },
      "execution_count": null,
      "outputs": [
        {
          "output_type": "execute_result",
          "data": {
            "text/plain": [
              "<tf.Tensor: shape=(8, 16), dtype=float32, numpy=\n",
              "array([[1., 0., 0., 0., 0., 0., 0., 0., 0., 0., 0., 0., 0., 0., 0., 0.],\n",
              "       [0., 1., 0., 0., 0., 0., 0., 0., 0., 0., 0., 0., 0., 0., 0., 0.],\n",
              "       [0., 0., 1., 0., 0., 0., 0., 0., 0., 0., 0., 0., 0., 0., 0., 0.],\n",
              "       [0., 0., 0., 1., 0., 0., 0., 0., 0., 0., 0., 0., 0., 0., 0., 0.],\n",
              "       [0., 0., 0., 0., 1., 0., 0., 0., 0., 0., 0., 0., 0., 0., 0., 0.],\n",
              "       [0., 0., 0., 0., 0., 1., 0., 0., 0., 0., 0., 0., 0., 0., 0., 0.],\n",
              "       [0., 0., 0., 0., 0., 0., 1., 0., 0., 0., 0., 0., 0., 0., 0., 0.],\n",
              "       [0., 0., 0., 0., 0., 0., 0., 1., 0., 0., 0., 0., 0., 0., 0., 0.]],\n",
              "      dtype=float32)>"
            ]
          },
          "metadata": {},
          "execution_count": 121
        }
      ]
    },
    {
      "cell_type": "markdown",
      "source": [
        "📖 **Resource:** website with machine learning resources: https://machinelearningmastery.com/one-hot-encoding-understanding-the-hot-in-data/"
      ],
      "metadata": {
        "id": "B5BjjL0pV5xu"
      }
    },
    {
      "cell_type": "markdown",
      "source": [
        "### Squaring, log, square root"
      ],
      "metadata": {
        "id": "jffN9PwpODyF"
      }
    },
    {
      "cell_type": "code",
      "source": [
        "H = tf.range(1, 10)\n",
        "H"
      ],
      "metadata": {
        "colab": {
          "base_uri": "https://localhost:8080/"
        },
        "id": "DVZpFzRBGsG-",
        "outputId": "9bd10098-3509-49f5-f9e4-af47e81e1d64"
      },
      "execution_count": null,
      "outputs": [
        {
          "output_type": "execute_result",
          "data": {
            "text/plain": [
              "<tf.Tensor: shape=(9,), dtype=int32, numpy=array([1, 2, 3, 4, 5, 6, 7, 8, 9], dtype=int32)>"
            ]
          },
          "metadata": {},
          "execution_count": 122
        }
      ]
    },
    {
      "cell_type": "code",
      "source": [
        "# Square it\n",
        "tf.square(H)"
      ],
      "metadata": {
        "colab": {
          "base_uri": "https://localhost:8080/"
        },
        "id": "WAOCH112ODhT",
        "outputId": "c09e3532-bab6-4b10-b72f-5af4de686bdb"
      },
      "execution_count": null,
      "outputs": [
        {
          "output_type": "execute_result",
          "data": {
            "text/plain": [
              "<tf.Tensor: shape=(9,), dtype=int32, numpy=array([ 1,  4,  9, 16, 25, 36, 49, 64, 81], dtype=int32)>"
            ]
          },
          "metadata": {},
          "execution_count": 123
        }
      ]
    },
    {
      "cell_type": "code",
      "source": [
        "# Find the square root\n",
        "tf.sqrt(tf.cast(H, dtype=tf.float32)) # method required non int type, otherwise error\n"
      ],
      "metadata": {
        "colab": {
          "base_uri": "https://localhost:8080/"
        },
        "id": "xnnwl9hCODc3",
        "outputId": "809599f7-4171-475e-adb8-94940cd7e8ef"
      },
      "execution_count": null,
      "outputs": [
        {
          "output_type": "execute_result",
          "data": {
            "text/plain": [
              "<tf.Tensor: shape=(9,), dtype=float32, numpy=\n",
              "array([1.       , 1.4142135, 1.7320508, 2.       , 2.236068 , 2.4494898,\n",
              "       2.6457512, 2.828427 , 3.       ], dtype=float32)>"
            ]
          },
          "metadata": {},
          "execution_count": 124
        }
      ]
    },
    {
      "cell_type": "code",
      "source": [
        "# Find the log\n",
        "tf.math.log(tf.cast(H, dtype=tf.float32)) # method required non int type, otherwise error"
      ],
      "metadata": {
        "colab": {
          "base_uri": "https://localhost:8080/"
        },
        "id": "nLTdebfyODag",
        "outputId": "696d7f8a-ae42-485b-efc9-fae0e3bb927e"
      },
      "execution_count": null,
      "outputs": [
        {
          "output_type": "execute_result",
          "data": {
            "text/plain": [
              "<tf.Tensor: shape=(9,), dtype=float32, numpy=\n",
              "array([0.       , 0.6931472, 1.0986123, 1.3862944, 1.609438 , 1.7917595,\n",
              "       1.9459102, 2.0794415, 2.1972246], dtype=float32)>"
            ]
          },
          "metadata": {},
          "execution_count": 125
        }
      ]
    },
    {
      "cell_type": "markdown",
      "source": [
        "🛠 **Exercise:** Find three other math operations in TensorFlow documentation and try executing them.\n",
        "\n",
        "* `tf.math.approx_max_k`: a function that efficiently finds the k largest values and their corresponding indices in a given tensor.\n",
        "* `tf.math.approx_min_k`: a function that efficiently finds the k smallest values and their corresponding indices in a given tensor. *not working*\n",
        "* `tf.math.less_equal`: returns the truth value of (x <= y) element-wise."
      ],
      "metadata": {
        "id": "cdb1B_tBPsMl"
      }
    },
    {
      "cell_type": "code",
      "source": [
        "# Create a new tensor for exercise\n",
        "tf.random.set_seed(50)\n",
        "G_exercise = tf.random.uniform(shape=[20])\n",
        "G_exercise"
      ],
      "metadata": {
        "colab": {
          "base_uri": "https://localhost:8080/"
        },
        "id": "8ByUpSxcQ8xP",
        "outputId": "73512206-c39e-4819-8df3-f51d89ad68ca"
      },
      "execution_count": null,
      "outputs": [
        {
          "output_type": "execute_result",
          "data": {
            "text/plain": [
              "<tf.Tensor: shape=(20,), dtype=float32, numpy=\n",
              "array([0.94196117, 0.1697309 , 0.5064962 , 0.27598453, 0.899318  ,\n",
              "       0.4486513 , 0.43584716, 0.71771336, 0.85751176, 0.12559032,\n",
              "       0.0875535 , 0.85261035, 0.17349517, 0.31913245, 0.4845121 ,\n",
              "       0.5540675 , 0.6620537 , 0.20845115, 0.43225408, 0.9061552 ],\n",
              "      dtype=float32)>"
            ]
          },
          "metadata": {},
          "execution_count": 126
        }
      ]
    },
    {
      "cell_type": "code",
      "source": [
        "# Find the k largest values and their given indices\n",
        "tf.math.approx_max_k(G_exercise, 2)"
      ],
      "metadata": {
        "colab": {
          "base_uri": "https://localhost:8080/"
        },
        "id": "DzXoRvdzODXW",
        "outputId": "2d79d258-70d7-47d7-8434-d40fcf10f127"
      },
      "execution_count": null,
      "outputs": [
        {
          "output_type": "execute_result",
          "data": {
            "text/plain": [
              "ApproxTopK(values=<tf.Tensor: shape=(2,), dtype=float32, numpy=array([0.94196117, 0.9061552 ], dtype=float32)>, indices=<tf.Tensor: shape=(2,), dtype=int32, numpy=array([ 0, 19], dtype=int32)>)"
            ]
          },
          "metadata": {},
          "execution_count": 127
        }
      ]
    },
    {
      "cell_type": "code",
      "source": [
        "# Find the k smallest values and their given indices\n",
        "tf.math.approx_min_k(tf.cast(G_exercise, dtype=tf.float16), 2)\n",
        "\n",
        "'''\n",
        "Following solution suggested by colab also not working.\n",
        "\n",
        "@tf.function\n",
        "def find_min_k(tensor, k):\n",
        "  return tf.math.approx_min_k(tensor, k)\n",
        "\n",
        "# Find the k smallest values and their given indices\n",
        "min_values, min_indices = find_min_k(G_exercise, 2)\n",
        "print(min_values, min_indices)\n",
        "'''"
      ],
      "metadata": {
        "colab": {
          "base_uri": "https://localhost:8080/",
          "height": 721
        },
        "id": "uS0YAVrOODU7",
        "outputId": "4ae65652-e433-45d7-807c-ba0a6c1ce96e"
      },
      "execution_count": null,
      "outputs": [
        {
          "output_type": "error",
          "ename": "NotFoundError",
          "evalue": "Could not find device for node: {{node ApproxTopK}} = ApproxTopK[T=DT_HALF, aggregate_to_topk=true, is_max_k=false, k=2, recall_target=0.95, reduction_dimension=-1, reduction_input_size_override=-1]\nAll kernels registered for op ApproxTopK:\n  device='XLA_CPU_JIT'; T in [DT_FLOAT, DT_BFLOAT16, DT_HALF]\n  device='XLA_GPU_JIT'; T in [DT_FLOAT, DT_BFLOAT16, DT_HALF]\n  device='CPU'; T in [DT_DOUBLE]; reduction_dimension in [-1]; is_max_k in [true]\n  device='CPU'; T in [DT_FLOAT]; reduction_dimension in [-1]; is_max_k in [true]\n  device='CPU'; T in [DT_BFLOAT16]; reduction_dimension in [-1]; is_max_k in [true]\n  device='CPU'; T in [DT_HALF]; reduction_dimension in [-1]; is_max_k in [true]\n  device='CPU'; T in [DT_INT32]; reduction_dimension in [-1]; is_max_k in [true]\n  device='CPU'; T in [DT_INT8]; reduction_dimension in [-1]; is_max_k in [true]\n  device='CPU'; T in [DT_UINT8]; reduction_dimension in [-1]; is_max_k in [true]\n  device='CPU'; T in [DT_INT16]; reduction_dimension in [-1]; is_max_k in [true]\n  device='CPU'; T in [DT_UINT16]; reduction_dimension in [-1]; is_max_k in [true]\n  device='CPU'; T in [DT_UINT32]; reduction_dimension in [-1]; is_max_k in [true]\n  device='CPU'; T in [DT_INT64]; reduction_dimension in [-1]; is_max_k in [true]\n  device='CPU'; T in [DT_UINT64]; reduction_dimension in [-1]; is_max_k in [true]\n  device='GPU'; T in [DT_DOUBLE]; reduction_dimension in [-1]; is_max_k in [true]\n  device='GPU'; T in [DT_FLOAT]; reduction_dimension in [-1]; is_max_k in [true]\n  device='GPU'; T in [DT_BFLOAT16]; reduction_dimension in [-1]; is_max_k in [true]\n  device='GPU'; T in [DT_HALF]; reduction_dimension in [-1]; is_max_k in [true]\n [Op:ApproxTopK] name: ",
          "traceback": [
            "\u001b[0;31m---------------------------------------------------------------------------\u001b[0m",
            "\u001b[0;31mNotFoundError\u001b[0m                             Traceback (most recent call last)",
            "\u001b[0;32m<ipython-input-128-cfbc4025a846>\u001b[0m in \u001b[0;36m<cell line: 0>\u001b[0;34m()\u001b[0m\n\u001b[1;32m      1\u001b[0m \u001b[0;31m# Find the k smallest values and their given indices\u001b[0m\u001b[0;34m\u001b[0m\u001b[0;34m\u001b[0m\u001b[0m\n\u001b[0;32m----> 2\u001b[0;31m \u001b[0mtf\u001b[0m\u001b[0;34m.\u001b[0m\u001b[0mmath\u001b[0m\u001b[0;34m.\u001b[0m\u001b[0mapprox_min_k\u001b[0m\u001b[0;34m(\u001b[0m\u001b[0mtf\u001b[0m\u001b[0;34m.\u001b[0m\u001b[0mcast\u001b[0m\u001b[0;34m(\u001b[0m\u001b[0mG_exercise\u001b[0m\u001b[0;34m,\u001b[0m \u001b[0mdtype\u001b[0m\u001b[0;34m=\u001b[0m\u001b[0mtf\u001b[0m\u001b[0;34m.\u001b[0m\u001b[0mfloat16\u001b[0m\u001b[0;34m)\u001b[0m\u001b[0;34m,\u001b[0m \u001b[0;36m2\u001b[0m\u001b[0;34m)\u001b[0m\u001b[0;34m\u001b[0m\u001b[0;34m\u001b[0m\u001b[0m\n\u001b[0m\u001b[1;32m      3\u001b[0m \u001b[0;34m\u001b[0m\u001b[0m\n\u001b[1;32m      4\u001b[0m '''\n\u001b[1;32m      5\u001b[0m \u001b[0mFollowing\u001b[0m \u001b[0msolution\u001b[0m \u001b[0msuggested\u001b[0m \u001b[0mby\u001b[0m \u001b[0mcolab\u001b[0m \u001b[0malso\u001b[0m \u001b[0;32mnot\u001b[0m \u001b[0mworking\u001b[0m\u001b[0;34m.\u001b[0m\u001b[0;34m\u001b[0m\u001b[0;34m\u001b[0m\u001b[0m\n",
            "\u001b[0;32m/usr/local/lib/python3.11/dist-packages/tensorflow/python/util/traceback_utils.py\u001b[0m in \u001b[0;36merror_handler\u001b[0;34m(*args, **kwargs)\u001b[0m\n\u001b[1;32m    151\u001b[0m     \u001b[0;32mexcept\u001b[0m \u001b[0mException\u001b[0m \u001b[0;32mas\u001b[0m \u001b[0me\u001b[0m\u001b[0;34m:\u001b[0m\u001b[0;34m\u001b[0m\u001b[0;34m\u001b[0m\u001b[0m\n\u001b[1;32m    152\u001b[0m       \u001b[0mfiltered_tb\u001b[0m \u001b[0;34m=\u001b[0m \u001b[0m_process_traceback_frames\u001b[0m\u001b[0;34m(\u001b[0m\u001b[0me\u001b[0m\u001b[0;34m.\u001b[0m\u001b[0m__traceback__\u001b[0m\u001b[0;34m)\u001b[0m\u001b[0;34m\u001b[0m\u001b[0;34m\u001b[0m\u001b[0m\n\u001b[0;32m--> 153\u001b[0;31m       \u001b[0;32mraise\u001b[0m \u001b[0me\u001b[0m\u001b[0;34m.\u001b[0m\u001b[0mwith_traceback\u001b[0m\u001b[0;34m(\u001b[0m\u001b[0mfiltered_tb\u001b[0m\u001b[0;34m)\u001b[0m \u001b[0;32mfrom\u001b[0m \u001b[0;32mNone\u001b[0m\u001b[0;34m\u001b[0m\u001b[0;34m\u001b[0m\u001b[0m\n\u001b[0m\u001b[1;32m    154\u001b[0m     \u001b[0;32mfinally\u001b[0m\u001b[0;34m:\u001b[0m\u001b[0;34m\u001b[0m\u001b[0;34m\u001b[0m\u001b[0m\n\u001b[1;32m    155\u001b[0m       \u001b[0;32mdel\u001b[0m \u001b[0mfiltered_tb\u001b[0m\u001b[0;34m\u001b[0m\u001b[0;34m\u001b[0m\u001b[0m\n",
            "\u001b[0;32m/usr/local/lib/python3.11/dist-packages/tensorflow/python/framework/ops.py\u001b[0m in \u001b[0;36mraise_from_not_ok_status\u001b[0;34m(e, name)\u001b[0m\n\u001b[1;32m   5981\u001b[0m \u001b[0;32mdef\u001b[0m \u001b[0mraise_from_not_ok_status\u001b[0m\u001b[0;34m(\u001b[0m\u001b[0me\u001b[0m\u001b[0;34m,\u001b[0m \u001b[0mname\u001b[0m\u001b[0;34m)\u001b[0m \u001b[0;34m->\u001b[0m \u001b[0mNoReturn\u001b[0m\u001b[0;34m:\u001b[0m\u001b[0;34m\u001b[0m\u001b[0;34m\u001b[0m\u001b[0m\n\u001b[1;32m   5982\u001b[0m   \u001b[0me\u001b[0m\u001b[0;34m.\u001b[0m\u001b[0mmessage\u001b[0m \u001b[0;34m+=\u001b[0m \u001b[0;34m(\u001b[0m\u001b[0;34m\" name: \"\u001b[0m \u001b[0;34m+\u001b[0m \u001b[0mstr\u001b[0m\u001b[0;34m(\u001b[0m\u001b[0mname\u001b[0m \u001b[0;32mif\u001b[0m \u001b[0mname\u001b[0m \u001b[0;32mis\u001b[0m \u001b[0;32mnot\u001b[0m \u001b[0;32mNone\u001b[0m \u001b[0;32melse\u001b[0m \u001b[0;34m\"\"\u001b[0m\u001b[0;34m)\u001b[0m\u001b[0;34m)\u001b[0m\u001b[0;34m\u001b[0m\u001b[0;34m\u001b[0m\u001b[0m\n\u001b[0;32m-> 5983\u001b[0;31m   \u001b[0;32mraise\u001b[0m \u001b[0mcore\u001b[0m\u001b[0;34m.\u001b[0m\u001b[0m_status_to_exception\u001b[0m\u001b[0;34m(\u001b[0m\u001b[0me\u001b[0m\u001b[0;34m)\u001b[0m \u001b[0;32mfrom\u001b[0m \u001b[0;32mNone\u001b[0m  \u001b[0;31m# pylint: disable=protected-access\u001b[0m\u001b[0;34m\u001b[0m\u001b[0;34m\u001b[0m\u001b[0m\n\u001b[0m\u001b[1;32m   5984\u001b[0m \u001b[0;34m\u001b[0m\u001b[0m\n\u001b[1;32m   5985\u001b[0m \u001b[0;34m\u001b[0m\u001b[0m\n",
            "\u001b[0;31mNotFoundError\u001b[0m: Could not find device for node: {{node ApproxTopK}} = ApproxTopK[T=DT_HALF, aggregate_to_topk=true, is_max_k=false, k=2, recall_target=0.95, reduction_dimension=-1, reduction_input_size_override=-1]\nAll kernels registered for op ApproxTopK:\n  device='XLA_CPU_JIT'; T in [DT_FLOAT, DT_BFLOAT16, DT_HALF]\n  device='XLA_GPU_JIT'; T in [DT_FLOAT, DT_BFLOAT16, DT_HALF]\n  device='CPU'; T in [DT_DOUBLE]; reduction_dimension in [-1]; is_max_k in [true]\n  device='CPU'; T in [DT_FLOAT]; reduction_dimension in [-1]; is_max_k in [true]\n  device='CPU'; T in [DT_BFLOAT16]; reduction_dimension in [-1]; is_max_k in [true]\n  device='CPU'; T in [DT_HALF]; reduction_dimension in [-1]; is_max_k in [true]\n  device='CPU'; T in [DT_INT32]; reduction_dimension in [-1]; is_max_k in [true]\n  device='CPU'; T in [DT_INT8]; reduction_dimension in [-1]; is_max_k in [true]\n  device='CPU'; T in [DT_UINT8]; reduction_dimension in [-1]; is_max_k in [true]\n  device='CPU'; T in [DT_INT16]; reduction_dimension in [-1]; is_max_k in [true]\n  device='CPU'; T in [DT_UINT16]; reduction_dimension in [-1]; is_max_k in [true]\n  device='CPU'; T in [DT_UINT32]; reduction_dimension in [-1]; is_max_k in [true]\n  device='CPU'; T in [DT_INT64]; reduction_dimension in [-1]; is_max_k in [true]\n  device='CPU'; T in [DT_UINT64]; reduction_dimension in [-1]; is_max_k in [true]\n  device='GPU'; T in [DT_DOUBLE]; reduction_dimension in [-1]; is_max_k in [true]\n  device='GPU'; T in [DT_FLOAT]; reduction_dimension in [-1]; is_max_k in [true]\n  device='GPU'; T in [DT_BFLOAT16]; reduction_dimension in [-1]; is_max_k in [true]\n  device='GPU'; T in [DT_HALF]; reduction_dimension in [-1]; is_max_k in [true]\n [Op:ApproxTopK] name: "
          ]
        }
      ]
    },
    {
      "cell_type": "code",
      "source": [
        "# Find which elements are less than or equal to elements in the tensor\n",
        "G_exercise, tf.math.less_equal(G_exercise, [0.5])"
      ],
      "metadata": {
        "colab": {
          "base_uri": "https://localhost:8080/"
        },
        "id": "i-b0of5DPr5d",
        "outputId": "2c087a05-fffe-426d-98a4-cfdc5138ff28"
      },
      "execution_count": null,
      "outputs": [
        {
          "output_type": "execute_result",
          "data": {
            "text/plain": [
              "(<tf.Tensor: shape=(20,), dtype=float32, numpy=\n",
              " array([0.94196117, 0.1697309 , 0.5064962 , 0.27598453, 0.899318  ,\n",
              "        0.4486513 , 0.43584716, 0.71771336, 0.85751176, 0.12559032,\n",
              "        0.0875535 , 0.85261035, 0.17349517, 0.31913245, 0.4845121 ,\n",
              "        0.5540675 , 0.6620537 , 0.20845115, 0.43225408, 0.9061552 ],\n",
              "       dtype=float32)>,\n",
              " <tf.Tensor: shape=(20,), dtype=bool, numpy=\n",
              " array([False,  True, False,  True, False,  True,  True, False, False,\n",
              "         True,  True, False,  True,  True,  True, False, False,  True,\n",
              "         True, False])>)"
            ]
          },
          "metadata": {},
          "execution_count": 129
        }
      ]
    },
    {
      "cell_type": "markdown",
      "source": [
        "### Tensors and NumPy\n",
        "\n",
        "TensorFlow interacts beautifully with NumPy arrays."
      ],
      "metadata": {
        "id": "UxDi7HogWzCK"
      }
    },
    {
      "cell_type": "code",
      "source": [
        "# Create a tensor directly from a NumPy array\n",
        "J = tf.constant(np.array([3., 7., 10.]))\n",
        "J"
      ],
      "metadata": {
        "colab": {
          "base_uri": "https://localhost:8080/"
        },
        "id": "u-Shef_dPr3O",
        "outputId": "f4fee4b5-f483-45ad-f5f4-22f9640569c1"
      },
      "execution_count": null,
      "outputs": [
        {
          "output_type": "execute_result",
          "data": {
            "text/plain": [
              "<tf.Tensor: shape=(3,), dtype=float64, numpy=array([ 3.,  7., 10.])>"
            ]
          },
          "metadata": {},
          "execution_count": 130
        }
      ]
    },
    {
      "cell_type": "code",
      "source": [
        "# Convert our tensor back to our NumPy array\n",
        "np.array(J), type(np.array(J))"
      ],
      "metadata": {
        "colab": {
          "base_uri": "https://localhost:8080/"
        },
        "id": "moik9pJTPr04",
        "outputId": "7bd06d57-650b-4e90-dd3b-bea4792dbc05"
      },
      "execution_count": null,
      "outputs": [
        {
          "output_type": "execute_result",
          "data": {
            "text/plain": [
              "(array([ 3.,  7., 10.]), numpy.ndarray)"
            ]
          },
          "metadata": {},
          "execution_count": 131
        }
      ]
    },
    {
      "cell_type": "code",
      "source": [
        "# Convert tensor J to a NumPy array\n",
        "J.numpy(), type(J.numpy())"
      ],
      "metadata": {
        "colab": {
          "base_uri": "https://localhost:8080/"
        },
        "id": "_61Ua6rNPryb",
        "outputId": "d42e705d-754a-449d-e7d2-847877f5e885"
      },
      "execution_count": null,
      "outputs": [
        {
          "output_type": "execute_result",
          "data": {
            "text/plain": [
              "(array([ 3.,  7., 10.]), numpy.ndarray)"
            ]
          },
          "metadata": {},
          "execution_count": 132
        }
      ]
    },
    {
      "cell_type": "code",
      "source": [
        "# The default types of each are slightly different\n",
        "numpy_J = tf.constant(np.array([3., 7., 10.]))\n",
        "tensor_J = tf.constant([3., 7., 10.])\n",
        "# Check the data types of each\n",
        "numpy_J.dtype, tensor_J.dtype\n",
        "\n",
        "# default type of Numpy array is float64, default type of TensorFlow tensor is float32"
      ],
      "metadata": {
        "colab": {
          "base_uri": "https://localhost:8080/"
        },
        "id": "M0A6OCi1Prv4",
        "outputId": "3bbe6ffc-ee1b-4e6d-df07-829aece3562a"
      },
      "execution_count": null,
      "outputs": [
        {
          "output_type": "execute_result",
          "data": {
            "text/plain": [
              "(tf.float64, tf.float32)"
            ]
          },
          "metadata": {},
          "execution_count": 133
        }
      ]
    },
    {
      "cell_type": "markdown",
      "source": [
        "## 🛠 Exercises & 📖 Extra-curriculum\n",
        "\n",
        "You can find solutions to the exercises in extras/solutions/.\n",
        "\n",
        "Github link: https://github.com/mrdbourke/tensorflow-deep-learning#-00-tensorflow-fundamentals-exercises"
      ],
      "metadata": {
        "id": "2juevte_ZpO_"
      }
    },
    {
      "cell_type": "markdown",
      "source": [
        "### 🛠 00. TensorFlow Fundamentals Exercises"
      ],
      "metadata": {
        "id": "chxkSCMXZ9FX"
      }
    },
    {
      "cell_type": "markdown",
      "source": [
        "#### Exercise 1: Create a vector, scalar, matrix and tensor with values of your choosing using tf.constant()."
      ],
      "metadata": {
        "id": "CxVg-_xypJS8"
      }
    },
    {
      "cell_type": "code",
      "source": [
        "# Create a vector, scalar, matrix and tensor with values of your choosing using tf.constant()\n",
        "exercise_scalar = tf.constant([3.])\n",
        "exercise_vector = tf.constant([0, 1, 2, 3, 4, 5])\n",
        "exercise_matrix = tf.constant([[1, 2, 3],\n",
        "                               [4, 5, 6],\n",
        "                               [7, 8, 9]])\n",
        "exercise_tensor = tf.constant([2, 34, 8, 76, 14, 34, 56, 23, 78, 3, 1, 76, 34, 56, 98, 17, 14, 37], shape=(1, 9, 2))\n",
        "\n",
        "exercise_scalar, exercise_vector, exercise_matrix, exercise_tensor"
      ],
      "metadata": {
        "colab": {
          "base_uri": "https://localhost:8080/"
        },
        "id": "FgDOeO1tWNdB",
        "outputId": "fd136349-47e5-4271-9cf6-9292ccfcae7b"
      },
      "execution_count": null,
      "outputs": [
        {
          "output_type": "execute_result",
          "data": {
            "text/plain": [
              "(<tf.Tensor: shape=(1,), dtype=float32, numpy=array([3.], dtype=float32)>,\n",
              " <tf.Tensor: shape=(6,), dtype=int32, numpy=array([0, 1, 2, 3, 4, 5], dtype=int32)>,\n",
              " <tf.Tensor: shape=(3, 3), dtype=int32, numpy=\n",
              " array([[1, 2, 3],\n",
              "        [4, 5, 6],\n",
              "        [7, 8, 9]], dtype=int32)>,\n",
              " <tf.Tensor: shape=(1, 9, 2), dtype=int32, numpy=\n",
              " array([[[ 2, 34],\n",
              "         [ 8, 76],\n",
              "         [14, 34],\n",
              "         [56, 23],\n",
              "         [78,  3],\n",
              "         [ 1, 76],\n",
              "         [34, 56],\n",
              "         [98, 17],\n",
              "         [14, 37]]], dtype=int32)>)"
            ]
          },
          "metadata": {},
          "execution_count": 134
        }
      ]
    },
    {
      "cell_type": "markdown",
      "source": [
        "#### Exercise 2: Find the shape, rank and size of the tensors you created in 1."
      ],
      "metadata": {
        "id": "Nt0J0v7xpFjt"
      }
    },
    {
      "cell_type": "code",
      "source": [
        "# Find the shape, rank and size of the tensors you created in 1\n",
        "print('exercise_scalar shape:', exercise_scalar.shape)\n",
        "print('exercise_scalar rank (dimensions):', exercise_scalar.ndim)\n",
        "print('exercise_scalar size:', tf.size(exercise_scalar.numpy())) # .numpy() returns the numberical value only\n",
        "\n",
        "print('\\nexercise_vector shape:', exercise_vector.shape)\n",
        "print('exercise_vector rank (dimensions):', exercise_vector.ndim)\n",
        "print('exercise_vector size:', tf.size(exercise_vector.numpy()))\n",
        "\n",
        "print('\\nexercise_matrix shape:', exercise_matrix.shape)\n",
        "print('exercise_matrix rank (dimensions):', exercise_matrix.ndim)\n",
        "print('exercise_matrix size:', tf.size(exercise_matrix.numpy()))\n",
        "\n",
        "print('\\nexercise_tensor shape:', exercise_tensor.shape)\n",
        "print('exercise_tensor rank (dimensions):', exercise_tensor.ndim)\n",
        "print('exercise_tensor size:', tf.size(exercise_tensor.numpy()))"
      ],
      "metadata": {
        "colab": {
          "base_uri": "https://localhost:8080/"
        },
        "id": "PJNtZWlvWNaS",
        "outputId": "12a73e13-c908-4dec-c509-71f923edba59"
      },
      "execution_count": null,
      "outputs": [
        {
          "output_type": "stream",
          "name": "stdout",
          "text": [
            "exercise_scalar shape: (1,)\n",
            "exercise_scalar rank (dimensions): 1\n",
            "exercise_scalar size: tf.Tensor(1, shape=(), dtype=int32)\n",
            "\n",
            "exercise_vector shape: (6,)\n",
            "exercise_vector rank (dimensions): 1\n",
            "exercise_vector size: tf.Tensor(6, shape=(), dtype=int32)\n",
            "\n",
            "exercise_matrix shape: (3, 3)\n",
            "exercise_matrix rank (dimensions): 2\n",
            "exercise_matrix size: tf.Tensor(9, shape=(), dtype=int32)\n",
            "\n",
            "exercise_tensor shape: (1, 9, 2)\n",
            "exercise_tensor rank (dimensions): 3\n",
            "exercise_tensor size: tf.Tensor(18, shape=(), dtype=int32)\n"
          ]
        }
      ]
    },
    {
      "cell_type": "markdown",
      "source": [
        "#### Exercise 3: Create two tensors containing random values between 0 and 1 with shape [5, 300]."
      ],
      "metadata": {
        "id": "3LmMmmwXpC9g"
      }
    },
    {
      "cell_type": "code",
      "source": [
        "# Create two tensors containing random values between 0 and 1 with shape [5, 300]\n",
        "\n",
        "# first tensor\n",
        "tf.random.set_seed(14)\n",
        "ex_random_tensor1 = tf.random.Generator.from_seed(14) # set seed for reproducibility\n",
        "ex_random_tensor1 = ex_random_tensor1.uniform(shape=(5, 300))\n",
        "ex_random_tensor1"
      ],
      "metadata": {
        "colab": {
          "base_uri": "https://localhost:8080/"
        },
        "id": "9r6Gqgl-WNX5",
        "outputId": "4cdc91dd-5621-43a7-8355-276b59dc2b3c"
      },
      "execution_count": null,
      "outputs": [
        {
          "output_type": "execute_result",
          "data": {
            "text/plain": [
              "<tf.Tensor: shape=(5, 300), dtype=float32, numpy=\n",
              "array([[0.6457157 , 0.16484237, 0.4484123 , ..., 0.89660215, 0.9323058 ,\n",
              "        0.01358628],\n",
              "       [0.7463044 , 0.3287711 , 0.89990544, ..., 0.40853846, 0.6575657 ,\n",
              "        0.51386154],\n",
              "       [0.18530178, 0.14207125, 0.03463948, ..., 0.23896313, 0.10053349,\n",
              "        0.21235132],\n",
              "       [0.8799336 , 0.6545799 , 0.3623494 , ..., 0.57640624, 0.27010262,\n",
              "        0.34334147],\n",
              "       [0.2932942 , 0.66050565, 0.62351525, ..., 0.8472601 , 0.87572944,\n",
              "        0.37801242]], dtype=float32)>"
            ]
          },
          "metadata": {},
          "execution_count": 136
        }
      ]
    },
    {
      "cell_type": "code",
      "source": [
        "# Check min and max values are between 0 and 1\n",
        "tf.reduce_max(ex_random_tensor1), tf.reduce_min(ex_random_tensor1)"
      ],
      "metadata": {
        "colab": {
          "base_uri": "https://localhost:8080/"
        },
        "id": "bgnAySoSZott",
        "outputId": "0769014f-e1f6-42b0-eb5a-bb739c1c3a88"
      },
      "execution_count": null,
      "outputs": [
        {
          "output_type": "execute_result",
          "data": {
            "text/plain": [
              "(<tf.Tensor: shape=(), dtype=float32, numpy=0.9981767>,\n",
              " <tf.Tensor: shape=(), dtype=float32, numpy=0.0003619194>)"
            ]
          },
          "metadata": {},
          "execution_count": 137
        }
      ]
    },
    {
      "cell_type": "code",
      "source": [
        "# second tensor\n",
        "tf.random.set_seed(15)\n",
        "ex_random_tensor2 = tf.random.Generator.from_seed(15) # set seed for reproducibility\n",
        "ex_random_tensor2 = ex_random_tensor2.uniform(shape=(5, 300))\n",
        "ex_random_tensor2"
      ],
      "metadata": {
        "colab": {
          "base_uri": "https://localhost:8080/"
        },
        "id": "FEURVmVUZorB",
        "outputId": "e8f00ad8-f81a-450d-8c3e-13612752f15a"
      },
      "execution_count": null,
      "outputs": [
        {
          "output_type": "execute_result",
          "data": {
            "text/plain": [
              "<tf.Tensor: shape=(5, 300), dtype=float32, numpy=\n",
              "array([[0.816115  , 0.4129653 , 0.2632984 , ..., 0.3287711 , 0.89990544,\n",
              "        0.80902195],\n",
              "       [0.75954664, 0.20455527, 0.80811715, ..., 0.14207125, 0.03463948,\n",
              "        0.20632088],\n",
              "       [0.37123632, 0.9250525 , 0.91835976, ..., 0.6545799 , 0.3623494 ,\n",
              "        0.11630154],\n",
              "       [0.02891374, 0.87833166, 0.6165559 , ..., 0.66050565, 0.62351525,\n",
              "        0.376606  ],\n",
              "       [0.83196616, 0.86020887, 0.6980419 , ..., 0.65553236, 0.96398544,\n",
              "        0.4293959 ]], dtype=float32)>"
            ]
          },
          "metadata": {},
          "execution_count": 138
        }
      ]
    },
    {
      "cell_type": "code",
      "source": [
        "# Check min and max values are between 0 and 1\n",
        "tf.reduce_max(ex_random_tensor2), tf.reduce_min(ex_random_tensor2)"
      ],
      "metadata": {
        "colab": {
          "base_uri": "https://localhost:8080/"
        },
        "id": "h63H98UYZooT",
        "outputId": "a9c0f9b2-0c8f-4a1d-bce7-639c726b9a7a"
      },
      "execution_count": null,
      "outputs": [
        {
          "output_type": "execute_result",
          "data": {
            "text/plain": [
              "(<tf.Tensor: shape=(), dtype=float32, numpy=0.9981767>,\n",
              " <tf.Tensor: shape=(), dtype=float32, numpy=0.0003619194>)"
            ]
          },
          "metadata": {},
          "execution_count": 139
        }
      ]
    },
    {
      "cell_type": "code",
      "source": [
        "# third tensor\n",
        "tf.random.set_seed(16)\n",
        "ex_random_tensor3 = tf.constant(np.random.uniform(0.0, 1.0, size=1500), shape=(5, 300))\n",
        "ex_random_tensor3"
      ],
      "metadata": {
        "colab": {
          "base_uri": "https://localhost:8080/"
        },
        "id": "dASsHR4SZolX",
        "outputId": "53a3c3d4-09a2-47e0-d3ce-5f3527e021cd"
      },
      "execution_count": null,
      "outputs": [
        {
          "output_type": "execute_result",
          "data": {
            "text/plain": [
              "<tf.Tensor: shape=(5, 300), dtype=float64, numpy=\n",
              "array([[0.11207952, 0.28402688, 0.42875933, ..., 0.09918831, 0.09316682,\n",
              "        0.69140493],\n",
              "       [0.00143584, 0.16199708, 0.53267193, ..., 0.62370795, 0.16278485,\n",
              "        0.00587014],\n",
              "       [0.40430532, 0.92693388, 0.02882474, ..., 0.27297877, 0.21234375,\n",
              "        0.01201918],\n",
              "       [0.07835266, 0.43209584, 0.97844994, ..., 0.08054464, 0.99846651,\n",
              "        0.904399  ],\n",
              "       [0.95731477, 0.81367187, 0.03274807, ..., 0.20716142, 0.06783502,\n",
              "        0.07616366]])>"
            ]
          },
          "metadata": {},
          "execution_count": 140
        }
      ]
    },
    {
      "cell_type": "code",
      "source": [
        "tf.reduce_max(ex_random_tensor3), tf.reduce_min(ex_random_tensor3)"
      ],
      "metadata": {
        "colab": {
          "base_uri": "https://localhost:8080/"
        },
        "id": "KcJcJLuhZoil",
        "outputId": "23c8468a-15f2-4e2d-ef76-cb149bd41ac2"
      },
      "execution_count": null,
      "outputs": [
        {
          "output_type": "execute_result",
          "data": {
            "text/plain": [
              "(<tf.Tensor: shape=(), dtype=float64, numpy=0.999634067471954>,\n",
              " <tf.Tensor: shape=(), dtype=float64, numpy=0.0003477792969935889>)"
            ]
          },
          "metadata": {},
          "execution_count": 141
        }
      ]
    },
    {
      "cell_type": "code",
      "source": [
        "# Another way to do this\n",
        "tf.random.set_seed(18)\n",
        "\n",
        "review_tensor_1 = tf.random.uniform(shape=(5, 300))\n",
        "review_tensor_2 = tf.random.uniform(shape=(5, 300))\n",
        "\n",
        "review_tensor_1, review_tensor_1.shape, review_tensor_2, review_tensor_2.shape"
      ],
      "metadata": {
        "colab": {
          "base_uri": "https://localhost:8080/"
        },
        "id": "EzDARU2Sx1Bp",
        "outputId": "bfe6116e-44ee-47d8-fe92-416a07d334a6"
      },
      "execution_count": null,
      "outputs": [
        {
          "output_type": "execute_result",
          "data": {
            "text/plain": [
              "(<tf.Tensor: shape=(5, 300), dtype=float32, numpy=\n",
              " array([[0.99482024, 0.423509  , 0.23757601, ..., 0.9008151 , 0.37804234,\n",
              "         0.7523302 ],\n",
              "        [0.71978104, 0.3487463 , 0.5362587 , ..., 0.502463  , 0.80428815,\n",
              "         0.13641596],\n",
              "        [0.6298022 , 0.44815707, 0.3548994 , ..., 0.9418329 , 0.85317564,\n",
              "         0.19250667],\n",
              "        [0.93190825, 0.9386103 , 0.9973055 , ..., 0.37180674, 0.6324371 ,\n",
              "         0.6770823 ],\n",
              "        [0.7946948 , 0.06712067, 0.9683863 , ..., 0.7479322 , 0.50673914,\n",
              "         0.17488968]], dtype=float32)>,\n",
              " TensorShape([5, 300]),\n",
              " <tf.Tensor: shape=(5, 300), dtype=float32, numpy=\n",
              " array([[0.07182574, 0.89430106, 0.43877077, ..., 0.31279123, 0.26463306,\n",
              "         0.8546907 ],\n",
              "        [0.92182326, 0.9383422 , 0.00460994, ..., 0.37463796, 0.53461885,\n",
              "         0.24716055],\n",
              "        [0.7638447 , 0.4456128 , 0.8371905 , ..., 0.63126206, 0.5899426 ,\n",
              "         0.1716013 ],\n",
              "        [0.9511194 , 0.14007449, 0.16739333, ..., 0.5857521 , 0.3355477 ,\n",
              "         0.2106415 ],\n",
              "        [0.9524301 , 0.9632002 , 0.10609913, ..., 0.9240817 , 0.31262743,\n",
              "         0.85170734]], dtype=float32)>,\n",
              " TensorShape([5, 300]))"
            ]
          },
          "metadata": {},
          "execution_count": 174
        }
      ]
    },
    {
      "cell_type": "markdown",
      "source": [
        "#### Exercise 4: Multiply the two tensors you created in 3 using matrix multiplication."
      ],
      "metadata": {
        "id": "3nRXnzDKo7Bl"
      }
    },
    {
      "cell_type": "code",
      "source": [
        "# Multiply the two tensors you created in 3 using matrix multiplication\n",
        "tf.multiply(ex_random_tensor1, ex_random_tensor2)"
      ],
      "metadata": {
        "colab": {
          "base_uri": "https://localhost:8080/"
        },
        "id": "7oysmrQlix_A",
        "outputId": "92b4796b-d560-49e3-c576-d3c2462fa1fd"
      },
      "execution_count": null,
      "outputs": [
        {
          "output_type": "execute_result",
          "data": {
            "text/plain": [
              "<tf.Tensor: shape=(5, 300), dtype=float32, numpy=\n",
              "array([[0.5269783 , 0.06807417, 0.11806624, ..., 0.2947769 , 0.83898705,\n",
              "        0.0109916 ],\n",
              "       [0.566853  , 0.06725187, 0.727229  , ..., 0.05804157, 0.02277773,\n",
              "        0.10602037],\n",
              "       [0.06879075, 0.13142337, 0.0318115 , ..., 0.15642045, 0.03642825,\n",
              "        0.02469679],\n",
              "       [0.02544217, 0.57493824, 0.22340867, ..., 0.38071957, 0.1684131 ,\n",
              "        0.12930445],\n",
              "       [0.24401084, 0.5681728 , 0.4352398 , ..., 0.55540645, 0.8441904 ,\n",
              "        0.162317  ]], dtype=float32)>"
            ]
          },
          "metadata": {},
          "execution_count": 142
        }
      ]
    },
    {
      "cell_type": "markdown",
      "source": [
        "#### Exercise 5: Multiply the two tensors you created in 3 using dot product."
      ],
      "metadata": {
        "id": "rkJAsgoCozhN"
      }
    },
    {
      "cell_type": "code",
      "source": [
        "# Multiply the two tensors you created in 3 using dot product\n",
        "tf.tensordot(ex_random_tensor1, tf.transpose(ex_random_tensor2), axes=1)"
      ],
      "metadata": {
        "colab": {
          "base_uri": "https://localhost:8080/"
        },
        "id": "KAKwWCrQix8b",
        "outputId": "c49644e4-09d3-43d0-c66e-e5a1eafcb61d"
      },
      "execution_count": null,
      "outputs": [
        {
          "output_type": "execute_result",
          "data": {
            "text/plain": [
              "<tf.Tensor: shape=(5, 5), dtype=float32, numpy=\n",
              "array([[71.91752 , 75.44386 , 70.5459  , 71.81357 , 75.62357 ],\n",
              "       [72.48187 , 79.91962 , 77.637665, 73.77139 , 77.765564],\n",
              "       [72.287766, 75.62342 , 70.23537 , 70.703835, 74.09948 ],\n",
              "       [69.014206, 73.79578 , 69.22356 , 71.17187 , 76.16797 ],\n",
              "       [74.12229 , 75.7308  , 74.37825 , 75.789085, 76.8095  ]],\n",
              "      dtype=float32)>"
            ]
          },
          "metadata": {},
          "execution_count": 143
        }
      ]
    },
    {
      "cell_type": "code",
      "source": [
        "# Check dimensions\n",
        "ex_random_tensor1.shape, tf.transpose(ex_random_tensor2).shape, tf.tensordot(ex_random_tensor1, tf.transpose(ex_random_tensor2), axes=1).shape"
      ],
      "metadata": {
        "colab": {
          "base_uri": "https://localhost:8080/"
        },
        "id": "_-gZDd7SlLPV",
        "outputId": "c551d781-a5e2-44ed-9a1f-db9206d05e0d"
      },
      "execution_count": null,
      "outputs": [
        {
          "output_type": "execute_result",
          "data": {
            "text/plain": [
              "(TensorShape([5, 300]), TensorShape([300, 5]), TensorShape([5, 5]))"
            ]
          },
          "metadata": {},
          "execution_count": 144
        }
      ]
    },
    {
      "cell_type": "code",
      "source": [
        "# Multiply the two tensors you created in 3 using matmul\n",
        "tf.matmul(ex_random_tensor1, tf.transpose(ex_random_tensor2))"
      ],
      "metadata": {
        "colab": {
          "base_uri": "https://localhost:8080/"
        },
        "id": "4PdVSvrNix6C",
        "outputId": "850b2994-088f-4f86-cb3c-70ec7e85e92f"
      },
      "execution_count": null,
      "outputs": [
        {
          "output_type": "execute_result",
          "data": {
            "text/plain": [
              "<tf.Tensor: shape=(5, 5), dtype=float32, numpy=\n",
              "array([[71.91752 , 75.44386 , 70.5459  , 71.81357 , 75.62357 ],\n",
              "       [72.48187 , 79.91962 , 77.637665, 73.77139 , 77.765564],\n",
              "       [72.287766, 75.62342 , 70.23537 , 70.703835, 74.09948 ],\n",
              "       [69.014206, 73.79578 , 69.22356 , 71.17187 , 76.16797 ],\n",
              "       [74.12229 , 75.7308  , 74.37825 , 75.789085, 76.8095  ]],\n",
              "      dtype=float32)>"
            ]
          },
          "metadata": {},
          "execution_count": 145
        }
      ]
    },
    {
      "cell_type": "code",
      "source": [
        "# Check dimensions\n",
        "ex_random_tensor1.shape, tf.transpose(ex_random_tensor2).shape, tf.matmul(ex_random_tensor1, tf.transpose(ex_random_tensor2)).shape"
      ],
      "metadata": {
        "colab": {
          "base_uri": "https://localhost:8080/"
        },
        "id": "pvEY2hA2lOnL",
        "outputId": "9d0deaf8-935a-4449-fe39-aba31d87b2bb"
      },
      "execution_count": null,
      "outputs": [
        {
          "output_type": "execute_result",
          "data": {
            "text/plain": [
              "(TensorShape([5, 300]), TensorShape([300, 5]), TensorShape([5, 5]))"
            ]
          },
          "metadata": {},
          "execution_count": 146
        }
      ]
    },
    {
      "cell_type": "code",
      "source": [
        "# Check that multiplied matrices are equal\n",
        "tf.tensordot(ex_random_tensor1, tf.transpose(ex_random_tensor2), axes=1) == tf.matmul(ex_random_tensor1, tf.transpose(ex_random_tensor2))"
      ],
      "metadata": {
        "colab": {
          "base_uri": "https://localhost:8080/"
        },
        "id": "zUnSXr9Rix3T",
        "outputId": "30fccb8c-c4ef-4279-8542-1668aa03026e"
      },
      "execution_count": null,
      "outputs": [
        {
          "output_type": "execute_result",
          "data": {
            "text/plain": [
              "<tf.Tensor: shape=(5, 5), dtype=bool, numpy=\n",
              "array([[ True,  True,  True,  True,  True],\n",
              "       [ True,  True,  True,  True,  True],\n",
              "       [ True,  True,  True,  True,  True],\n",
              "       [ True,  True,  True,  True,  True],\n",
              "       [ True,  True,  True,  True,  True]])>"
            ]
          },
          "metadata": {},
          "execution_count": 147
        }
      ]
    },
    {
      "cell_type": "markdown",
      "source": [
        "#### Exercise 6: Create a tensor with random values between 0 and 1 with shape [224, 224, 3]."
      ],
      "metadata": {
        "id": "KnrZgRhjorUx"
      }
    },
    {
      "cell_type": "code",
      "source": [
        "# Create a tensor with random values between 0 and 1 with shape [224, 224, 3]\n",
        "tf.random.set_seed(14)\n",
        "random_tensor_4 = tf.random.Generator.from_seed(14) # set seed for reproducibility\n",
        "random_tensor_4 = random_tensor_4.uniform(shape=(224, 224, 3))\n",
        "random_tensor_4"
      ],
      "metadata": {
        "colab": {
          "base_uri": "https://localhost:8080/"
        },
        "id": "urBR_6YClpr5",
        "outputId": "1610bfdb-a48c-43c0-fbf2-164e1002e3bf"
      },
      "execution_count": null,
      "outputs": [
        {
          "output_type": "execute_result",
          "data": {
            "text/plain": [
              "<tf.Tensor: shape=(224, 224, 3), dtype=float32, numpy=\n",
              "array([[[0.6457157 , 0.16484237, 0.4484123 ],\n",
              "        [0.6057888 , 0.816115  , 0.4129653 ],\n",
              "        [0.2632984 , 0.19087589, 0.7631861 ],\n",
              "        ...,\n",
              "        [0.46352363, 0.5257573 , 0.9382287 ],\n",
              "        [0.6497872 , 0.18516552, 0.79773116],\n",
              "        [0.36611784, 0.08979952, 0.4708724 ]],\n",
              "\n",
              "       [[0.5742779 , 0.5244585 , 0.47529185],\n",
              "        [0.44046998, 0.93211055, 0.47112358],\n",
              "        [0.737151  , 0.2978208 , 0.35761952],\n",
              "        ...,\n",
              "        [0.68137383, 0.4698242 , 0.9976375 ],\n",
              "        [0.27073598, 0.30773306, 0.90979517],\n",
              "        [0.4774183 , 0.38195646, 0.50485706]],\n",
              "\n",
              "       [[0.44287014, 0.7514242 , 0.1499486 ],\n",
              "        [0.02811372, 0.24711013, 0.3171805 ],\n",
              "        [0.2562983 , 0.98411655, 0.5639552 ],\n",
              "        ...,\n",
              "        [0.87723756, 0.30829275, 0.7989719 ],\n",
              "        [0.60742605, 0.69676137, 0.83041453],\n",
              "        [0.7720957 , 0.44206798, 0.53568316]],\n",
              "\n",
              "       ...,\n",
              "\n",
              "       [[0.33557928, 0.11696231, 0.12967658],\n",
              "        [0.03595316, 0.94307876, 0.64281   ],\n",
              "        [0.6893393 , 0.19433188, 0.89381766],\n",
              "        ...,\n",
              "        [0.61099243, 0.8606372 , 0.8264822 ],\n",
              "        [0.35663152, 0.49855793, 0.1525414 ],\n",
              "        [0.7869905 , 0.6568625 , 0.97990847]],\n",
              "\n",
              "       [[0.3494979 , 0.19703281, 0.40484047],\n",
              "        [0.7923925 , 0.19018936, 0.48587215],\n",
              "        [0.61870444, 0.7305447 , 0.6363797 ],\n",
              "        ...,\n",
              "        [0.14007914, 0.52491784, 0.8105515 ],\n",
              "        [0.94183695, 0.63864994, 0.30435073],\n",
              "        [0.99556696, 0.14276838, 0.5920713 ]],\n",
              "\n",
              "       [[0.07248437, 0.92284274, 0.5972216 ],\n",
              "        [0.1783874 , 0.3025471 , 0.17211902],\n",
              "        [0.39324677, 0.14187598, 0.36583984],\n",
              "        ...,\n",
              "        [0.08551526, 0.8797293 , 0.18143964],\n",
              "        [0.798457  , 0.95215714, 0.3424586 ],\n",
              "        [0.21279228, 0.31875515, 0.07336009]]], dtype=float32)>"
            ]
          },
          "metadata": {},
          "execution_count": 148
        }
      ]
    },
    {
      "cell_type": "code",
      "source": [
        "# Check min, max, and shape\n",
        "tf.reduce_min(random_tensor_4), tf.reduce_max(random_tensor_4), random_tensor_4.shape"
      ],
      "metadata": {
        "colab": {
          "base_uri": "https://localhost:8080/"
        },
        "id": "FH1YmbLCmBX0",
        "outputId": "7f96e250-57ca-469f-e283-8f428becc27e"
      },
      "execution_count": null,
      "outputs": [
        {
          "output_type": "execute_result",
          "data": {
            "text/plain": [
              "(<tf.Tensor: shape=(), dtype=float32, numpy=4.053116e-06>,\n",
              " <tf.Tensor: shape=(), dtype=float32, numpy=0.99998736>,\n",
              " TensorShape([224, 224, 3]))"
            ]
          },
          "metadata": {},
          "execution_count": 149
        }
      ]
    },
    {
      "cell_type": "code",
      "source": [
        "# Another way to do this and manually set minimum and maximum values\n",
        "big_tensor = tf.random.uniform(shape=[224, 224, 3], minval=0, maxval=1)\n",
        "big_tensor"
      ],
      "metadata": {
        "colab": {
          "base_uri": "https://localhost:8080/"
        },
        "id": "NwxRLL4SyaLa",
        "outputId": "f7537bd1-a016-48df-c860-a30e513e701f"
      },
      "execution_count": null,
      "outputs": [
        {
          "output_type": "execute_result",
          "data": {
            "text/plain": [
              "<tf.Tensor: shape=(224, 224, 3), dtype=float32, numpy=\n",
              "array([[[4.9112380e-01, 5.3003132e-01, 1.4631307e-01],\n",
              "        [6.6462088e-01, 6.0586429e-01, 8.2083035e-01],\n",
              "        [7.9139292e-01, 3.8782442e-01, 9.9900615e-01],\n",
              "        ...,\n",
              "        [3.0100179e-01, 6.0639465e-01, 8.4932172e-01],\n",
              "        [9.1465998e-01, 9.2156982e-01, 4.6522570e-01],\n",
              "        [9.0860510e-01, 2.9255652e-01, 9.8321199e-01]],\n",
              "\n",
              "       [[9.3751562e-01, 1.3177049e-01, 3.0410969e-01],\n",
              "        [2.5001693e-01, 9.3303931e-01, 8.0606985e-01],\n",
              "        [6.8146145e-01, 9.9024904e-01, 6.6689038e-01],\n",
              "        ...,\n",
              "        [8.5864568e-01, 8.7709463e-01, 6.4447522e-01],\n",
              "        [4.4084299e-01, 8.6032951e-01, 3.9109659e-01],\n",
              "        [1.6456926e-01, 9.6167183e-01, 4.9146652e-02]],\n",
              "\n",
              "       [[3.9788377e-01, 2.7997780e-01, 3.1804836e-01],\n",
              "        [2.0025587e-01, 3.7393117e-01, 4.2632401e-01],\n",
              "        [9.8690438e-01, 3.6748266e-01, 3.6327207e-01],\n",
              "        ...,\n",
              "        [2.8211617e-01, 8.0663574e-01, 4.1089642e-01],\n",
              "        [7.5058496e-01, 2.7924478e-01, 5.8327150e-01],\n",
              "        [1.8851829e-01, 2.4673307e-01, 1.6680574e-01]],\n",
              "\n",
              "       ...,\n",
              "\n",
              "       [[3.9901674e-01, 3.2532811e-01, 1.4555216e-02],\n",
              "        [4.8352802e-01, 8.6477304e-01, 7.4339020e-01],\n",
              "        [4.3120849e-01, 3.5418081e-01, 1.7769134e-01],\n",
              "        ...,\n",
              "        [5.3691971e-01, 9.5592999e-01, 4.9129903e-01],\n",
              "        [6.4069629e-02, 8.9993834e-02, 1.3815105e-01],\n",
              "        [2.4080491e-01, 7.6263940e-01, 7.9692638e-01]],\n",
              "\n",
              "       [[3.6235309e-01, 1.0229075e-01, 6.3402498e-01],\n",
              "        [8.4409797e-01, 7.7647340e-01, 8.5899580e-01],\n",
              "        [6.4172375e-01, 5.7118309e-01, 1.4893889e-01],\n",
              "        ...,\n",
              "        [6.5792298e-01, 1.5524113e-01, 4.7891974e-02],\n",
              "        [5.9496653e-01, 8.7795782e-01, 4.7770989e-01],\n",
              "        [3.2750428e-01, 1.3982296e-02, 5.1246834e-01]],\n",
              "\n",
              "       [[8.9523900e-01, 9.7642398e-01, 9.7970486e-01],\n",
              "        [3.6679447e-01, 3.9053082e-01, 6.0157871e-01],\n",
              "        [9.4988179e-01, 9.0558982e-01, 7.3808384e-01],\n",
              "        ...,\n",
              "        [1.4796400e-01, 5.2135110e-02, 2.5338686e-01],\n",
              "        [6.4253461e-01, 3.5107136e-04, 5.8205473e-01],\n",
              "        [7.3428833e-01, 3.0144966e-01, 3.0844295e-01]]], dtype=float32)>"
            ]
          },
          "metadata": {},
          "execution_count": 175
        }
      ]
    },
    {
      "cell_type": "markdown",
      "source": [
        "#### Exercise 7: Find the min and max values of the tensor you created in 6 along the first axis."
      ],
      "metadata": {
        "id": "Lc7Yo1KkolDi"
      }
    },
    {
      "cell_type": "code",
      "source": [
        "# Find the min and max values of the tensor you created in 6 along the first axis\n",
        "tf.reduce_min(random_tensor_4, axis=1), tf.reduce_max(random_tensor_4, axis=1)"
      ],
      "metadata": {
        "colab": {
          "base_uri": "https://localhost:8080/"
        },
        "id": "csvm_FXBmXt6",
        "outputId": "7caaee8a-f46d-4d14-862a-17ae3032a65a"
      },
      "execution_count": null,
      "outputs": [
        {
          "output_type": "execute_result",
          "data": {
            "text/plain": [
              "(<tf.Tensor: shape=(224, 3), dtype=float32, numpy=\n",
              " array([[8.85725021e-03, 2.27296352e-03, 3.61919403e-04],\n",
              "        [3.81457806e-03, 1.57868862e-03, 7.04526901e-03],\n",
              "        [2.30479240e-03, 7.05158710e-03, 6.20603561e-04],\n",
              "        [4.91738319e-04, 2.68554688e-03, 3.78012657e-04],\n",
              "        [1.23119354e-03, 4.99725342e-04, 2.79754400e-02],\n",
              "        [8.93831253e-03, 3.03101540e-03, 7.01427460e-04],\n",
              "        [4.61709499e-03, 8.92996788e-04, 5.28657436e-03],\n",
              "        [4.57584858e-03, 1.32584572e-03, 2.43222713e-03],\n",
              "        [6.10423088e-03, 1.17567778e-02, 1.36065483e-03],\n",
              "        [3.61275673e-03, 1.60312653e-03, 1.39328241e-02],\n",
              "        [3.53908539e-03, 7.36081600e-03, 1.54817104e-03],\n",
              "        [1.33935213e-02, 8.34465027e-04, 1.55812502e-02],\n",
              "        [1.62267685e-03, 1.18041039e-03, 1.20317936e-03],\n",
              "        [1.95264816e-04, 2.37429142e-03, 1.57500505e-02],\n",
              "        [8.28146935e-03, 5.01728058e-03, 3.30805779e-04],\n",
              "        [9.07468796e-03, 7.46309757e-03, 1.33943558e-03],\n",
              "        [4.95231152e-03, 2.31814384e-03, 3.54862213e-03],\n",
              "        [1.06047392e-02, 1.65600777e-02, 3.32033634e-03],\n",
              "        [6.23846054e-03, 3.02171707e-03, 4.52494621e-03],\n",
              "        [2.41971016e-03, 4.74154949e-03, 6.91103935e-03],\n",
              "        [6.63793087e-03, 6.70790672e-04, 2.67696381e-03],\n",
              "        [7.45975971e-03, 1.48236752e-03, 6.94513321e-04],\n",
              "        [3.11064720e-03, 3.83901596e-03, 9.18865204e-04],\n",
              "        [1.65319443e-03, 4.41670418e-03, 9.21893120e-03],\n",
              "        [1.81901455e-03, 7.50064850e-04, 1.61135197e-02],\n",
              "        [2.18153000e-05, 2.12800503e-03, 9.84191895e-04],\n",
              "        [5.64455986e-04, 8.73470306e-03, 4.73833084e-03],\n",
              "        [3.68487835e-03, 2.36356258e-03, 9.05394554e-03],\n",
              "        [4.47106361e-03, 7.30633736e-03, 5.26678562e-03],\n",
              "        [1.64437294e-03, 6.13892078e-03, 3.84569168e-03],\n",
              "        [8.81910324e-04, 2.29716301e-04, 1.61767006e-04],\n",
              "        [3.23677063e-03, 7.75754452e-03, 4.87148762e-03],\n",
              "        [1.47688389e-03, 9.87052917e-03, 8.41784477e-03],\n",
              "        [8.56280327e-04, 2.26557255e-03, 2.32982635e-02],\n",
              "        [1.67798996e-03, 8.88204575e-03, 5.97834587e-03],\n",
              "        [8.77463818e-03, 8.14425945e-03, 1.38195753e-02],\n",
              "        [7.97832012e-03, 1.27077103e-03, 9.16719437e-04],\n",
              "        [2.84492970e-03, 8.81075859e-04, 1.51000023e-02],\n",
              "        [1.25801563e-02, 3.59129906e-03, 1.17958784e-02],\n",
              "        [3.54778767e-03, 2.50339508e-05, 1.60026550e-03],\n",
              "        [9.57429409e-03, 4.47201729e-03, 3.80516052e-04],\n",
              "        [4.15623188e-03, 6.83069229e-04, 3.26633453e-03],\n",
              "        [3.47924232e-03, 1.61079168e-02, 1.62303448e-03],\n",
              "        [4.29415703e-03, 1.76724195e-02, 4.24301624e-03],\n",
              "        [3.01575661e-03, 1.31778717e-02, 4.59766388e-03],\n",
              "        [7.83205032e-05, 6.41405582e-03, 3.77357006e-03],\n",
              "        [1.56111717e-02, 1.14132166e-02, 4.75609303e-03],\n",
              "        [1.16734505e-02, 5.32543659e-03, 2.81798840e-03],\n",
              "        [3.03983688e-04, 2.73358822e-03, 8.41617584e-05],\n",
              "        [2.63035297e-03, 5.14972210e-03, 1.16711855e-02],\n",
              "        [8.06653500e-03, 6.61611557e-05, 1.51896477e-03],\n",
              "        [3.93283367e-03, 2.03847885e-05, 6.78825378e-03],\n",
              "        [4.69791889e-03, 2.40564346e-04, 2.93362141e-03],\n",
              "        [1.80792809e-03, 1.62601471e-04, 1.57940388e-03],\n",
              "        [1.51157379e-03, 2.11429596e-03, 7.18319416e-03],\n",
              "        [9.23395157e-04, 1.11222267e-03, 4.89354134e-04],\n",
              "        [2.73001194e-03, 2.77042389e-03, 6.68561459e-03],\n",
              "        [1.54912472e-03, 1.95682049e-03, 2.57170200e-03],\n",
              "        [5.08272648e-03, 3.13997269e-03, 1.51741505e-03],\n",
              "        [2.11596489e-04, 6.34622574e-03, 1.39200687e-02],\n",
              "        [6.14690781e-03, 5.15544415e-03, 5.02407551e-03],\n",
              "        [4.84704971e-04, 6.66737556e-04, 4.03487682e-03],\n",
              "        [1.00910664e-03, 1.67170763e-02, 6.50882721e-05],\n",
              "        [7.53271580e-03, 1.67930126e-03, 4.81414795e-03],\n",
              "        [4.12225723e-04, 1.27720833e-03, 1.92248821e-03],\n",
              "        [1.11567974e-03, 3.66044044e-03, 1.00350380e-03],\n",
              "        [1.47461891e-04, 1.41859055e-04, 5.97119331e-04],\n",
              "        [3.82757187e-03, 4.42147255e-03, 2.84779072e-03],\n",
              "        [4.01020050e-03, 9.78326797e-03, 2.44867802e-03],\n",
              "        [1.02963448e-02, 5.91266155e-03, 1.20202303e-02],\n",
              "        [1.51455402e-03, 7.02381134e-04, 6.27315044e-03],\n",
              "        [3.53956223e-03, 4.14276123e-03, 5.64372540e-03],\n",
              "        [1.52873993e-03, 2.78446674e-02, 4.12023067e-03],\n",
              "        [3.11779976e-03, 9.64879990e-04, 8.30900669e-03],\n",
              "        [6.11996651e-03, 3.12829018e-03, 4.27126884e-04],\n",
              "        [3.18181515e-03, 3.78608704e-03, 2.65038013e-03],\n",
              "        [1.41880512e-02, 7.13062286e-03, 5.54108620e-03],\n",
              "        [2.02977657e-03, 1.52230263e-04, 1.46698952e-03],\n",
              "        [9.21845436e-04, 2.04653740e-02, 5.83088398e-03],\n",
              "        [3.06499004e-03, 3.63469124e-04, 7.30264187e-03],\n",
              "        [5.92827797e-04, 2.72119045e-03, 1.10125542e-03],\n",
              "        [7.09486008e-03, 1.76992416e-02, 8.14187527e-03],\n",
              "        [5.27381897e-04, 9.16838646e-04, 3.54754925e-03],\n",
              "        [2.52366066e-04, 4.27639484e-03, 2.88486481e-04],\n",
              "        [5.88905811e-03, 8.59093666e-03, 1.41766071e-02],\n",
              "        [2.08258629e-04, 6.64293766e-03, 7.27081299e-03],\n",
              "        [1.09301805e-02, 2.98976898e-04, 1.41048431e-03],\n",
              "        [8.38279724e-04, 7.56192207e-03, 3.43298912e-03],\n",
              "        [5.06460667e-03, 8.55433941e-03, 7.82704353e-03],\n",
              "        [9.78028774e-03, 7.78305531e-03, 1.08507872e-02],\n",
              "        [7.11679459e-05, 8.09073448e-04, 8.30054283e-04],\n",
              "        [1.07049942e-04, 4.06980515e-03, 8.04960728e-03],\n",
              "        [3.53693962e-04, 3.28516960e-03, 8.00061226e-03],\n",
              "        [5.68151474e-04, 8.21685791e-03, 6.84535503e-03],\n",
              "        [6.36541843e-03, 2.77996063e-04, 9.38200951e-03],\n",
              "        [8.88347626e-04, 1.35483742e-02, 4.71055508e-03],\n",
              "        [4.74894047e-03, 1.35204792e-02, 8.08978081e-03],\n",
              "        [2.40349770e-03, 9.76109505e-03, 3.97479534e-03],\n",
              "        [1.30599737e-02, 6.69264793e-03, 2.35557556e-03],\n",
              "        [1.44090652e-02, 1.79469585e-03, 9.15050507e-04],\n",
              "        [3.73601913e-03, 1.67477131e-03, 5.13315201e-04],\n",
              "        [7.72523880e-03, 5.42175770e-03, 1.06608868e-03],\n",
              "        [7.67827034e-04, 2.86650658e-03, 5.31721115e-03],\n",
              "        [1.64544582e-03, 9.52672958e-03, 6.02543354e-03],\n",
              "        [6.53457642e-03, 8.29696655e-05, 1.51945353e-02],\n",
              "        [1.15990639e-03, 2.50267982e-03, 2.87724733e-02],\n",
              "        [4.73189354e-03, 1.14917755e-04, 2.75599957e-03],\n",
              "        [8.74996185e-05, 7.03334808e-06, 9.01758671e-03],\n",
              "        [1.15323067e-03, 3.32379341e-03, 1.98638439e-03],\n",
              "        [7.28011131e-03, 3.36849689e-03, 6.25550747e-03],\n",
              "        [3.22008133e-03, 1.91795826e-03, 3.14152241e-03],\n",
              "        [7.46321678e-03, 5.47409058e-03, 8.12768936e-04],\n",
              "        [5.52654266e-04, 8.69870186e-04, 1.15857124e-02],\n",
              "        [4.87017632e-03, 1.22454166e-02, 5.42736053e-03],\n",
              "        [1.89582109e-02, 7.00235367e-04, 1.06909275e-02],\n",
              "        [4.69851494e-03, 2.53593922e-03, 6.55543804e-03],\n",
              "        [2.16484070e-03, 2.49600410e-03, 4.55188751e-03],\n",
              "        [1.10599995e-02, 8.74388218e-03, 3.63993645e-03],\n",
              "        [1.01208687e-04, 4.31191921e-03, 9.83834267e-04],\n",
              "        [8.16786289e-03, 9.49263573e-03, 5.98907471e-04],\n",
              "        [1.99592113e-03, 6.00969791e-03, 7.62414932e-03],\n",
              "        [1.96743011e-03, 7.71141052e-03, 6.11674786e-03],\n",
              "        [1.49917603e-02, 2.83849239e-03, 7.30276108e-04],\n",
              "        [1.40118599e-03, 2.80618668e-03, 5.61594963e-04],\n",
              "        [4.66465950e-04, 3.19302082e-03, 1.00820065e-02],\n",
              "        [9.54651833e-03, 8.55278969e-03, 3.70335579e-03],\n",
              "        [2.76708603e-03, 2.49123573e-03, 1.98698044e-03],\n",
              "        [1.78229809e-03, 8.81242752e-03, 1.46520138e-03],\n",
              "        [8.12983513e-03, 1.31827593e-02, 3.36158276e-03],\n",
              "        [3.16727161e-03, 1.96051598e-03, 5.77437878e-03],\n",
              "        [4.57668304e-03, 6.36446476e-03, 4.27770615e-03],\n",
              "        [1.81781054e-02, 1.26624107e-03, 2.15256214e-03],\n",
              "        [8.69977474e-03, 8.55863094e-03, 1.74522400e-04],\n",
              "        [1.36816502e-03, 1.57463551e-03, 3.28683853e-03],\n",
              "        [5.28955460e-03, 4.88221645e-03, 6.02781773e-03],\n",
              "        [2.10082531e-03, 2.46226788e-03, 8.32080841e-05],\n",
              "        [9.34600830e-04, 1.51364803e-02, 8.60083103e-03],\n",
              "        [2.04324722e-04, 6.95145130e-03, 4.72557545e-03],\n",
              "        [6.79588318e-03, 2.21073627e-03, 5.17964363e-04],\n",
              "        [5.99849224e-03, 7.52925873e-03, 4.43339348e-04],\n",
              "        [1.35798454e-02, 8.38994980e-04, 2.01940536e-04],\n",
              "        [1.01701021e-02, 4.11868095e-03, 2.21467018e-03],\n",
              "        [1.63483620e-03, 2.49481201e-02, 3.96585464e-03],\n",
              "        [1.07321739e-02, 2.96652317e-03, 2.05922127e-03],\n",
              "        [8.41605663e-03, 3.19707394e-03, 7.06803799e-03],\n",
              "        [4.75168228e-04, 1.38580799e-03, 5.00440598e-04],\n",
              "        [1.69849396e-03, 7.16984272e-03, 8.20302963e-03],\n",
              "        [7.74872303e-03, 4.26304340e-03, 1.19886398e-02],\n",
              "        [5.63144684e-04, 4.75406647e-04, 2.71022320e-03],\n",
              "        [2.57647038e-03, 1.86598301e-03, 1.70164108e-02],\n",
              "        [5.00750542e-03, 6.19292259e-04, 1.68776512e-03],\n",
              "        [2.41529942e-03, 1.25418901e-02, 6.23464584e-05],\n",
              "        [3.16047668e-03, 3.00133228e-03, 1.01971626e-02],\n",
              "        [2.88045406e-03, 1.15942955e-03, 2.22682953e-04],\n",
              "        [4.09245491e-04, 1.58607960e-03, 2.92718410e-03],\n",
              "        [7.25698471e-03, 4.20880318e-03, 7.41612911e-03],\n",
              "        [1.42586231e-03, 8.81409645e-03, 2.69579887e-03],\n",
              "        [1.63764954e-02, 6.95943832e-04, 4.08065319e-03],\n",
              "        [4.81665134e-03, 8.62526894e-03, 1.13301277e-02],\n",
              "        [3.66318226e-03, 2.87890434e-04, 2.13360786e-03],\n",
              "        [1.43741369e-02, 1.34254694e-02, 4.01616096e-04],\n",
              "        [7.99667835e-03, 3.30924988e-04, 5.02014160e-03],\n",
              "        [5.15604019e-03, 4.04798985e-03, 1.09721422e-02],\n",
              "        [3.19647789e-03, 3.09455395e-03, 1.77741051e-03],\n",
              "        [6.34670258e-04, 4.48203087e-03, 1.25241280e-03],\n",
              "        [1.12020969e-03, 2.82430649e-03, 1.35934353e-02],\n",
              "        [6.37114048e-03, 6.96599483e-03, 2.82645226e-04],\n",
              "        [4.72056866e-03, 5.06639481e-04, 3.28671932e-03],\n",
              "        [7.43985176e-04, 7.34519958e-03, 1.12986565e-03],\n",
              "        [1.02899075e-02, 6.51419163e-03, 8.00943375e-03],\n",
              "        [1.44835711e-02, 1.32632256e-03, 1.20753050e-02],\n",
              "        [8.82148743e-06, 3.87811661e-03, 2.03979015e-03],\n",
              "        [3.21221352e-03, 1.51169300e-03, 1.67036057e-03],\n",
              "        [2.12478638e-03, 4.96029854e-04, 4.68623638e-03],\n",
              "        [4.37748432e-03, 4.65118885e-03, 3.37100029e-03],\n",
              "        [3.50284576e-03, 6.35278225e-03, 1.04016066e-02],\n",
              "        [1.64246559e-03, 2.16807127e-02, 3.29220295e-03],\n",
              "        [1.26647949e-03, 3.06129456e-04, 6.24346733e-03],\n",
              "        [6.98673725e-03, 6.71339035e-03, 6.84261322e-04],\n",
              "        [5.08010387e-03, 1.07920170e-02, 4.30250168e-03],\n",
              "        [8.01253319e-03, 1.85263157e-03, 1.16777420e-03],\n",
              "        [3.50618362e-03, 2.68757343e-03, 7.60912895e-04],\n",
              "        [1.52575970e-02, 1.58655643e-03, 6.26385212e-03],\n",
              "        [3.50952148e-03, 8.19671154e-03, 1.61598921e-02],\n",
              "        [6.88433647e-04, 1.91994905e-02, 5.00202179e-04],\n",
              "        [4.34398651e-03, 4.43100929e-04, 5.33926487e-03],\n",
              "        [2.76994705e-03, 3.72409821e-03, 3.34024429e-03],\n",
              "        [8.20982456e-03, 9.66501236e-03, 3.77571583e-03],\n",
              "        [2.41160393e-04, 7.23636150e-03, 2.64084339e-03],\n",
              "        [5.98180294e-03, 2.50303745e-03, 6.69717789e-04],\n",
              "        [9.01699066e-04, 6.70039654e-03, 4.19974327e-04],\n",
              "        [5.61666489e-03, 7.52115250e-03, 6.05237484e-03],\n",
              "        [4.54318523e-03, 1.94311142e-04, 5.54513931e-03],\n",
              "        [9.92298126e-04, 1.54292583e-03, 5.31697273e-03],\n",
              "        [2.43711472e-03, 1.47736073e-03, 4.05311584e-06],\n",
              "        [2.00033188e-04, 4.66346741e-04, 1.93381310e-03],\n",
              "        [5.41353226e-03, 3.52144241e-04, 2.49218941e-03],\n",
              "        [1.25777721e-03, 1.47867203e-03, 7.60173798e-03],\n",
              "        [5.79178333e-03, 1.82449818e-03, 4.00185585e-04],\n",
              "        [1.57487392e-03, 2.56323814e-03, 5.82838058e-03],\n",
              "        [3.59475613e-03, 5.74982166e-03, 1.85394287e-03],\n",
              "        [4.07016277e-03, 3.03447247e-03, 1.23474598e-02],\n",
              "        [6.29675388e-03, 1.68263912e-03, 9.45508480e-03],\n",
              "        [1.98364258e-04, 1.30093098e-03, 1.09481812e-03],\n",
              "        [2.25651264e-03, 1.05909109e-02, 6.76393509e-04],\n",
              "        [1.38163567e-04, 6.59322739e-03, 3.39031219e-04],\n",
              "        [6.71601295e-03, 2.86364555e-03, 1.40142441e-03],\n",
              "        [3.09324265e-03, 1.77379847e-02, 9.37402248e-03],\n",
              "        [3.30519676e-03, 1.76870823e-03, 1.77991390e-03],\n",
              "        [4.73678112e-03, 1.33345127e-02, 2.41649151e-03],\n",
              "        [3.38590145e-03, 2.24149227e-03, 5.00917435e-04],\n",
              "        [1.10220909e-03, 9.16242599e-04, 5.82754612e-03],\n",
              "        [2.19082832e-03, 6.44040108e-03, 3.09455395e-03],\n",
              "        [2.11012363e-03, 3.44800949e-03, 2.16853619e-03],\n",
              "        [5.39457798e-03, 4.52744961e-03, 4.73892689e-03],\n",
              "        [1.76811218e-03, 9.57489014e-04, 9.26256180e-04],\n",
              "        [1.95503235e-05, 2.03800201e-03, 5.54323196e-03],\n",
              "        [2.92181969e-04, 1.54227018e-02, 5.57792187e-03],\n",
              "        [4.52959538e-03, 3.76939774e-04, 9.02414322e-05],\n",
              "        [3.31830978e-03, 1.28890276e-02, 1.86491013e-03],\n",
              "        [1.78933144e-04, 1.32900476e-02, 5.01811504e-03],\n",
              "        [4.82511520e-03, 9.62615013e-04, 1.29044056e-03],\n",
              "        [4.56893444e-03, 5.96642494e-04, 1.12621784e-02],\n",
              "        [1.12152100e-03, 4.59158421e-03, 1.65247917e-03]], dtype=float32)>,\n",
              " <tf.Tensor: shape=(224, 3), dtype=float32, numpy=\n",
              " array([[0.99757504, 0.9831772 , 0.9965459 ],\n",
              "        [0.9981767 , 0.979172  , 0.9976375 ],\n",
              "        [0.99874187, 0.99872065, 0.9972621 ],\n",
              "        [0.9961785 , 0.9999603 , 0.99853206],\n",
              "        [0.99729633, 0.9994273 , 0.9992579 ],\n",
              "        [0.9972402 , 0.9973581 , 0.9950478 ],\n",
              "        [0.99914   , 0.994835  , 0.9939128 ],\n",
              "        [0.9994886 , 0.99889934, 0.99076307],\n",
              "        [0.99274933, 0.9990629 , 0.99494374],\n",
              "        [0.9844018 , 0.99923503, 0.99244666],\n",
              "        [0.97902465, 0.9968169 , 0.9969188 ],\n",
              "        [0.9980763 , 0.99728954, 0.99979365],\n",
              "        [0.99816036, 0.99289894, 0.99743414],\n",
              "        [0.9969233 , 0.9952135 , 0.9960282 ],\n",
              "        [0.9959384 , 0.9953301 , 0.9935192 ],\n",
              "        [0.99954224, 0.99533176, 0.988093  ],\n",
              "        [0.9997742 , 0.99971724, 0.99984837],\n",
              "        [0.9942243 , 0.9982804 , 0.99924767],\n",
              "        [0.98586583, 0.9956682 , 0.99424875],\n",
              "        [0.993914  , 0.9994273 , 0.9992682 ],\n",
              "        [0.99674535, 0.9990642 , 0.9929936 ],\n",
              "        [0.9972241 , 0.99661326, 0.9950621 ],\n",
              "        [0.99087536, 0.9924766 , 0.99804676],\n",
              "        [0.9973326 , 0.99703205, 0.9990674 ],\n",
              "        [0.98708177, 0.9824852 , 0.9938216 ],\n",
              "        [0.9977735 , 0.99965274, 0.9863919 ],\n",
              "        [0.99963915, 0.9972501 , 0.9947958 ],\n",
              "        [0.99590266, 0.9996736 , 0.99888575],\n",
              "        [0.99874485, 0.9998183 , 0.9967803 ],\n",
              "        [0.99624777, 0.9868882 , 0.99938905],\n",
              "        [0.99589276, 0.9914131 , 0.99540555],\n",
              "        [0.99450564, 0.99706125, 0.99885726],\n",
              "        [0.9947405 , 0.99415517, 0.9932978 ],\n",
              "        [0.9947454 , 0.9952471 , 0.99968433],\n",
              "        [0.9970275 , 0.9987612 , 0.99761975],\n",
              "        [0.9976195 , 0.98854995, 0.99625516],\n",
              "        [0.9988018 , 0.99497414, 0.9974054 ],\n",
              "        [0.9787295 , 0.9958669 , 0.9990078 ],\n",
              "        [0.9980433 , 0.99612725, 0.99705124],\n",
              "        [0.987592  , 0.9929997 , 0.99523365],\n",
              "        [0.9982437 , 0.998572  , 0.9995166 ],\n",
              "        [0.99771535, 0.9896362 , 0.9947686 ],\n",
              "        [0.9984752 , 0.99849737, 0.9955634 ],\n",
              "        [0.9958861 , 0.9977114 , 0.9947218 ],\n",
              "        [0.99000025, 0.99946296, 0.9974817 ],\n",
              "        [0.9859431 , 0.99806726, 0.99149084],\n",
              "        [0.9996747 , 0.99716544, 0.9991684 ],\n",
              "        [0.9954549 , 0.9926206 , 0.99892855],\n",
              "        [0.9953811 , 0.9927776 , 0.9887419 ],\n",
              "        [0.99344647, 0.9977313 , 0.99269676],\n",
              "        [0.9992118 , 0.9994751 , 0.9947748 ],\n",
              "        [0.99926054, 0.99838924, 0.9911139 ],\n",
              "        [0.9932157 , 0.9988674 , 0.9903014 ],\n",
              "        [0.9980148 , 0.9986237 , 0.99939287],\n",
              "        [0.99834526, 0.98792624, 0.9848741 ],\n",
              "        [0.99701834, 0.99884677, 0.9987333 ],\n",
              "        [0.9999734 , 0.995636  , 0.995275  ],\n",
              "        [0.9983777 , 0.98911226, 0.9948902 ],\n",
              "        [0.99986434, 0.9984845 , 0.9998462 ],\n",
              "        [0.9936472 , 0.99908113, 0.9910673 ],\n",
              "        [0.9992511 , 0.9998008 , 0.9903387 ],\n",
              "        [0.9980078 , 0.99964285, 0.9948187 ],\n",
              "        [0.99896014, 0.9925386 , 0.9965905 ],\n",
              "        [0.99856997, 0.9984585 , 0.9954257 ],\n",
              "        [0.9979434 , 0.99695635, 0.99665666],\n",
              "        [0.99833953, 0.99874234, 0.9995167 ],\n",
              "        [0.99831843, 0.99993503, 0.9995661 ],\n",
              "        [0.99269795, 0.99960005, 0.99870837],\n",
              "        [0.9998107 , 0.9980253 , 0.99073434],\n",
              "        [0.9938735 , 0.99734116, 0.99577427],\n",
              "        [0.99749446, 0.99640703, 0.9994925 ],\n",
              "        [0.99915457, 0.98818207, 0.99097407],\n",
              "        [0.9919909 , 0.99902093, 0.9958997 ],\n",
              "        [0.9947305 , 0.9949168 , 0.98791885],\n",
              "        [0.99675953, 0.9981328 , 0.9932064 ],\n",
              "        [0.99760485, 0.99695957, 0.9937589 ],\n",
              "        [0.9936402 , 0.9920126 , 0.9965999 ],\n",
              "        [0.9987514 , 0.98511386, 0.99780345],\n",
              "        [0.9953847 , 0.99569714, 0.9910767 ],\n",
              "        [0.99181306, 0.9917035 , 0.9980823 ],\n",
              "        [0.9989712 , 0.9963267 , 0.99866796],\n",
              "        [0.9960116 , 0.9993963 , 0.99330676],\n",
              "        [0.9914988 , 0.99855113, 0.99980366],\n",
              "        [0.98452854, 0.99925387, 0.99223614],\n",
              "        [0.99725163, 0.9908563 , 0.999974  ],\n",
              "        [0.9987445 , 0.99781775, 0.9975803 ],\n",
              "        [0.9939424 , 0.9950242 , 0.98660445],\n",
              "        [0.9896765 , 0.9961504 , 0.9943572 ],\n",
              "        [0.9861624 , 0.9939393 , 0.9862219 ],\n",
              "        [0.99855864, 0.9989215 , 0.99983335],\n",
              "        [0.99419796, 0.99273205, 0.99883556],\n",
              "        [0.9989517 , 0.99821186, 0.9974706 ],\n",
              "        [0.9938115 , 0.99451804, 0.9959179 ],\n",
              "        [0.9861274 , 0.9993837 , 0.9981195 ],\n",
              "        [0.9981246 , 0.99643314, 0.9924606 ],\n",
              "        [0.99340963, 0.9986472 , 0.99985015],\n",
              "        [0.9982102 , 0.99894834, 0.98774457],\n",
              "        [0.99978507, 0.99782085, 0.9984964 ],\n",
              "        [0.998451  , 0.9924587 , 0.99615955],\n",
              "        [0.9918227 , 0.9950572 , 0.99192464],\n",
              "        [0.9966911 , 0.99844265, 0.9981873 ],\n",
              "        [0.9931569 , 0.99842477, 0.9930513 ],\n",
              "        [0.99625134, 0.99956465, 0.99817383],\n",
              "        [0.99674153, 0.9916823 , 0.99164844],\n",
              "        [0.9948288 , 0.98386014, 0.992851  ],\n",
              "        [0.9996861 , 0.9895989 , 0.9983698 ],\n",
              "        [0.99484646, 0.9789338 , 0.9974606 ],\n",
              "        [0.99398196, 0.9859575 , 0.99714017],\n",
              "        [0.98553944, 0.9941516 , 0.973979  ],\n",
              "        [0.99899113, 0.9992876 , 0.99020827],\n",
              "        [0.9998131 , 0.9897047 , 0.9985397 ],\n",
              "        [0.99807775, 0.9992697 , 0.9970231 ],\n",
              "        [0.9915689 , 0.9985968 , 0.9996346 ],\n",
              "        [0.9897468 , 0.9990319 , 0.9997225 ],\n",
              "        [0.9969754 , 0.9981551 , 0.9990382 ],\n",
              "        [0.9986433 , 0.9904456 , 0.99342906],\n",
              "        [0.98908436, 0.9945375 , 0.99983835],\n",
              "        [0.9992124 , 0.99714744, 0.9939188 ],\n",
              "        [0.9976562 , 0.9980699 , 0.99861526],\n",
              "        [0.99852765, 0.99927354, 0.9996089 ],\n",
              "        [0.99592054, 0.9978219 , 0.9989102 ],\n",
              "        [0.99493515, 0.99567425, 0.9970615 ],\n",
              "        [0.9962455 , 0.99143445, 0.998557  ],\n",
              "        [0.9959284 , 0.9918628 , 0.9901732 ],\n",
              "        [0.99731183, 0.9946511 , 0.9959004 ],\n",
              "        [0.99380124, 0.985144  , 0.991084  ],\n",
              "        [0.9998146 , 0.99728703, 0.998211  ],\n",
              "        [0.9971777 , 0.9968517 , 0.9983746 ],\n",
              "        [0.9983119 , 0.9934888 , 0.99776936],\n",
              "        [0.9985434 , 0.99936354, 0.99517524],\n",
              "        [0.9940604 , 0.99809813, 0.9984517 ],\n",
              "        [0.99855196, 0.99980223, 0.9955542 ],\n",
              "        [0.99026406, 0.99689674, 0.99337995],\n",
              "        [0.99724674, 0.97453475, 0.9977908 ],\n",
              "        [0.99525976, 0.9994148 , 0.9947568 ],\n",
              "        [0.98359764, 0.9885241 , 0.9930551 ],\n",
              "        [0.9924871 , 0.99606466, 0.9971943 ],\n",
              "        [0.9924977 , 0.9979876 , 0.98874056],\n",
              "        [0.99112463, 0.9983071 , 0.99866843],\n",
              "        [0.9978664 , 0.9995972 , 0.9927896 ],\n",
              "        [0.99467206, 0.9969926 , 0.98614407],\n",
              "        [0.99234474, 0.9986552 , 0.9994252 ],\n",
              "        [0.9915234 , 0.9903563 , 0.9951997 ],\n",
              "        [0.9928925 , 0.99449706, 0.9957135 ],\n",
              "        [0.99637675, 0.99943817, 0.9921576 ],\n",
              "        [0.99787915, 0.9797188 , 0.9998348 ],\n",
              "        [0.99268043, 0.99763846, 0.99696827],\n",
              "        [0.9912596 , 0.99931216, 0.99738026],\n",
              "        [0.99673057, 0.9999194 , 0.9976573 ],\n",
              "        [0.9943738 , 0.99991846, 0.99155605],\n",
              "        [0.99601054, 0.9958936 , 0.9988158 ],\n",
              "        [0.99304914, 0.9969437 , 0.9903412 ],\n",
              "        [0.9863453 , 0.99520504, 0.99904823],\n",
              "        [0.99760365, 0.9995085 , 0.98606503],\n",
              "        [0.9977542 , 0.9799503 , 0.99927306],\n",
              "        [0.9995611 , 0.9990175 , 0.9987198 ],\n",
              "        [0.99155474, 0.9949775 , 0.9998753 ],\n",
              "        [0.99998736, 0.99478006, 0.99545574],\n",
              "        [0.9996762 , 0.99850047, 0.99888706],\n",
              "        [0.9957886 , 0.9964436 , 0.99676335],\n",
              "        [0.99824286, 0.9994019 , 0.9917712 ],\n",
              "        [0.99420595, 0.9946412 , 0.99836075],\n",
              "        [0.99311113, 0.989928  , 0.9985622 ],\n",
              "        [0.9814631 , 0.9989383 , 0.9786396 ],\n",
              "        [0.9913764 , 0.9894227 , 0.9913629 ],\n",
              "        [0.9965857 , 0.997324  , 0.99571586],\n",
              "        [0.9992192 , 0.9985105 , 0.99943376],\n",
              "        [0.99735105, 0.9952667 , 0.99880886],\n",
              "        [0.99260855, 0.9933605 , 0.99923563],\n",
              "        [0.9986727 , 0.9832908 , 0.99837315],\n",
              "        [0.9995769 , 0.9934375 , 0.9977828 ],\n",
              "        [0.99728394, 0.9993156 , 0.9967693 ],\n",
              "        [0.9998642 , 0.9945102 , 0.98677135],\n",
              "        [0.99896383, 0.9973401 , 0.99277985],\n",
              "        [0.9998188 , 0.9973539 , 0.99930155],\n",
              "        [0.9951451 , 0.98683167, 0.9940288 ],\n",
              "        [0.99834466, 0.9989375 , 0.9900342 ],\n",
              "        [0.99871063, 0.9992938 , 0.99975455],\n",
              "        [0.99478364, 0.9995059 , 0.9916407 ],\n",
              "        [0.99997437, 0.99389374, 0.99981403],\n",
              "        [0.9940295 , 0.99908733, 0.9880974 ],\n",
              "        [0.987851  , 0.99877083, 0.9984741 ],\n",
              "        [0.9905635 , 0.9934288 , 0.9983388 ],\n",
              "        [0.99808764, 0.99843836, 0.99955606],\n",
              "        [0.9995719 , 0.986079  , 0.9999223 ],\n",
              "        [0.9984244 , 0.99754655, 0.9985467 ],\n",
              "        [0.9991996 , 0.9996716 , 0.99844086],\n",
              "        [0.9990027 , 0.99385905, 0.9996793 ],\n",
              "        [0.99905205, 0.9946785 , 0.9994043 ],\n",
              "        [0.99768317, 0.9951532 , 0.9976537 ],\n",
              "        [0.99425006, 0.9991739 , 0.9884279 ],\n",
              "        [0.99261737, 0.9924725 , 0.996874  ],\n",
              "        [0.9965097 , 0.9885433 , 0.99476993],\n",
              "        [0.99176204, 0.9992769 , 0.98967886],\n",
              "        [0.9989219 , 0.99991727, 0.99141014],\n",
              "        [0.9988035 , 0.993009  , 0.9999405 ],\n",
              "        [0.99101865, 0.9922664 , 0.99938905],\n",
              "        [0.99690497, 0.998929  , 0.99574924],\n",
              "        [0.9869633 , 0.9925481 , 0.9927472 ],\n",
              "        [0.99668133, 0.9912783 , 0.993966  ],\n",
              "        [0.9982647 , 0.99235964, 0.99440026],\n",
              "        [0.99334204, 0.99291265, 0.9947845 ],\n",
              "        [0.9998566 , 0.99626017, 0.99661064],\n",
              "        [0.9961258 , 0.9978982 , 0.99578965],\n",
              "        [0.9990432 , 0.98432183, 0.99897635],\n",
              "        [0.999568  , 0.9986141 , 0.99178827],\n",
              "        [0.9956565 , 0.9947665 , 0.99980986],\n",
              "        [0.99410725, 0.99381065, 0.9974501 ],\n",
              "        [0.99431396, 0.99850905, 0.9972758 ],\n",
              "        [0.9966527 , 0.99462366, 0.9881736 ],\n",
              "        [0.98955154, 0.9904069 , 0.98144627],\n",
              "        [0.9963796 , 0.9933368 , 0.9926827 ],\n",
              "        [0.99954677, 0.9997059 , 0.9974495 ],\n",
              "        [0.9985653 , 0.9973265 , 0.9991684 ],\n",
              "        [0.9982346 , 0.99313986, 0.9962609 ],\n",
              "        [0.99567354, 0.99959576, 0.9979832 ],\n",
              "        [0.99733055, 0.9912734 , 0.99982643],\n",
              "        [0.99789715, 0.9946734 , 0.99796844],\n",
              "        [0.98903334, 0.9991543 , 0.9925567 ],\n",
              "        [0.99632025, 0.98506844, 0.9960451 ],\n",
              "        [0.9974468 , 0.9989934 , 0.9827379 ],\n",
              "        [0.9921595 , 0.9922446 , 0.98903465],\n",
              "        [0.99556696, 0.9995775 , 0.9938096 ],\n",
              "        [0.9954665 , 0.9916837 , 0.9974675 ]], dtype=float32)>)"
            ]
          },
          "metadata": {},
          "execution_count": 150
        }
      ]
    },
    {
      "cell_type": "markdown",
      "source": [
        "#### Exercise 8: Created a tensor with random values of shape [1, 224, 224, 3] then squeeze it to change the shape to [224, 224, 3]"
      ],
      "metadata": {
        "id": "mSZ_1NE6oaHm"
      }
    },
    {
      "cell_type": "code",
      "source": [
        "# Create tensor and check min and max values\n",
        "tf.random.set_seed(10)\n",
        "random_tensor_5 = tf.random.Generator.from_seed(10)\n",
        "random_tensor_5 = random_tensor_5.uniform(shape=(1, 224, 224, 3))\n",
        "random_tensor_5, tf.reduce_min(random_tensor_5), tf.reduce_max(random_tensor_5), random_tensor_5.shape"
      ],
      "metadata": {
        "colab": {
          "base_uri": "https://localhost:8080/"
        },
        "id": "kgroU4EVnJiX",
        "outputId": "f74bc012-b0d3-4268-b8da-36217c7eed47"
      },
      "execution_count": null,
      "outputs": [
        {
          "output_type": "execute_result",
          "data": {
            "text/plain": [
              "(<tf.Tensor: shape=(1, 224, 224, 3), dtype=float32, numpy=\n",
              " array([[[[0.93598676, 0.6513264 , 0.31663585],\n",
              "          [0.00111556, 0.9212191 , 0.3822806 ],\n",
              "          [0.77246034, 0.91514194, 0.5751133 ],\n",
              "          ...,\n",
              "          [0.06638753, 0.52053475, 0.18713212],\n",
              "          [0.29305923, 0.724267  , 0.06265461],\n",
              "          [0.60910606, 0.07623863, 0.89656115]],\n",
              " \n",
              "         [[0.72851205, 0.38249934, 0.5205425 ],\n",
              "          [0.91310525, 0.5603143 , 0.72630703],\n",
              "          [0.66004574, 0.46352363, 0.5257573 ],\n",
              "          ...,\n",
              "          [0.39209676, 0.6545948 , 0.9075004 ],\n",
              "          [0.06859708, 0.56658983, 0.7013639 ],\n",
              "          [0.55792916, 0.6484337 , 0.8147869 ]],\n",
              " \n",
              "         [[0.9756906 , 0.8409076 , 0.6368543 ],\n",
              "          [0.05900538, 0.8106538 , 0.6503265 ],\n",
              "          [0.92341375, 0.68137383, 0.4698242 ],\n",
              "          ...,\n",
              "          [0.98975146, 0.7613524 , 0.9861349 ],\n",
              "          [0.92030287, 0.8113171 , 0.26456964],\n",
              "          [0.24923408, 0.74147856, 0.49428725]],\n",
              " \n",
              "         ...,\n",
              " \n",
              "         [[0.38056338, 0.43446696, 0.7354841 ],\n",
              "          [0.9231919 , 0.9870275 , 0.6314622 ],\n",
              "          [0.572652  , 0.6220087 , 0.9495851 ],\n",
              "          ...,\n",
              "          [0.854861  , 0.43116033, 0.28507268],\n",
              "          [0.18658447, 0.28619218, 0.9584427 ],\n",
              "          [0.66639304, 0.98330045, 0.20270765]],\n",
              " \n",
              "         [[0.3044417 , 0.45295405, 0.49090624],\n",
              "          [0.40930402, 0.64145875, 0.41477287],\n",
              "          [0.39025795, 0.61099243, 0.8606372 ],\n",
              "          ...,\n",
              "          [0.6841934 , 0.82011414, 0.21390665],\n",
              "          [0.1681627 , 0.81813085, 0.6921724 ],\n",
              "          [0.22960019, 0.7372626 , 0.46113718]],\n",
              " \n",
              "         [[0.7673693 , 0.02200782, 0.96570873],\n",
              "          [0.892208  , 0.61288285, 0.46252835],\n",
              "          [0.83360934, 0.14007914, 0.52491784],\n",
              "          ...,\n",
              "          [0.24838364, 0.72990394, 0.9370439 ],\n",
              "          [0.39093447, 0.6008781 , 0.33140218],\n",
              "          [0.55902314, 0.03155148, 0.02592671]]]], dtype=float32)>,\n",
              " <tf.Tensor: shape=(), dtype=float32, numpy=4.053116e-06>,\n",
              " <tf.Tensor: shape=(), dtype=float32, numpy=0.99998736>,\n",
              " TensorShape([1, 224, 224, 3]))"
            ]
          },
          "metadata": {},
          "execution_count": 151
        }
      ]
    },
    {
      "cell_type": "code",
      "source": [
        "# Squeeze tensor to change the shape to [224, 224, 3]\n",
        "random_tensor_5_squeezed = tf.squeeze(random_tensor_5)\n",
        "random_tensor_5_squeezed, random_tensor_5_squeezed.shape"
      ],
      "metadata": {
        "colab": {
          "base_uri": "https://localhost:8080/"
        },
        "id": "CsdQwcC1nToO",
        "outputId": "65580df5-84e6-4692-e2b7-ca2391dbc91c"
      },
      "execution_count": null,
      "outputs": [
        {
          "output_type": "execute_result",
          "data": {
            "text/plain": [
              "(<tf.Tensor: shape=(224, 224, 3), dtype=float32, numpy=\n",
              " array([[[0.93598676, 0.6513264 , 0.31663585],\n",
              "         [0.00111556, 0.9212191 , 0.3822806 ],\n",
              "         [0.77246034, 0.91514194, 0.5751133 ],\n",
              "         ...,\n",
              "         [0.06638753, 0.52053475, 0.18713212],\n",
              "         [0.29305923, 0.724267  , 0.06265461],\n",
              "         [0.60910606, 0.07623863, 0.89656115]],\n",
              " \n",
              "        [[0.72851205, 0.38249934, 0.5205425 ],\n",
              "         [0.91310525, 0.5603143 , 0.72630703],\n",
              "         [0.66004574, 0.46352363, 0.5257573 ],\n",
              "         ...,\n",
              "         [0.39209676, 0.6545948 , 0.9075004 ],\n",
              "         [0.06859708, 0.56658983, 0.7013639 ],\n",
              "         [0.55792916, 0.6484337 , 0.8147869 ]],\n",
              " \n",
              "        [[0.9756906 , 0.8409076 , 0.6368543 ],\n",
              "         [0.05900538, 0.8106538 , 0.6503265 ],\n",
              "         [0.92341375, 0.68137383, 0.4698242 ],\n",
              "         ...,\n",
              "         [0.98975146, 0.7613524 , 0.9861349 ],\n",
              "         [0.92030287, 0.8113171 , 0.26456964],\n",
              "         [0.24923408, 0.74147856, 0.49428725]],\n",
              " \n",
              "        ...,\n",
              " \n",
              "        [[0.38056338, 0.43446696, 0.7354841 ],\n",
              "         [0.9231919 , 0.9870275 , 0.6314622 ],\n",
              "         [0.572652  , 0.6220087 , 0.9495851 ],\n",
              "         ...,\n",
              "         [0.854861  , 0.43116033, 0.28507268],\n",
              "         [0.18658447, 0.28619218, 0.9584427 ],\n",
              "         [0.66639304, 0.98330045, 0.20270765]],\n",
              " \n",
              "        [[0.3044417 , 0.45295405, 0.49090624],\n",
              "         [0.40930402, 0.64145875, 0.41477287],\n",
              "         [0.39025795, 0.61099243, 0.8606372 ],\n",
              "         ...,\n",
              "         [0.6841934 , 0.82011414, 0.21390665],\n",
              "         [0.1681627 , 0.81813085, 0.6921724 ],\n",
              "         [0.22960019, 0.7372626 , 0.46113718]],\n",
              " \n",
              "        [[0.7673693 , 0.02200782, 0.96570873],\n",
              "         [0.892208  , 0.61288285, 0.46252835],\n",
              "         [0.83360934, 0.14007914, 0.52491784],\n",
              "         ...,\n",
              "         [0.24838364, 0.72990394, 0.9370439 ],\n",
              "         [0.39093447, 0.6008781 , 0.33140218],\n",
              "         [0.55902314, 0.03155148, 0.02592671]]], dtype=float32)>,\n",
              " TensorShape([224, 224, 3]))"
            ]
          },
          "metadata": {},
          "execution_count": 152
        }
      ]
    },
    {
      "cell_type": "markdown",
      "source": [
        "#### Exercise 9: Create a tensor with shape [10] using your own choice of values, then find the index which has the maximum value."
      ],
      "metadata": {
        "id": "6xNRBd-jpqKN"
      }
    },
    {
      "cell_type": "code",
      "source": [
        "# Create a tensor\n",
        "exercise_numpy = np.arange(1, 11)\n",
        "int_tensor_1 = tf.constant(exercise_numpy, shape=(10))\n",
        "exercise_numpy, int_tensor_1, int_tensor_1.shape"
      ],
      "metadata": {
        "colab": {
          "base_uri": "https://localhost:8080/"
        },
        "id": "oEZrsE92nTls",
        "outputId": "1d6eafaf-29af-40fb-cd90-764250905ef6"
      },
      "execution_count": null,
      "outputs": [
        {
          "output_type": "execute_result",
          "data": {
            "text/plain": [
              "(array([ 1,  2,  3,  4,  5,  6,  7,  8,  9, 10]),\n",
              " <tf.Tensor: shape=(10,), dtype=int64, numpy=array([ 1,  2,  3,  4,  5,  6,  7,  8,  9, 10])>,\n",
              " TensorShape([10]))"
            ]
          },
          "metadata": {},
          "execution_count": 153
        }
      ]
    },
    {
      "cell_type": "code",
      "source": [
        "# Find positional maximum value\n",
        "tf.argmax(int_tensor_1)"
      ],
      "metadata": {
        "colab": {
          "base_uri": "https://localhost:8080/"
        },
        "id": "B43GIE14q91R",
        "outputId": "06a29118-1bff-48ae-fa48-48bc7792c975"
      },
      "execution_count": null,
      "outputs": [
        {
          "output_type": "execute_result",
          "data": {
            "text/plain": [
              "<tf.Tensor: shape=(), dtype=int64, numpy=9>"
            ]
          },
          "metadata": {},
          "execution_count": 154
        }
      ]
    },
    {
      "cell_type": "code",
      "source": [
        "# Check value of element at positional maximum index\n",
        "int_tensor_1[tf.argmax(int_tensor_1)]"
      ],
      "metadata": {
        "colab": {
          "base_uri": "https://localhost:8080/"
        },
        "id": "gptNip_wrSk5",
        "outputId": "339a249d-3c83-4299-f737-cace23d86ee5"
      },
      "execution_count": null,
      "outputs": [
        {
          "output_type": "execute_result",
          "data": {
            "text/plain": [
              "<tf.Tensor: shape=(), dtype=int64, numpy=10>"
            ]
          },
          "metadata": {},
          "execution_count": 155
        }
      ]
    },
    {
      "cell_type": "code",
      "source": [
        "# Check for equality\n",
        "int_tensor_1[tf.argmax(int_tensor_1)] == tf.reduce_max(int_tensor_1)"
      ],
      "metadata": {
        "colab": {
          "base_uri": "https://localhost:8080/"
        },
        "id": "iMHthcyCnTi1",
        "outputId": "7283dfde-4578-42d0-c2e1-bd7349b5af83"
      },
      "execution_count": null,
      "outputs": [
        {
          "output_type": "execute_result",
          "data": {
            "text/plain": [
              "<tf.Tensor: shape=(), dtype=bool, numpy=True>"
            ]
          },
          "metadata": {},
          "execution_count": 156
        }
      ]
    },
    {
      "cell_type": "markdown",
      "source": [
        "#### Exercise 10: One-hot encode the tensor you created in 9."
      ],
      "metadata": {
        "id": "_4CIzGdTp2Ov"
      }
    },
    {
      "cell_type": "code",
      "source": [
        "# One hot encode tensor\n",
        "tf.one_hot(int_tensor_1, depth=10, on_value=100.0, off_value=50.0)"
      ],
      "metadata": {
        "colab": {
          "base_uri": "https://localhost:8080/"
        },
        "id": "q3DFYBYJp18u",
        "outputId": "eafe8124-133f-4329-d68c-df76a2efa0ac"
      },
      "execution_count": null,
      "outputs": [
        {
          "output_type": "execute_result",
          "data": {
            "text/plain": [
              "<tf.Tensor: shape=(10, 10), dtype=float32, numpy=\n",
              "array([[ 50., 100.,  50.,  50.,  50.,  50.,  50.,  50.,  50.,  50.],\n",
              "       [ 50.,  50., 100.,  50.,  50.,  50.,  50.,  50.,  50.,  50.],\n",
              "       [ 50.,  50.,  50., 100.,  50.,  50.,  50.,  50.,  50.,  50.],\n",
              "       [ 50.,  50.,  50.,  50., 100.,  50.,  50.,  50.,  50.,  50.],\n",
              "       [ 50.,  50.,  50.,  50.,  50., 100.,  50.,  50.,  50.,  50.],\n",
              "       [ 50.,  50.,  50.,  50.,  50.,  50., 100.,  50.,  50.,  50.],\n",
              "       [ 50.,  50.,  50.,  50.,  50.,  50.,  50., 100.,  50.,  50.],\n",
              "       [ 50.,  50.,  50.,  50.,  50.,  50.,  50.,  50., 100.,  50.],\n",
              "       [ 50.,  50.,  50.,  50.,  50.,  50.,  50.,  50.,  50., 100.],\n",
              "       [ 50.,  50.,  50.,  50.,  50.,  50.,  50.,  50.,  50.,  50.]],\n",
              "      dtype=float32)>"
            ]
          },
          "metadata": {},
          "execution_count": 157
        }
      ]
    },
    {
      "cell_type": "markdown",
      "source": [
        "### 📖 00. TensorFlow Fundamentals Extra-curriculum"
      ],
      "metadata": {
        "id": "_FnoOSi_tTKR"
      }
    },
    {
      "cell_type": "markdown",
      "source": [
        "#### Read through the list of [TensorFlow Python APIs](https://www.tensorflow.org/api_docs/python/tf/all_symbols), pick one we haven't gone through in this notebook, reverse engineer it (write out the documentation code for yourself) and figure out what it does.\n",
        "\n",
        "* API: `tf.concat(values, axis, name='concat')`\n",
        "* Link: https://www.tensorflow.org/api_docs/python/tf/concat"
      ],
      "metadata": {
        "id": "tqy_lfg8tWqH"
      }
    },
    {
      "cell_type": "code",
      "source": [
        "# Recreate the tf.concat function\n",
        "def test_concat(tensors, axis=0):\n",
        "  if not isinstance(tensors, list) or len(tensors) < 1:\n",
        "        raise ValueError(\"Input must be a non-empty list of tensors\")\n",
        "\n",
        "  shapes = [t.shape for t in tensors]\n",
        "  for i in range(1, len(shapes)):\n",
        "    if len(shapes[i]) != len(shapes[0]):\n",
        "      raise ValueError(\"All tensors must have the same rank\")\n",
        "  for j in range(len(shapes[i])):\n",
        "    if j != axis and shapes[i][j] != shapes[0][j]:\n",
        "      raise ValueError(\"Dimensions must match except for the concat axis\")\n",
        "\n",
        "  return tf.concat(tensors, axis)\n",
        "\n",
        "testing = tf.constant([1, 2, 3])\n",
        "testing1 = tf.constant([4, 5, 6, 7])\n",
        "\n",
        "print(test_concat([testing, testing1], axis=0))"
      ],
      "metadata": {
        "colab": {
          "base_uri": "https://localhost:8080/"
        },
        "id": "ith8hdwsnTev",
        "outputId": "675f11fe-ec03-4bfb-b5dc-6db9d6011605"
      },
      "execution_count": null,
      "outputs": [
        {
          "output_type": "stream",
          "name": "stdout",
          "text": [
            "tf.Tensor([1 2 3 4 5 6 7], shape=(7,), dtype=int32)\n"
          ]
        }
      ]
    },
    {
      "cell_type": "markdown",
      "source": [
        "#### Go through the [TensorFlow 2.x quick start for beginners](https://www.tensorflow.org/tutorials/quickstart/beginner) tutorial (be sure to type out all of the code yourself, even if you don't understand it).\n",
        "\n",
        "* Are there any functions we used in here that match what's used in there? Which are the same? Which haven't you seen before?"
      ],
      "metadata": {
        "id": "bcpk3Glnx4wD"
      }
    },
    {
      "cell_type": "code",
      "source": [
        "print(\"TensorFlow version:\", tf.__version__)"
      ],
      "metadata": {
        "id": "n7eWG0t7nTcT",
        "colab": {
          "base_uri": "https://localhost:8080/"
        },
        "outputId": "e96369a3-9541-4c13-ad9d-35be82a38d56"
      },
      "execution_count": null,
      "outputs": [
        {
          "output_type": "stream",
          "name": "stdout",
          "text": [
            "TensorFlow version: 2.17.1\n"
          ]
        }
      ]
    },
    {
      "cell_type": "markdown",
      "source": [
        "Load and prepare the MNIST dataset. The pixel values of the images range from 0 through 255. Scale these values to a range of 0 to 1 by dividing the values by 255.0. This also converts the sample data from integers to floating-point numbers\n",
        "\n",
        "The MNIST database of handwritten digits has a training set of 60,000 examples, and a test set of 10,000 examples.\n",
        "\n",
        "[MNIST](https://www.kaggle.com/datasets/hojjatk/mnist-dataset) Dataset"
      ],
      "metadata": {
        "id": "ILDi1jVAl2Ca"
      }
    },
    {
      "cell_type": "code",
      "source": [
        "mnist = tf.keras.datasets.mnist"
      ],
      "metadata": {
        "id": "oWOsTasFnTZy"
      },
      "execution_count": null,
      "outputs": []
    },
    {
      "cell_type": "code",
      "source": [
        "(x_train, y_train), (x_test, y_test) = mnist.load_data()\n",
        "x_train, x_test = x_train / 255.0, x_test / 255.0"
      ],
      "metadata": {
        "id": "E96YuRnonTTV",
        "colab": {
          "base_uri": "https://localhost:8080/"
        },
        "outputId": "911312f5-0fc7-41ab-9aa0-0d638e1d1b60"
      },
      "execution_count": null,
      "outputs": [
        {
          "output_type": "stream",
          "name": "stdout",
          "text": [
            "Downloading data from https://storage.googleapis.com/tensorflow/tf-keras-datasets/mnist.npz\n",
            "\u001b[1m11490434/11490434\u001b[0m \u001b[32m━━━━━━━━━━━━━━━━━━━━\u001b[0m\u001b[37m\u001b[0m \u001b[1m2s\u001b[0m 0us/step\n"
          ]
        }
      ]
    },
    {
      "cell_type": "markdown",
      "source": [
        "Build a `tf.keras.Sequential` model:\n",
        "\n",
        "`Sequential` is useful for stacking layers where each layer has one input tensor and one output tensor. Layers are functions with a known mathematical structure that can be reused and have trainable variables. Most TensorFlow models are composed of layers. This model uses the `Flatten`, `Dense`, and `Dropout` layers.\n",
        "\n",
        "* **Flatten**: The `Flatten` layer in Keras reshapes input data into a one-dimensional array, allowing compatibility between convolutional layers and fully connected layers in neural networks.\n",
        "* **Dense**: A `Dense` layer is mostly used as the penultimate layer after a feature extraction block (convolution, encoder or decoder, etc.), output layer (final layer), and to project a vector of dimension d0 to a new dimension d1.\n",
        "> Dense implements the operation: output = activation(dot(input, kernel) + bias). [Link to Keras site](https://keras.io/api/layers/core_layers/dense/)\n",
        "* **Dropout**: a regularization technique for neural network models. `Dropout` is a technique where randomly selected neurons are ignored during training. They are “dropped out” randomly. This means that their contribution to the activation of downstream neurons is temporally removed on the forward pass, and any weight updates are not applied to the neuron on the backward pass.\n",
        "> Link to [Dropout Regularization in Deep Learning Models with Keras](https://machinelearningmastery.com/dropout-regularization-deep-learning-models-keras/)"
      ],
      "metadata": {
        "id": "YkpuVrmCna5W"
      }
    },
    {
      "cell_type": "code",
      "source": [
        "model = tf.keras.models.Sequential([\n",
        "    tf.keras.layers.Flatten(input_shape=(28, 28)),\n",
        "    tf.keras.layers.Dense(128, activation='relu'),\n",
        "    tf.keras.layers.Dropout(0.2),\n",
        "    tf.keras.layers.Dense(10)\n",
        "])"
      ],
      "metadata": {
        "colab": {
          "base_uri": "https://localhost:8080/"
        },
        "id": "Hyd0tsevnWT2",
        "outputId": "9d81d4f6-bbc9-42f8-f42d-cf199c0641f7"
      },
      "execution_count": null,
      "outputs": [
        {
          "output_type": "stream",
          "name": "stderr",
          "text": [
            "/usr/local/lib/python3.11/dist-packages/keras/src/layers/reshaping/flatten.py:37: UserWarning: Do not pass an `input_shape`/`input_dim` argument to a layer. When using Sequential models, prefer using an `Input(shape)` object as the first layer in the model instead.\n",
            "  super().__init__(**kwargs)\n"
          ]
        }
      ]
    },
    {
      "cell_type": "markdown",
      "source": [
        "For each example, the model returns a vector of logits or log-odds scores, one for each class."
      ],
      "metadata": {
        "id": "sE8Bz2PyqY2b"
      }
    },
    {
      "cell_type": "code",
      "source": [
        "predictions = model(x_train[:1]).numpy()\n",
        "predictions"
      ],
      "metadata": {
        "colab": {
          "base_uri": "https://localhost:8080/"
        },
        "id": "ReqKDiUGnzaI",
        "outputId": "6b160e9a-0d2b-4529-ed11-9763a1417113"
      },
      "execution_count": null,
      "outputs": [
        {
          "output_type": "execute_result",
          "data": {
            "text/plain": [
              "array([[-0.8770466 , -0.22437695, -0.46914947,  0.41602507, -0.19913813,\n",
              "        -0.19627443, -0.40551683, -0.06523189,  0.29083237,  0.63028276]],\n",
              "      dtype=float32)"
            ]
          },
          "metadata": {},
          "execution_count": 164
        }
      ]
    },
    {
      "cell_type": "markdown",
      "source": [
        "The `tf.nn.softmax` function converts these logits to probabilities for each class.\n",
        "\n",
        "* `Softmax` is a mathematical function that converts a vector of numbers into a vector of probabilities, where the probabilities of each value are proportional to the relative scale of each value in the vector.\n",
        "> Link to [Softmax Activation Function with Python](https://machinelearningmastery.com/softmax-activation-function-with-python/)"
      ],
      "metadata": {
        "id": "BShEUwSYqaEC"
      }
    },
    {
      "cell_type": "code",
      "source": [
        "tf.nn.softmax(predictions).numpy()"
      ],
      "metadata": {
        "colab": {
          "base_uri": "https://localhost:8080/"
        },
        "id": "n6cqIsp0n-P0",
        "outputId": "384c6dec-4527-4eca-e94e-daff387d70ef"
      },
      "execution_count": null,
      "outputs": [
        {
          "output_type": "execute_result",
          "data": {
            "text/plain": [
              "array([[0.04237703, 0.08139193, 0.06372033, 0.1544203 , 0.0834723 ,\n",
              "        0.0837117 , 0.0679068 , 0.09543268, 0.13624918, 0.19131778]],\n",
              "      dtype=float32)"
            ]
          },
          "metadata": {},
          "execution_count": 165
        }
      ]
    },
    {
      "cell_type": "markdown",
      "source": [
        "Define a loss function for training using `losses.SparseCategoricalCrossentropy`.\n",
        "\n",
        "* The Keras `losses` function is to compute the quantity that a model should seek to minimze during taining.\n",
        "* **Cross-Entropy Loss Function**: Cross-Entropy Loss is also known as logarithmic loss, log loss or logistic loss. Each probability of the predicted class is compared with the actual class and loss is calculated which penalizes the probability based on how far it is from the actual expected value. The penalty is logarithmic in nature yielding a large score for large differences close to 1 and small score for small differences tending to 0. A perfect model has a cross-entropy loss of 0.\n",
        "* **Categorical Cross-Entropy and Sparse Categorical Cross-Entropy**: Both categorical cross entropy and sparse categorical cross-entropy have the same loss function as defined above. The only difference between the two is on how labels are defined.\n",
        "> **Categorical cross-entropy** is used when we have to deal with the labels that are one-hot encoded, for example, we have the following values for 3-class classification problem [1,0,0], [0,1,0] and [0,0,1].\n",
        "> In **sparse categorical cross-entropy** , labels are integer encoded, for example, [1], [2] and [3] for 3-class problem.\n",
        "> Link to [Here is what you need to know about Sparse Categorical Cross Entropy in nutshell](https://vevesta.substack.com/p/here-is-what-you-need-to-know-about)"
      ],
      "metadata": {
        "id": "26KFfYJUrDRf"
      }
    },
    {
      "cell_type": "code",
      "source": [
        "loss_fn = tf.keras.losses.SparseCategoricalCrossentropy(from_logits=True)"
      ],
      "metadata": {
        "id": "FVMYOq1Kn-M0"
      },
      "execution_count": null,
      "outputs": []
    },
    {
      "cell_type": "code",
      "source": [
        "loss_fn(y_train[:1], predictions).numpy()"
      ],
      "metadata": {
        "colab": {
          "base_uri": "https://localhost:8080/"
        },
        "id": "LBoa-O2On-KA",
        "outputId": "d73b6a35-8d70-4cf9-cf30-052b7af77270"
      },
      "execution_count": null,
      "outputs": [
        {
          "output_type": "execute_result",
          "data": {
            "text/plain": [
              "2.4803767"
            ]
          },
          "metadata": {},
          "execution_count": 167
        }
      ]
    },
    {
      "cell_type": "markdown",
      "source": [
        "Before you start training, configure and compile the model using Keras `Model.compile`. Set the `optimizer` class to `adam`, set the `loss` to the `loss_fn` function you defined earlier, and specify `metrics`to be evaluated for the model by setting the metrics parameter to `accuracy`.\n",
        "\n",
        "* `adam`: The Adam (Adaptive Moment Estimation) Optimizer adjusts learning rates to improve the training of deep neural networks.\n",
        "  * **Adapts learning rates**: adjusts the learning rate for each parameter based on its gradient history, helping the network learn more efficiently.\n",
        "  * **Uses momentum**: uses momentum to help navigate complex surfaces.\n",
        "  * **Corrects for bias**: includes bias correction terms to help perform well early in training.\n",
        "  * **Adapts to gradient**: takes smaller steps in areas where the gradient changes rapidly, and larger steps in areas where the gradient changes slowly.  \n",
        "* `accuracy` measures how well a model predicts the correct outcome by dividing the number of correct predictions by the total number of predictions."
      ],
      "metadata": {
        "id": "9EhLBAngsuUo"
      }
    },
    {
      "cell_type": "code",
      "source": [
        "model.compile(optimizer='adam',\n",
        "              loss=loss_fn,\n",
        "              metrics=['accuracy'])"
      ],
      "metadata": {
        "id": "-vY_isflsnza"
      },
      "execution_count": null,
      "outputs": []
    },
    {
      "cell_type": "markdown",
      "source": [
        "Train and evaluate your model.\n",
        "\n",
        "* Uses `model.fit` method to adjust your model parameters and minimize the loss.\n",
        "* The Keras `.fit()` method is used to train a model.\n",
        "  * Adjusts model parameters: primary purpose of `.fit()` is to adjust the model's internal parameters (weights and biases) to minimize the loss function and improve it predictive accuracy.\n",
        "  * Iterates over data: iterates through the training data for a specified number of epochs (passes over the entire dataset). In each epoch, the data is divided into batches, and the model's parameters are updated based on the gradients calculated from each batch.\n",
        "  * Tracks performance: tracks the model's performance during training by evaluating it on the validation data (if provided). Helps monitor overfitting and assess the model's generalization capabilities.\n",
        "  * Returns a history object: returns a history object that contains information the trianing process, such as the loss metric values for each epoch, on both the trianing and validation sets."
      ],
      "metadata": {
        "id": "qVLt4OtQumYZ"
      }
    },
    {
      "cell_type": "code",
      "source": [
        "model.fit(x_train, y_train, epochs=5)"
      ],
      "metadata": {
        "colab": {
          "base_uri": "https://localhost:8080/"
        },
        "id": "TaztVo64uj9b",
        "outputId": "81341a58-98c0-4208-d1b6-19f4d70ca4b0"
      },
      "execution_count": null,
      "outputs": [
        {
          "output_type": "stream",
          "name": "stdout",
          "text": [
            "Epoch 1/5\n",
            "\u001b[1m1875/1875\u001b[0m \u001b[32m━━━━━━━━━━━━━━━━━━━━\u001b[0m\u001b[37m\u001b[0m \u001b[1m9s\u001b[0m 4ms/step - accuracy: 0.8595 - loss: 0.4813\n",
            "Epoch 2/5\n",
            "\u001b[1m1875/1875\u001b[0m \u001b[32m━━━━━━━━━━━━━━━━━━━━\u001b[0m\u001b[37m\u001b[0m \u001b[1m6s\u001b[0m 3ms/step - accuracy: 0.9542 - loss: 0.1562\n",
            "Epoch 3/5\n",
            "\u001b[1m1875/1875\u001b[0m \u001b[32m━━━━━━━━━━━━━━━━━━━━\u001b[0m\u001b[37m\u001b[0m \u001b[1m8s\u001b[0m 4ms/step - accuracy: 0.9658 - loss: 0.1128\n",
            "Epoch 4/5\n",
            "\u001b[1m1875/1875\u001b[0m \u001b[32m━━━━━━━━━━━━━━━━━━━━\u001b[0m\u001b[37m\u001b[0m \u001b[1m9s\u001b[0m 4ms/step - accuracy: 0.9731 - loss: 0.0888\n",
            "Epoch 5/5\n",
            "\u001b[1m1875/1875\u001b[0m \u001b[32m━━━━━━━━━━━━━━━━━━━━\u001b[0m\u001b[37m\u001b[0m \u001b[1m8s\u001b[0m 4ms/step - accuracy: 0.9739 - loss: 0.0801\n"
          ]
        },
        {
          "output_type": "execute_result",
          "data": {
            "text/plain": [
              "<keras.src.callbacks.history.History at 0x7e0b34db8f90>"
            ]
          },
          "metadata": {},
          "execution_count": 169
        }
      ]
    },
    {
      "cell_type": "markdown",
      "source": [
        "The `model.evaluate` method checks the model's performance, usually on a *validation set* or *test set*.\n",
        "\n",
        "* The `verbose` argument controls the amount of output displayed during evaluation.\n",
        " * `verbose=0`: No output is displayed during evaluation (silent mode).\n",
        " * `verbose=1`: A progress bar is displayed, showing the progress of the evaluation process.\n",
        " * `verbose=2`: A single line of output is displayed per epoch, showing the loss and any metrics you've specified."
      ],
      "metadata": {
        "id": "z9kCSpncwWHE"
      }
    },
    {
      "cell_type": "code",
      "source": [
        "model.evaluate(x_test, y_test, verbose=2)"
      ],
      "metadata": {
        "colab": {
          "base_uri": "https://localhost:8080/"
        },
        "id": "Rj1z0rj_wGEU",
        "outputId": "d086c54d-abf2-4f7c-ed22-4f49411b8ed7"
      },
      "execution_count": null,
      "outputs": [
        {
          "output_type": "stream",
          "name": "stdout",
          "text": [
            "313/313 - 1s - 3ms/step - accuracy: 0.9753 - loss: 0.0789\n"
          ]
        },
        {
          "output_type": "execute_result",
          "data": {
            "text/plain": [
              "[0.07890551537275314, 0.9753000140190125]"
            ]
          },
          "metadata": {},
          "execution_count": 170
        }
      ]
    },
    {
      "cell_type": "markdown",
      "source": [
        "The image classifier is now trained to ~98% (accuracy: 0.9753) accuracy on this dataset.\n",
        "\n",
        "If you want your model to return a probability, you can wrap the trained model, and attach the softmax to it:"
      ],
      "metadata": {
        "id": "Xg9UN1rsxHyR"
      }
    },
    {
      "cell_type": "code",
      "source": [
        "probability_model = tf.keras.Sequential([\n",
        "  model,\n",
        "  tf.keras.layers.Softmax()\n",
        "])"
      ],
      "metadata": {
        "id": "Rns9RWd5w_Kf"
      },
      "execution_count": null,
      "outputs": []
    },
    {
      "cell_type": "code",
      "source": [
        "probability_model(x_test[:5])"
      ],
      "metadata": {
        "colab": {
          "base_uri": "https://localhost:8080/"
        },
        "id": "ae0I1FLbxX0L",
        "outputId": "6021940b-95e6-4a6c-d049-eaeba2f41e24"
      },
      "execution_count": null,
      "outputs": [
        {
          "output_type": "execute_result",
          "data": {
            "text/plain": [
              "<tf.Tensor: shape=(5, 10), dtype=float32, numpy=\n",
              "array([[1.4707219e-07, 1.6401824e-08, 5.6507424e-06, 1.6328956e-04,\n",
              "        4.7333342e-11, 6.7296838e-07, 5.5102927e-13, 9.9982589e-01,\n",
              "        2.5402201e-07, 4.0905729e-06],\n",
              "       [1.2968377e-08, 2.3084586e-03, 9.9768269e-01, 8.0520686e-06,\n",
              "        2.5141649e-12, 3.0407901e-07, 3.5375993e-07, 6.5962808e-12,\n",
              "        8.3211958e-08, 9.9173382e-14],\n",
              "       [1.9834161e-08, 9.9929714e-01, 7.1342401e-05, 6.1357732e-06,\n",
              "        2.2444752e-05, 4.3835257e-06, 3.3717159e-05, 3.0632631e-04,\n",
              "        2.5809609e-04, 3.2196064e-07],\n",
              "       [9.9968946e-01, 1.2203163e-08, 2.0163327e-05, 2.8757888e-06,\n",
              "        9.0377343e-06, 3.3824697e-06, 6.2532657e-05, 2.7590240e-05,\n",
              "        1.1542484e-07, 1.8489688e-04],\n",
              "       [1.8808317e-06, 1.7034562e-09, 1.0265546e-06, 2.4659406e-07,\n",
              "        9.9551302e-01, 2.6137926e-08, 1.8892902e-06, 2.0419879e-04,\n",
              "        3.3259053e-07, 4.2772526e-03]], dtype=float32)>"
            ]
          },
          "metadata": {},
          "execution_count": 173
        }
      ]
    },
    {
      "cell_type": "code",
      "source": [],
      "metadata": {
        "id": "XNfQqb95xeRB"
      },
      "execution_count": null,
      "outputs": []
    }
  ]
}